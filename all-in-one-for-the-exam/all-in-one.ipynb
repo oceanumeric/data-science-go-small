{
 "cells": [
  {
   "cell_type": "markdown",
   "metadata": {},
   "source": [
    "# All in One for the Exam\n",
    "\n",
    "Time flies, and the exam is coming. To help you to review the course, we have prepared this notebook, which contains all the materials we have covered in the course. We hope this notebook can help you to review the course and prepare for the exam.\n",
    "\n",
    "This exam review document __does not cover the materials you studed from the lecture, whereas \n",
    "it only covers the materials from tutorial and lab__. You should also review the lecture materials.\n",
    "\n",
    "Here is the list of topics we have covered and will be covered in the exam:\n",
    "\n",
    "1. introduction to data.table\n",
    "2. using data.table to manipulate data\n",
    "3. basic data visualization\n",
    "4. introduction to linear regression\n",
    "5. introduction to logistic regression"
   ]
  },
  {
   "cell_type": "markdown",
   "metadata": {},
   "source": [
    "## 1. Introduction to data.table\n",
    "\n",
    "Broadly speaking, there are two kinds of data: __structured data__ and __unstructured data__. \n",
    "Structured data is data that has a structure, such as a table, whereas unstructured data is data that does not have a structure, such as a text file. In this course, we focus on structured data. This means all the data we will use look like tables, such \n",
    "as the following one:\n",
    "\n",
    "![data.table-example](../drawio/R-data-table-illustration.png)"
   ]
  },
  {
   "cell_type": "markdown",
   "metadata": {},
   "source": [
    "> Small story (will not be tested in the exam): I had a talk with a person who is the principal data scientist and  working for the government. He told me that the government is implementing a strategy called \"AI in 2030\". The goal of this strategy is to make the government to be more data-driven and AI-driven. He told me that every year they have to pay a lot of money to consultancies such as Boston Consulting Group (BCG) to do data analysis for them. He said that the government now is planning to combine data scientist and ChatGPT to do the data analysis. They are hoping that they could reduce 40% of the cost by doing so. The idea is that they will only hire BCG for those very complex data analysis tasks. For those simple tasks, they will use AI to do the data analysis. The main tool that BCG uses is Excel, SQL and Tableau. They are all table-based tools. This means having a good understanding of table-based data analysis is very important. This is why we start from data.table."
   ]
  },
  {
   "cell_type": "markdown",
   "metadata": {},
   "source": [
    "The basic syntax of data.table is summarized in the following illustration. __You will\n",
    "not be tested on the syntax of data.table in the exam__. However, you will be tested on the\n",
    "underlying concepts of data.table, such as the type of variables (integer, character, factor, etc.).\n",
    "In the future if you will be working as a data scientist, you can use data.table to do big\n",
    "data analysis. You will need to know the syntax of data.table for practical use not for the exam.\n",
    "\n",
    "![data.table-syntax](../drawio/R-data-table-illustration2.png)"
   ]
  },
  {
   "cell_type": "markdown",
   "metadata": {},
   "source": [
    "### 1.1 data.table Lab\n",
    "\n",
    "Now, we will use data.table to do some data analysis. We will use the `Community Innovation Survey` (CIS)\n",
    "to do the analysis. The CIS is a survey that is conducted by the European Union (EU) to collect data\n",
    "about innovation activities of firms. The survey we will use is the 2021 CIS from Germany."
   ]
  },
  {
   "cell_type": "code",
   "execution_count": 15,
   "metadata": {
    "vscode": {
     "languageId": "r"
    }
   },
   "outputs": [
    {
     "name": "stderr",
     "output_type": "stream",
     "text": [
      "Installing package into '/usr/local/lib/R/site-library'\n",
      "(as 'lib' is unspecified)\n",
      "\n",
      "Installing package into '/usr/local/lib/R/site-library'\n",
      "(as 'lib' is unspecified)\n",
      "\n"
     ]
    }
   ],
   "source": [
    "# install packages\n",
    "install.packages(\"stargazer\")\n",
    "# install ISLR if you don't have it\n",
    "# install.packages(\"ISLR\")\n",
    "install.packages(\"corrplot\")"
   ]
  },
  {
   "cell_type": "code",
   "execution_count": 16,
   "metadata": {
    "vscode": {
     "languageId": "r"
    }
   },
   "outputs": [
    {
     "name": "stderr",
     "output_type": "stream",
     "text": [
      "corrplot 0.92 loaded\n",
      "\n"
     ]
    }
   ],
   "source": [
    "# library for data analysis\n",
    "library(data.table)\n",
    "library(magrittr)\n",
    "library(ggplot2)\n",
    "library(knitr)\n",
    "library(stargazer)\n",
    "library(MASS)\n",
    "library(ISLR)\n",
    "library(corrplot)"
   ]
  },
  {
   "cell_type": "code",
   "execution_count": 5,
   "metadata": {
    "vscode": {
     "languageId": "r"
    }
   },
   "outputs": [],
   "source": [
    "# read data\n",
    "cis <- fread(\"https://raw.githubusercontent.com/oceanumeric/data-science-go-small/main/data/innovation_survey/extmidp21.csv\")"
   ]
  },
  {
   "cell_type": "code",
   "execution_count": 7,
   "metadata": {
    "vscode": {
     "languageId": "r"
    }
   },
   "outputs": [
    {
     "data": {
      "text/html": [
       "<style>\n",
       ".list-inline {list-style: none; margin:0; padding: 0}\n",
       ".list-inline>li {display: inline-block}\n",
       ".list-inline>li:not(:last-child)::after {content: \"\\00b7\"; padding: 0 .5ex}\n",
       "</style>\n",
       "<ol class=list-inline><li>5083</li><li>284</li></ol>\n"
      ],
      "text/latex": [
       "\\begin{enumerate*}\n",
       "\\item 5083\n",
       "\\item 284\n",
       "\\end{enumerate*}\n"
      ],
      "text/markdown": [
       "1. 5083\n",
       "2. 284\n",
       "\n",
       "\n"
      ],
      "text/plain": [
       "[1] 5083  284"
      ]
     },
     "metadata": {},
     "output_type": "display_data"
    }
   ],
   "source": [
    "# check dimension, which shows 5083 rows and 284 columns\n",
    "dim(cis)"
   ]
  },
  {
   "cell_type": "code",
   "execution_count": 8,
   "metadata": {
    "vscode": {
     "languageId": "r"
    }
   },
   "outputs": [
    {
     "data": {
      "text/html": [
       "<table class=\"dataframe\">\n",
       "<caption>A data.table: 6 x 284</caption>\n",
       "<thead>\n",
       "\t<tr><th scope=col>id</th><th scope=col>branche</th><th scope=col>bran_4</th><th scope=col>filter</th><th scope=col>ost</th><th scope=col>ustaat</th><th scope=col>gb</th><th scope=col>bges</th><th scope=col>gk3n</th><th scope=col>bges18</th><th scope=col>...</th><th scope=col>mkosts</th><th scope=col>mkosts19</th><th scope=col>wbp</th><th scope=col>wbp19</th><th scope=col>wbpx</th><th scope=col>wbp19x</th><th scope=col>invs</th><th scope=col>invs19</th><th scope=col>invsx</th><th scope=col>invs19x</th></tr>\n",
       "\t<tr><th scope=col>&lt;int&gt;</th><th scope=col>&lt;chr&gt;</th><th scope=col>&lt;chr&gt;</th><th scope=col>&lt;chr&gt;</th><th scope=col>&lt;chr&gt;</th><th scope=col>&lt;chr&gt;</th><th scope=col>&lt;chr&gt;</th><th scope=col>&lt;dbl&gt;</th><th scope=col>&lt;chr&gt;</th><th scope=col>&lt;dbl&gt;</th><th scope=col>...</th><th scope=col>&lt;chr&gt;</th><th scope=col>&lt;chr&gt;</th><th scope=col>&lt;dbl&gt;</th><th scope=col>&lt;dbl&gt;</th><th scope=col>&lt;chr&gt;</th><th scope=col>&lt;chr&gt;</th><th scope=col>&lt;dbl&gt;</th><th scope=col>&lt;dbl&gt;</th><th scope=col>&lt;chr&gt;</th><th scope=col>&lt;chr&gt;</th></tr>\n",
       "</thead>\n",
       "<tbody>\n",
       "\t<tr><td>300127</td><td>Elektroindustrie            </td><td>Forschungsintensive Industrie</td><td>nein</td><td>ost </td><td></td><td>Bereich</td><td> 38.401396</td><td>50-249Besch</td><td> 38.401398</td><td>...</td><td>        </td><td>        </td><td>         NA</td><td>        NA</td><td>              </td><td>              </td><td>         NA</td><td>        NA</td><td>              </td><td>              </td></tr>\n",
       "\t<tr><td>301003</td><td>Metallerzeugung/-bearbeitung</td><td><span style=white-space:pre-wrap>Sonstige Industrie           </span></td><td><span style=white-space:pre-wrap>ja  </span></td><td>ost </td><td></td><td>Bereich</td><td><span style=white-space:pre-wrap>  4.046923</span></td><td><span style=white-space:pre-wrap>&lt;50Besch   </span></td><td><span style=white-space:pre-wrap>  5.058653</span></td><td>...</td><td>.5&lt;=x&lt;.7</td><td>.5&lt;=x&lt;.7</td><td>0.000000000</td><td>0.00000000</td><td>keine Stutzung</td><td>keine Stutzung</td><td><span style=white-space:pre-wrap>         NA</span></td><td><span style=white-space:pre-wrap>        NA</span></td><td><span style=white-space:pre-wrap>              </span></td><td><span style=white-space:pre-wrap>              </span></td></tr>\n",
       "\t<tr><td>301078</td><td><span style=white-space:pre-wrap>Maschinenbau                </span></td><td>Forschungsintensive Industrie</td><td>nein</td><td>west</td><td></td><td>Bereich</td><td>497.850854</td><td>&gt;=250Besch </td><td><span style=white-space:pre-wrap>        NA</span></td><td>...</td><td>.4&lt;=x&lt;.5</td><td>.4&lt;=x&lt;.5</td><td>0.007223942</td><td>0.01153213</td><td>keine Stutzung</td><td>keine Stutzung</td><td>0.044347249</td><td>0.06277719</td><td>keine Stutzung</td><td>keine Stutzung</td></tr>\n",
       "\t<tr><td>301084</td><td><span style=white-space:pre-wrap>Energie/Bergbau/Mineraloel  </span></td><td><span style=white-space:pre-wrap>Sonstige Industrie           </span></td><td><span style=white-space:pre-wrap>ja  </span></td><td>west</td><td></td><td>Bereich</td><td>311.483458</td><td>50-249Besch</td><td>290.131770</td><td>...</td><td><span style=white-space:pre-wrap>x&gt;=.7   </span></td><td><span style=white-space:pre-wrap>x&gt;=.7   </span></td><td>0.031338606</td><td>0.03232491</td><td>keine Stutzung</td><td>keine Stutzung</td><td>0.002553067</td><td>0.00315247</td><td>keine Stutzung</td><td>keine Stutzung</td></tr>\n",
       "\t<tr><td>301189</td><td><span style=white-space:pre-wrap>Energie/Bergbau/Mineraloel  </span></td><td><span style=white-space:pre-wrap>Sonstige Industrie           </span></td><td>nein</td><td>west</td><td></td><td>Bereich</td><td>751.191355</td><td>&gt;=250Besch </td><td><span style=white-space:pre-wrap>        NA</span></td><td>...</td><td><span style=white-space:pre-wrap>x&gt;=.7   </span></td><td><span style=white-space:pre-wrap>x&gt;=.7   </span></td><td>0.008867039</td><td>0.01385574</td><td>keine Stutzung</td><td>keine Stutzung</td><td>0.153353320</td><td>0.09401360</td><td>keine Stutzung</td><td>keine Stutzung</td></tr>\n",
       "\t<tr><td>301282</td><td>Elektroindustrie            </td><td>Forschungsintensive Industrie</td><td>nein</td><td>west</td><td></td><td>Bereich</td><td>169.861436</td><td>50-249Besch</td><td>169.861430</td><td>...</td><td>        </td><td>        </td><td>         NA</td><td>        NA</td><td>              </td><td>              </td><td>         NA</td><td>        NA</td><td>              </td><td>              </td></tr>\n",
       "</tbody>\n",
       "</table>\n"
      ],
      "text/latex": [
       "A data.table: 6 x 284\n",
       "\\begin{tabular}{lllllllllllllllllllll}\n",
       " id & branche & bran\\_4 & filter & ost & ustaat & gb & bges & gk3n & bges18 & ... & mkosts & mkosts19 & wbp & wbp19 & wbpx & wbp19x & invs & invs19 & invsx & invs19x\\\\\n",
       " <int> & <chr> & <chr> & <chr> & <chr> & <chr> & <chr> & <dbl> & <chr> & <dbl> & ... & <chr> & <chr> & <dbl> & <dbl> & <chr> & <chr> & <dbl> & <dbl> & <chr> & <chr>\\\\\n",
       "\\hline\n",
       "\t 300127 & Elektroindustrie             & Forschungsintensive Industrie & nein & ost  &  & Bereich &  38.401396 & 50-249Besch &  38.401398 & ... &          &          &          NA &         NA &                &                &          NA &         NA &                &               \\\\\n",
       "\t 301003 & Metallerzeugung/-bearbeitung & Sonstige Industrie            & ja   & ost  &  & Bereich &   4.046923 & <50Besch    &   5.058653 & ... & .5<=x<.7 & .5<=x<.7 & 0.000000000 & 0.00000000 & keine Stutzung & keine Stutzung &          NA &         NA &                &               \\\\\n",
       "\t 301078 & Maschinenbau                 & Forschungsintensive Industrie & nein & west &  & Bereich & 497.850854 & >=250Besch  &         NA & ... & .4<=x<.5 & .4<=x<.5 & 0.007223942 & 0.01153213 & keine Stutzung & keine Stutzung & 0.044347249 & 0.06277719 & keine Stutzung & keine Stutzung\\\\\n",
       "\t 301084 & Energie/Bergbau/Mineraloel   & Sonstige Industrie            & ja   & west &  & Bereich & 311.483458 & 50-249Besch & 290.131770 & ... & x>=.7    & x>=.7    & 0.031338606 & 0.03232491 & keine Stutzung & keine Stutzung & 0.002553067 & 0.00315247 & keine Stutzung & keine Stutzung\\\\\n",
       "\t 301189 & Energie/Bergbau/Mineraloel   & Sonstige Industrie            & nein & west &  & Bereich & 751.191355 & >=250Besch  &         NA & ... & x>=.7    & x>=.7    & 0.008867039 & 0.01385574 & keine Stutzung & keine Stutzung & 0.153353320 & 0.09401360 & keine Stutzung & keine Stutzung\\\\\n",
       "\t 301282 & Elektroindustrie             & Forschungsintensive Industrie & nein & west &  & Bereich & 169.861436 & 50-249Besch & 169.861430 & ... &          &          &          NA &         NA &                &                &          NA &         NA &                &               \\\\\n",
       "\\end{tabular}\n"
      ],
      "text/markdown": [
       "\n",
       "A data.table: 6 x 284\n",
       "\n",
       "| id &lt;int&gt; | branche &lt;chr&gt; | bran_4 &lt;chr&gt; | filter &lt;chr&gt; | ost &lt;chr&gt; | ustaat &lt;chr&gt; | gb &lt;chr&gt; | bges &lt;dbl&gt; | gk3n &lt;chr&gt; | bges18 &lt;dbl&gt; | ... ... | mkosts &lt;chr&gt; | mkosts19 &lt;chr&gt; | wbp &lt;dbl&gt; | wbp19 &lt;dbl&gt; | wbpx &lt;chr&gt; | wbp19x &lt;chr&gt; | invs &lt;dbl&gt; | invs19 &lt;dbl&gt; | invsx &lt;chr&gt; | invs19x &lt;chr&gt; |\n",
       "|---|---|---|---|---|---|---|---|---|---|---|---|---|---|---|---|---|---|---|---|---|\n",
       "| 300127 | Elektroindustrie             | Forschungsintensive Industrie | nein | ost  | <!----> | Bereich |  38.401396 | 50-249Besch |  38.401398 | ... | <!----> | <!----> |          NA |         NA | <!----> | <!----> |          NA |         NA | <!----> | <!----> |\n",
       "| 301003 | Metallerzeugung/-bearbeitung | Sonstige Industrie            | ja   | ost  | <!----> | Bereich |   4.046923 | &lt;50Besch    |   5.058653 | ... | .5&lt;=x&lt;.7 | .5&lt;=x&lt;.7 | 0.000000000 | 0.00000000 | keine Stutzung | keine Stutzung |          NA |         NA | <!----> | <!----> |\n",
       "| 301078 | Maschinenbau                 | Forschungsintensive Industrie | nein | west | <!----> | Bereich | 497.850854 | &gt;=250Besch  |         NA | ... | .4&lt;=x&lt;.5 | .4&lt;=x&lt;.5 | 0.007223942 | 0.01153213 | keine Stutzung | keine Stutzung | 0.044347249 | 0.06277719 | keine Stutzung | keine Stutzung |\n",
       "| 301084 | Energie/Bergbau/Mineraloel   | Sonstige Industrie            | ja   | west | <!----> | Bereich | 311.483458 | 50-249Besch | 290.131770 | ... | x&gt;=.7    | x&gt;=.7    | 0.031338606 | 0.03232491 | keine Stutzung | keine Stutzung | 0.002553067 | 0.00315247 | keine Stutzung | keine Stutzung |\n",
       "| 301189 | Energie/Bergbau/Mineraloel   | Sonstige Industrie            | nein | west | <!----> | Bereich | 751.191355 | &gt;=250Besch  |         NA | ... | x&gt;=.7    | x&gt;=.7    | 0.008867039 | 0.01385574 | keine Stutzung | keine Stutzung | 0.153353320 | 0.09401360 | keine Stutzung | keine Stutzung |\n",
       "| 301282 | Elektroindustrie             | Forschungsintensive Industrie | nein | west | <!----> | Bereich | 169.861436 | 50-249Besch | 169.861430 | ... | <!----> | <!----> |          NA |         NA | <!----> | <!----> |          NA |         NA | <!----> | <!----> |\n",
       "\n"
      ],
      "text/plain": [
       "  id     branche                      bran_4                        filter ost \n",
       "1 300127 Elektroindustrie             Forschungsintensive Industrie nein   ost \n",
       "2 301003 Metallerzeugung/-bearbeitung Sonstige Industrie            ja     ost \n",
       "3 301078 Maschinenbau                 Forschungsintensive Industrie nein   west\n",
       "4 301084 Energie/Bergbau/Mineraloel   Sonstige Industrie            ja     west\n",
       "5 301189 Energie/Bergbau/Mineraloel   Sonstige Industrie            nein   west\n",
       "6 301282 Elektroindustrie             Forschungsintensive Industrie nein   west\n",
       "  ustaat gb      bges       gk3n        bges18     ... mkosts   mkosts19\n",
       "1        Bereich  38.401396 50-249Besch  38.401398 ...                  \n",
       "2        Bereich   4.046923 <50Besch      5.058653 ... .5<=x<.7 .5<=x<.7\n",
       "3        Bereich 497.850854 >=250Besch          NA ... .4<=x<.5 .4<=x<.5\n",
       "4        Bereich 311.483458 50-249Besch 290.131770 ... x>=.7    x>=.7   \n",
       "5        Bereich 751.191355 >=250Besch          NA ... x>=.7    x>=.7   \n",
       "6        Bereich 169.861436 50-249Besch 169.861430 ...                  \n",
       "  wbp         wbp19      wbpx           wbp19x         invs        invs19    \n",
       "1          NA         NA                                        NA         NA\n",
       "2 0.000000000 0.00000000 keine Stutzung keine Stutzung          NA         NA\n",
       "3 0.007223942 0.01153213 keine Stutzung keine Stutzung 0.044347249 0.06277719\n",
       "4 0.031338606 0.03232491 keine Stutzung keine Stutzung 0.002553067 0.00315247\n",
       "5 0.008867039 0.01385574 keine Stutzung keine Stutzung 0.153353320 0.09401360\n",
       "6          NA         NA                                        NA         NA\n",
       "  invsx          invs19x       \n",
       "1                              \n",
       "2                              \n",
       "3 keine Stutzung keine Stutzung\n",
       "4 keine Stutzung keine Stutzung\n",
       "5 keine Stutzung keine Stutzung\n",
       "6                              "
      ]
     },
     "metadata": {},
     "output_type": "display_data"
    }
   ],
   "source": [
    "# take a look at the first 5 rows\n",
    "head(cis)"
   ]
  },
  {
   "cell_type": "markdown",
   "metadata": {},
   "source": [
    "From the above table, we can see that we have:\n",
    "\n",
    "- integer variables: `id`\n",
    "- character variables: `branche`, `ost`, etc.\n",
    "- numeric variables (dbl): `bges`, `bges18`, etc."
   ]
  },
  {
   "cell_type": "code",
   "execution_count": 13,
   "metadata": {
    "vscode": {
     "languageId": "r"
    }
   },
   "outputs": [
    {
     "data": {
      "text/html": [
       "<table class=\"dataframe\">\n",
       "<caption>A data.table: 6 x 41</caption>\n",
       "<thead>\n",
       "\t<tr><th scope=col>bges</th><th scope=col>bges18</th><th scope=col>bges19</th><th scope=col>um18</th><th scope=col>lp18</th><th scope=col>um19</th><th scope=col>lp19</th><th scope=col>um</th><th scope=col>lp</th><th scope=col>exs</th><th scope=col>...</th><th scope=col>designs</th><th scope=col>softws19</th><th scope=col>softws</th><th scope=col>sv19s</th><th scope=col>svs</th><th scope=col>fuesp</th><th scope=col>wbp</th><th scope=col>wbp19</th><th scope=col>invs</th><th scope=col>invs19</th></tr>\n",
       "\t<tr><th scope=col>&lt;dbl&gt;</th><th scope=col>&lt;dbl&gt;</th><th scope=col>&lt;dbl&gt;</th><th scope=col>&lt;dbl&gt;</th><th scope=col>&lt;dbl&gt;</th><th scope=col>&lt;dbl&gt;</th><th scope=col>&lt;dbl&gt;</th><th scope=col>&lt;dbl&gt;</th><th scope=col>&lt;dbl&gt;</th><th scope=col>&lt;dbl&gt;</th><th scope=col>...</th><th scope=col>&lt;dbl&gt;</th><th scope=col>&lt;dbl&gt;</th><th scope=col>&lt;dbl&gt;</th><th scope=col>&lt;dbl&gt;</th><th scope=col>&lt;dbl&gt;</th><th scope=col>&lt;dbl&gt;</th><th scope=col>&lt;dbl&gt;</th><th scope=col>&lt;dbl&gt;</th><th scope=col>&lt;dbl&gt;</th><th scope=col>&lt;dbl&gt;</th></tr>\n",
       "</thead>\n",
       "<tbody>\n",
       "\t<tr><td> 38.401396</td><td> 38.401398</td><td> 38.401398</td><td>  2.5833666</td><td>0.06727272</td><td>  2.7230081</td><td>0.07090909</td><td>  2.4437252</td><td>0.06363636</td><td>0.19714285</td><td>...</td><td> 0</td><td>         NA</td><td>        NA</td><td>          NA</td><td>          NA</td><td>0.09090909</td><td>         NA</td><td>        NA</td><td>         NA</td><td>        NA</td></tr>\n",
       "\t<tr><td>  4.046923</td><td>  5.058653</td><td>  4.046923</td><td>  0.7658801</td><td>0.15140000</td><td>  0.6920238</td><td>0.17100000</td><td>  0.7203522</td><td>0.17800000</td><td>0.23033708</td><td>...</td><td> 0</td><td>0.000000000</td><td>0.00000000</td><td>          NA</td><td>          NA</td><td>        NA</td><td>0.000000000</td><td>0.00000000</td><td>         NA</td><td>        NA</td></tr>\n",
       "\t<tr><td>497.850854</td><td>        NA</td><td>        NA</td><td>113.4919047</td><td>0.19259430</td><td>120.3409829</td><td>0.22119477</td><td> 99.5714631</td><td>0.19166915</td><td>0.91077340</td><td>...</td><td>NA</td><td>         NA</td><td>        NA</td><td>0.7491919400</td><td>0.9608441000</td><td>0.02855289</td><td>0.007223942</td><td>0.01153213</td><td>0.044347249</td><td>0.06277719</td></tr>\n",
       "\t<tr><td>311.483458</td><td>290.131770</td><td>297.039670</td><td>126.4371650</td><td>0.41770956</td><td>145.0219247</td><td>0.46558467</td><td>197.2720191</td><td>0.59720910</td><td>0.02379891</td><td>...</td><td> 0</td><td>         NA</td><td>        NA</td><td>0.0268479640</td><td>0.0184635760</td><td>        NA</td><td>0.031338606</td><td>0.03232491</td><td>0.002553067</td><td>0.00315247</td></tr>\n",
       "\t<tr><td>751.191355</td><td>        NA</td><td>        NA</td><td>913.8067194</td><td>        NA</td><td>861.5917542</td><td>        NA</td><td>851.7221776</td><td>0.96375424</td><td>        NA</td><td>...</td><td> 0</td><td>0.004448857</td><td>0.00438082</td><td>0.0005065734</td><td>0.0005832769</td><td>        NA</td><td>0.008867039</td><td>0.01385574</td><td>0.153353320</td><td>0.09401360</td></tr>\n",
       "\t<tr><td>169.861436</td><td>169.861430</td><td>169.861430</td><td> 27.1778298</td><td>0.15384616</td><td> 28.5367210</td><td>0.16153847</td><td> 28.5367212</td><td>0.16153847</td><td>        NA</td><td>...</td><td>NA</td><td>         NA</td><td>        NA</td><td>          NA</td><td>          NA</td><td>        NA</td><td>         NA</td><td>        NA</td><td>         NA</td><td>        NA</td></tr>\n",
       "</tbody>\n",
       "</table>\n"
      ],
      "text/latex": [
       "A data.table: 6 x 41\n",
       "\\begin{tabular}{lllllllllllllllllllll}\n",
       " bges & bges18 & bges19 & um18 & lp18 & um19 & lp19 & um & lp & exs & ... & designs & softws19 & softws & sv19s & svs & fuesp & wbp & wbp19 & invs & invs19\\\\\n",
       " <dbl> & <dbl> & <dbl> & <dbl> & <dbl> & <dbl> & <dbl> & <dbl> & <dbl> & <dbl> & ... & <dbl> & <dbl> & <dbl> & <dbl> & <dbl> & <dbl> & <dbl> & <dbl> & <dbl> & <dbl>\\\\\n",
       "\\hline\n",
       "\t  38.401396 &  38.401398 &  38.401398 &   2.5833666 & 0.06727272 &   2.7230081 & 0.07090909 &   2.4437252 & 0.06363636 & 0.19714285 & ... &  0 &          NA &         NA &           NA &           NA & 0.09090909 &          NA &         NA &          NA &         NA\\\\\n",
       "\t   4.046923 &   5.058653 &   4.046923 &   0.7658801 & 0.15140000 &   0.6920238 & 0.17100000 &   0.7203522 & 0.17800000 & 0.23033708 & ... &  0 & 0.000000000 & 0.00000000 &           NA &           NA &         NA & 0.000000000 & 0.00000000 &          NA &         NA\\\\\n",
       "\t 497.850854 &         NA &         NA & 113.4919047 & 0.19259430 & 120.3409829 & 0.22119477 &  99.5714631 & 0.19166915 & 0.91077340 & ... & NA &          NA &         NA & 0.7491919400 & 0.9608441000 & 0.02855289 & 0.007223942 & 0.01153213 & 0.044347249 & 0.06277719\\\\\n",
       "\t 311.483458 & 290.131770 & 297.039670 & 126.4371650 & 0.41770956 & 145.0219247 & 0.46558467 & 197.2720191 & 0.59720910 & 0.02379891 & ... &  0 &          NA &         NA & 0.0268479640 & 0.0184635760 &         NA & 0.031338606 & 0.03232491 & 0.002553067 & 0.00315247\\\\\n",
       "\t 751.191355 &         NA &         NA & 913.8067194 &         NA & 861.5917542 &         NA & 851.7221776 & 0.96375424 &         NA & ... &  0 & 0.004448857 & 0.00438082 & 0.0005065734 & 0.0005832769 &         NA & 0.008867039 & 0.01385574 & 0.153353320 & 0.09401360\\\\\n",
       "\t 169.861436 & 169.861430 & 169.861430 &  27.1778298 & 0.15384616 &  28.5367210 & 0.16153847 &  28.5367212 & 0.16153847 &         NA & ... & NA &          NA &         NA &           NA &           NA &         NA &          NA &         NA &          NA &         NA\\\\\n",
       "\\end{tabular}\n"
      ],
      "text/markdown": [
       "\n",
       "A data.table: 6 x 41\n",
       "\n",
       "| bges &lt;dbl&gt; | bges18 &lt;dbl&gt; | bges19 &lt;dbl&gt; | um18 &lt;dbl&gt; | lp18 &lt;dbl&gt; | um19 &lt;dbl&gt; | lp19 &lt;dbl&gt; | um &lt;dbl&gt; | lp &lt;dbl&gt; | exs &lt;dbl&gt; | ... ... | designs &lt;dbl&gt; | softws19 &lt;dbl&gt; | softws &lt;dbl&gt; | sv19s &lt;dbl&gt; | svs &lt;dbl&gt; | fuesp &lt;dbl&gt; | wbp &lt;dbl&gt; | wbp19 &lt;dbl&gt; | invs &lt;dbl&gt; | invs19 &lt;dbl&gt; |\n",
       "|---|---|---|---|---|---|---|---|---|---|---|---|---|---|---|---|---|---|---|---|---|\n",
       "|  38.401396 |  38.401398 |  38.401398 |   2.5833666 | 0.06727272 |   2.7230081 | 0.07090909 |   2.4437252 | 0.06363636 | 0.19714285 | ... |  0 |          NA |         NA |           NA |           NA | 0.09090909 |          NA |         NA |          NA |         NA |\n",
       "|   4.046923 |   5.058653 |   4.046923 |   0.7658801 | 0.15140000 |   0.6920238 | 0.17100000 |   0.7203522 | 0.17800000 | 0.23033708 | ... |  0 | 0.000000000 | 0.00000000 |           NA |           NA |         NA | 0.000000000 | 0.00000000 |          NA |         NA |\n",
       "| 497.850854 |         NA |         NA | 113.4919047 | 0.19259430 | 120.3409829 | 0.22119477 |  99.5714631 | 0.19166915 | 0.91077340 | ... | NA |          NA |         NA | 0.7491919400 | 0.9608441000 | 0.02855289 | 0.007223942 | 0.01153213 | 0.044347249 | 0.06277719 |\n",
       "| 311.483458 | 290.131770 | 297.039670 | 126.4371650 | 0.41770956 | 145.0219247 | 0.46558467 | 197.2720191 | 0.59720910 | 0.02379891 | ... |  0 |          NA |         NA | 0.0268479640 | 0.0184635760 |         NA | 0.031338606 | 0.03232491 | 0.002553067 | 0.00315247 |\n",
       "| 751.191355 |         NA |         NA | 913.8067194 |         NA | 861.5917542 |         NA | 851.7221776 | 0.96375424 |         NA | ... |  0 | 0.004448857 | 0.00438082 | 0.0005065734 | 0.0005832769 |         NA | 0.008867039 | 0.01385574 | 0.153353320 | 0.09401360 |\n",
       "| 169.861436 | 169.861430 | 169.861430 |  27.1778298 | 0.15384616 |  28.5367210 | 0.16153847 |  28.5367212 | 0.16153847 |         NA | ... | NA |          NA |         NA |           NA |           NA |         NA |          NA |         NA |          NA |         NA |\n",
       "\n"
      ],
      "text/plain": [
       "  bges       bges18     bges19     um18        lp18       um19       \n",
       "1  38.401396  38.401398  38.401398   2.5833666 0.06727272   2.7230081\n",
       "2   4.046923   5.058653   4.046923   0.7658801 0.15140000   0.6920238\n",
       "3 497.850854         NA         NA 113.4919047 0.19259430 120.3409829\n",
       "4 311.483458 290.131770 297.039670 126.4371650 0.41770956 145.0219247\n",
       "5 751.191355         NA         NA 913.8067194         NA 861.5917542\n",
       "6 169.861436 169.861430 169.861430  27.1778298 0.15384616  28.5367210\n",
       "  lp19       um          lp         exs        ... designs softws19   \n",
       "1 0.07090909   2.4437252 0.06363636 0.19714285 ...  0               NA\n",
       "2 0.17100000   0.7203522 0.17800000 0.23033708 ...  0      0.000000000\n",
       "3 0.22119477  99.5714631 0.19166915 0.91077340 ... NA               NA\n",
       "4 0.46558467 197.2720191 0.59720910 0.02379891 ...  0               NA\n",
       "5         NA 851.7221776 0.96375424         NA ...  0      0.004448857\n",
       "6 0.16153847  28.5367212 0.16153847         NA ... NA               NA\n",
       "  softws     sv19s        svs          fuesp      wbp         wbp19     \n",
       "1         NA           NA           NA 0.09090909          NA         NA\n",
       "2 0.00000000           NA           NA         NA 0.000000000 0.00000000\n",
       "3         NA 0.7491919400 0.9608441000 0.02855289 0.007223942 0.01153213\n",
       "4         NA 0.0268479640 0.0184635760         NA 0.031338606 0.03232491\n",
       "5 0.00438082 0.0005065734 0.0005832769         NA 0.008867039 0.01385574\n",
       "6         NA           NA           NA         NA          NA         NA\n",
       "  invs        invs19    \n",
       "1          NA         NA\n",
       "2          NA         NA\n",
       "3 0.044347249 0.06277719\n",
       "4 0.002553067 0.00315247\n",
       "5 0.153353320 0.09401360\n",
       "6          NA         NA"
      ]
     },
     "metadata": {},
     "output_type": "display_data"
    }
   ],
   "source": [
    "# now we want to select all variables that are type of dbl (double - numeric like 3.1415926)\n",
    "# .SD means subset of data in j (select all columns)\n",
    "# .SDcols means subset columns that are double which is by = is.double\n",
    "# all things we will do in excel, SQL, or data.table can be summarized as\n",
    "# I want to do things on rows (i) or columns (j) by some conditions (by)\n",
    "# here we want to select all columns that are double\n",
    "cis %>%\n",
    "    # using [i, j, by] grammar\n",
    "    .[, .SD, .SDcols = is.double] %>% head()"
   ]
  },
  {
   "cell_type": "markdown",
   "metadata": {},
   "source": [
    "Before we continue, let's get to know the meaning of some variables (we have 41 numeric variables in total, so we will not cover all of them):\n",
    "\n",
    "- bges: number of employees (average from 2018 to 2020)\n",
    "- bges18: number of employees in 2018\n",
    "- um18: sales in 2018\n",
    "- lp19: labor productivity in 2019\n",
    "- softws19: software application intensity in 2019\n",
    "- wbp:  Weiterbildungskostenanteil (share of training costs)\n",
    "- invs:  Investitionsintensitaet (investment intensity)"
   ]
  },
  {
   "cell_type": "markdown",
   "metadata": {},
   "source": [
    "From the above table, you can see that we have many `NA` values. This is because the survey is a voluntary survey. This means that firms can choose whether they want to participate in the survey or not. If they choose to participate in the survey, they can choose whether they want to answer all the questions or not. This is why we have many `NA` values - missing values.\n",
    "\n",
    "This is very common in real-world data. To deal with this issue, we normally do the following (will not be tested in the exam):\n",
    "\n",
    "- check the number of missing values\n",
    "- check the pattern of missing values\n",
    "- decide whether we want to drop the missing values or impute the missing values"
   ]
  },
  {
   "cell_type": "code",
   "execution_count": 24,
   "metadata": {
    "vscode": {
     "languageId": "r"
    }
   },
   "outputs": [
    {
     "data": {
      "text/html": [
       "<table class=\"dataframe\">\n",
       "<caption>A data.table: 10 x 2</caption>\n",
       "<thead>\n",
       "\t<tr><th scope=col>rn</th><th scope=col>.</th></tr>\n",
       "\t<tr><th scope=col>&lt;chr&gt;</th><th scope=col>&lt;int&gt;</th></tr>\n",
       "</thead>\n",
       "<tbody>\n",
       "\t<tr><td>wmneup  </td><td>4902</td></tr>\n",
       "\t<tr><td>iap2022 </td><td>4337</td></tr>\n",
       "\t<tr><td>fueoefms</td><td>4320</td></tr>\n",
       "\t<tr><td>iap2021 </td><td>4242</td></tr>\n",
       "\t<tr><td>fuesp   </td><td>3745</td></tr>\n",
       "\t<tr><td>exeup   </td><td>3247</td></tr>\n",
       "\t<tr><td>exsop   </td><td>3247</td></tr>\n",
       "\t<tr><td>exgbp   </td><td>3241</td></tr>\n",
       "\t<tr><td>ipkosts </td><td>3174</td></tr>\n",
       "\t<tr><td>ias     </td><td>3027</td></tr>\n",
       "</tbody>\n",
       "</table>\n"
      ],
      "text/latex": [
       "A data.table: 10 x 2\n",
       "\\begin{tabular}{ll}\n",
       " rn & .\\\\\n",
       " <chr> & <int>\\\\\n",
       "\\hline\n",
       "\t wmneup   & 4902\\\\\n",
       "\t iap2022  & 4337\\\\\n",
       "\t fueoefms & 4320\\\\\n",
       "\t iap2021  & 4242\\\\\n",
       "\t fuesp    & 3745\\\\\n",
       "\t exeup    & 3247\\\\\n",
       "\t exsop    & 3247\\\\\n",
       "\t exgbp    & 3241\\\\\n",
       "\t ipkosts  & 3174\\\\\n",
       "\t ias      & 3027\\\\\n",
       "\\end{tabular}\n"
      ],
      "text/markdown": [
       "\n",
       "A data.table: 10 x 2\n",
       "\n",
       "| rn &lt;chr&gt; | . &lt;int&gt; |\n",
       "|---|---|\n",
       "| wmneup   | 4902 |\n",
       "| iap2022  | 4337 |\n",
       "| fueoefms | 4320 |\n",
       "| iap2021  | 4242 |\n",
       "| fuesp    | 3745 |\n",
       "| exeup    | 3247 |\n",
       "| exsop    | 3247 |\n",
       "| exgbp    | 3241 |\n",
       "| ipkosts  | 3174 |\n",
       "| ias      | 3027 |\n",
       "\n"
      ],
      "text/plain": [
       "   rn       .   \n",
       "1  wmneup   4902\n",
       "2  iap2022  4337\n",
       "3  fueoefms 4320\n",
       "4  iap2021  4242\n",
       "5  fuesp    3745\n",
       "6  exeup    3247\n",
       "7  exsop    3247\n",
       "8  exgbp    3241\n",
       "9  ipkosts  3174\n",
       "10 ias      3027"
      ]
     },
     "metadata": {},
     "output_type": "display_data"
    }
   ],
   "source": [
    "# check the number of missing values in each column\n",
    "cis %>%\n",
    "    .[, .SD, .SDcols = is.double] %>%\n",
    "    # check the number of missing values in each column\n",
    "    sapply(function(x) sum(is.na(x))) %>%\n",
    "    # sort the number of missing values in each column\n",
    "    sort(decreasing = TRUE) %>%\n",
    "    # convert to data.table and keep rownames as a column\n",
    "    as.data.table(keep.rownames = TRUE) %>%\n",
    "    head(10)"
   ]
  },
  {
   "cell_type": "markdown",
   "metadata": {},
   "source": [
    "#### Missing Values\n",
    "\n",
    "- wmenup: Umsatzanteil der Weltmarktneuheiten in 2020 (share of world market novelties in 2020)\n",
    "- lap2022:  Entw. Innovationsaufw. 2022 in % (Development of innovation expenditure 2022 in %)\n",
    "- fueoefms:  Intensitaet öffentliche FuE-Förderung (Intensity of public R&D funding)\n",
    "\n",
    "We do not know exactly why we have so many missing values. However, we can guess that the reason is that the firms do not want to disclose the information or do not have information. For instance, because of the pandemic in 2020,\n",
    "many firms might not have the information about the share of world market novelties in 2020. \n",
    "This could be the reason why we have so many missing values for `wmenup`.\n",
    "\n",
    "We have shown that the sample size is 5083, if one variable has more than 50% missing values, we will drop this variable.\n",
    "This is because we can do nothing about this variable. If we impute the missing values, we will introduce bias to the data."
   ]
  },
  {
   "cell_type": "code",
   "execution_count": 25,
   "metadata": {
    "vscode": {
     "languageId": "r"
    }
   },
   "outputs": [
    {
     "data": {
      "text/html": [
       "<style>\n",
       ".list-inline {list-style: none; margin:0; padding: 0}\n",
       ".list-inline>li {display: inline-block}\n",
       ".list-inline>li:not(:last-child)::after {content: \"\\00b7\"; padding: 0 .5ex}\n",
       "</style>\n",
       "<ol class=list-inline><li>5083</li><li>284</li></ol>\n"
      ],
      "text/latex": [
       "\\begin{enumerate*}\n",
       "\\item 5083\n",
       "\\item 284\n",
       "\\end{enumerate*}\n"
      ],
      "text/markdown": [
       "1. 5083\n",
       "2. 284\n",
       "\n",
       "\n"
      ],
      "text/plain": [
       "[1] 5083  284"
      ]
     },
     "metadata": {},
     "output_type": "display_data"
    }
   ],
   "source": [
    "dim(cis)"
   ]
  },
  {
   "cell_type": "code",
   "execution_count": 29,
   "metadata": {
    "vscode": {
     "languageId": "r"
    }
   },
   "outputs": [
    {
     "data": {
      "text/html": [
       "<table class=\"dataframe\">\n",
       "<caption>A data.table: 6 x 2</caption>\n",
       "<thead>\n",
       "\t<tr><th scope=col>rn</th><th scope=col>.</th></tr>\n",
       "\t<tr><th scope=col>&lt;chr&gt;</th><th scope=col>&lt;int&gt;</th></tr>\n",
       "</thead>\n",
       "<tbody>\n",
       "\t<tr><td>wmneup  </td><td>4902</td></tr>\n",
       "\t<tr><td>iap2022 </td><td>4337</td></tr>\n",
       "\t<tr><td>fueoefms</td><td>4320</td></tr>\n",
       "\t<tr><td>iap2021 </td><td>4242</td></tr>\n",
       "\t<tr><td>fuesp   </td><td>3745</td></tr>\n",
       "\t<tr><td>exeup   </td><td>3247</td></tr>\n",
       "</tbody>\n",
       "</table>\n"
      ],
      "text/latex": [
       "A data.table: 6 x 2\n",
       "\\begin{tabular}{ll}\n",
       " rn & .\\\\\n",
       " <chr> & <int>\\\\\n",
       "\\hline\n",
       "\t wmneup   & 4902\\\\\n",
       "\t iap2022  & 4337\\\\\n",
       "\t fueoefms & 4320\\\\\n",
       "\t iap2021  & 4242\\\\\n",
       "\t fuesp    & 3745\\\\\n",
       "\t exeup    & 3247\\\\\n",
       "\\end{tabular}\n"
      ],
      "text/markdown": [
       "\n",
       "A data.table: 6 x 2\n",
       "\n",
       "| rn &lt;chr&gt; | . &lt;int&gt; |\n",
       "|---|---|\n",
       "| wmneup   | 4902 |\n",
       "| iap2022  | 4337 |\n",
       "| fueoefms | 4320 |\n",
       "| iap2021  | 4242 |\n",
       "| fuesp    | 3745 |\n",
       "| exeup    | 3247 |\n",
       "\n"
      ],
      "text/plain": [
       "  rn       .   \n",
       "1 wmneup   4902\n",
       "2 iap2022  4337\n",
       "3 fueoefms 4320\n",
       "4 iap2021  4242\n",
       "5 fuesp    3745\n",
       "6 exeup    3247"
      ]
     },
     "metadata": {},
     "output_type": "display_data"
    }
   ],
   "source": [
    "# get variable names that have more than 50% missing values\n",
    "cis %>%\n",
    "    .[, .SD, .SDcols = is.double] %>%\n",
    "    # check the number of missing values in each column\n",
    "    sapply(function(x) sum(is.na(x))) %>%\n",
    "    # sort the number of missing values in each column\n",
    "    sort(decreasing = TRUE) %>%\n",
    "    # convert to data.table and keep rownames as a column\n",
    "    as.data.table(keep.rownames = TRUE) %>%\n",
    "    head()\n",
    "# notice that the variable name of second column is a `.`\n",
    "# we will rename it as `num_missing` (number of missing values)"
   ]
  },
  {
   "cell_type": "code",
   "execution_count": 30,
   "metadata": {
    "vscode": {
     "languageId": "r"
    }
   },
   "outputs": [
    {
     "data": {
      "text/html": [
       "<table class=\"dataframe\">\n",
       "<caption>A data.table: 6 x 2</caption>\n",
       "<thead>\n",
       "\t<tr><th scope=col>rn</th><th scope=col>num_missing</th></tr>\n",
       "\t<tr><th scope=col>&lt;chr&gt;</th><th scope=col>&lt;int&gt;</th></tr>\n",
       "</thead>\n",
       "<tbody>\n",
       "\t<tr><td>wmneup  </td><td>4902</td></tr>\n",
       "\t<tr><td>iap2022 </td><td>4337</td></tr>\n",
       "\t<tr><td>fueoefms</td><td>4320</td></tr>\n",
       "\t<tr><td>iap2021 </td><td>4242</td></tr>\n",
       "\t<tr><td>fuesp   </td><td>3745</td></tr>\n",
       "\t<tr><td>exeup   </td><td>3247</td></tr>\n",
       "</tbody>\n",
       "</table>\n"
      ],
      "text/latex": [
       "A data.table: 6 x 2\n",
       "\\begin{tabular}{ll}\n",
       " rn & num\\_missing\\\\\n",
       " <chr> & <int>\\\\\n",
       "\\hline\n",
       "\t wmneup   & 4902\\\\\n",
       "\t iap2022  & 4337\\\\\n",
       "\t fueoefms & 4320\\\\\n",
       "\t iap2021  & 4242\\\\\n",
       "\t fuesp    & 3745\\\\\n",
       "\t exeup    & 3247\\\\\n",
       "\\end{tabular}\n"
      ],
      "text/markdown": [
       "\n",
       "A data.table: 6 x 2\n",
       "\n",
       "| rn &lt;chr&gt; | num_missing &lt;int&gt; |\n",
       "|---|---|\n",
       "| wmneup   | 4902 |\n",
       "| iap2022  | 4337 |\n",
       "| fueoefms | 4320 |\n",
       "| iap2021  | 4242 |\n",
       "| fuesp    | 3745 |\n",
       "| exeup    | 3247 |\n",
       "\n"
      ],
      "text/plain": [
       "  rn       num_missing\n",
       "1 wmneup   4902       \n",
       "2 iap2022  4337       \n",
       "3 fueoefms 4320       \n",
       "4 iap2021  4242       \n",
       "5 fuesp    3745       \n",
       "6 exeup    3247       "
      ]
     },
     "metadata": {},
     "output_type": "display_data"
    }
   ],
   "source": [
    "cis %>%\n",
    "    .[, .SD, .SDcols = is.double] %>%\n",
    "    # check the number of missing values in each column\n",
    "    sapply(function(x) sum(is.na(x))) %>%\n",
    "    # sort the number of missing values in each column\n",
    "    sort(decreasing = TRUE) %>%\n",
    "    # convert to data.table and keep rownames as a column\n",
    "    as.data.table(keep.rownames = TRUE) %>%\n",
    "    # rename the second column\n",
    "    setnames(., old = \".\", new = \"num_missing\") %>%\n",
    "    head()"
   ]
  },
  {
   "cell_type": "code",
   "execution_count": 31,
   "metadata": {
    "vscode": {
     "languageId": "r"
    }
   },
   "outputs": [
    {
     "data": {
      "text/html": [
       "<table class=\"dataframe\">\n",
       "<caption>A data.table: 6 x 3</caption>\n",
       "<thead>\n",
       "\t<tr><th scope=col>rn</th><th scope=col>num_missing</th><th scope=col>missing_rate</th></tr>\n",
       "\t<tr><th scope=col>&lt;chr&gt;</th><th scope=col>&lt;int&gt;</th><th scope=col>&lt;dbl&gt;</th></tr>\n",
       "</thead>\n",
       "<tbody>\n",
       "\t<tr><td>wmneup  </td><td>4902</td><td>0.9643911</td></tr>\n",
       "\t<tr><td>iap2022 </td><td>4337</td><td>0.8532363</td></tr>\n",
       "\t<tr><td>fueoefms</td><td>4320</td><td>0.8498918</td></tr>\n",
       "\t<tr><td>iap2021 </td><td>4242</td><td>0.8345465</td></tr>\n",
       "\t<tr><td>fuesp   </td><td>3745</td><td>0.7367696</td></tr>\n",
       "\t<tr><td>exeup   </td><td>3247</td><td>0.6387960</td></tr>\n",
       "</tbody>\n",
       "</table>\n"
      ],
      "text/latex": [
       "A data.table: 6 x 3\n",
       "\\begin{tabular}{lll}\n",
       " rn & num\\_missing & missing\\_rate\\\\\n",
       " <chr> & <int> & <dbl>\\\\\n",
       "\\hline\n",
       "\t wmneup   & 4902 & 0.9643911\\\\\n",
       "\t iap2022  & 4337 & 0.8532363\\\\\n",
       "\t fueoefms & 4320 & 0.8498918\\\\\n",
       "\t iap2021  & 4242 & 0.8345465\\\\\n",
       "\t fuesp    & 3745 & 0.7367696\\\\\n",
       "\t exeup    & 3247 & 0.6387960\\\\\n",
       "\\end{tabular}\n"
      ],
      "text/markdown": [
       "\n",
       "A data.table: 6 x 3\n",
       "\n",
       "| rn &lt;chr&gt; | num_missing &lt;int&gt; | missing_rate &lt;dbl&gt; |\n",
       "|---|---|---|\n",
       "| wmneup   | 4902 | 0.9643911 |\n",
       "| iap2022  | 4337 | 0.8532363 |\n",
       "| fueoefms | 4320 | 0.8498918 |\n",
       "| iap2021  | 4242 | 0.8345465 |\n",
       "| fuesp    | 3745 | 0.7367696 |\n",
       "| exeup    | 3247 | 0.6387960 |\n",
       "\n"
      ],
      "text/plain": [
       "  rn       num_missing missing_rate\n",
       "1 wmneup   4902        0.9643911   \n",
       "2 iap2022  4337        0.8532363   \n",
       "3 fueoefms 4320        0.8498918   \n",
       "4 iap2021  4242        0.8345465   \n",
       "5 fuesp    3745        0.7367696   \n",
       "6 exeup    3247        0.6387960   "
      ]
     },
     "metadata": {},
     "output_type": "display_data"
    }
   ],
   "source": [
    "cis %>%\n",
    "    .[, .SD, .SDcols = is.double] %>%\n",
    "    # check the number of missing values in each column\n",
    "    sapply(function(x) sum(is.na(x))) %>%\n",
    "    # sort the number of missing values in each column\n",
    "    sort(decreasing = TRUE) %>%\n",
    "    # convert to data.table and keep rownames as a column\n",
    "    as.data.table(keep.rownames = TRUE) %>%\n",
    "    # rename the second column\n",
    "    setnames(., old = \".\", new = \"num_missing\") %>%\n",
    "    # add missing percentage column\n",
    "    # nrow is the number of rows in the dataset nrow(cis) = dim(cis)[1] = 5083\n",
    "    .[, missing_rate := num_missing / nrow(cis)] %>%\n",
    "    head()"
   ]
  },
  {
   "cell_type": "markdown",
   "metadata": {},
   "source": [
    "> Normally, I will use `%>%` to do everything in one block. However, here I am trying to show you the steps one by one. So, you can see the process clearly."
   ]
  },
  {
   "cell_type": "code",
   "execution_count": 34,
   "metadata": {
    "vscode": {
     "languageId": "r"
    }
   },
   "outputs": [
    {
     "data": {
      "text/html": [
       "<table class=\"dataframe\">\n",
       "<caption>A data.table: 18 x 3</caption>\n",
       "<thead>\n",
       "\t<tr><th scope=col>rn</th><th scope=col>num_missing</th><th scope=col>missing_rate</th></tr>\n",
       "\t<tr><th scope=col>&lt;chr&gt;</th><th scope=col>&lt;int&gt;</th><th scope=col>&lt;dbl&gt;</th></tr>\n",
       "</thead>\n",
       "<tbody>\n",
       "\t<tr><td>wmneup    </td><td>4902</td><td>0.9643911</td></tr>\n",
       "\t<tr><td>iap2022   </td><td>4337</td><td>0.8532363</td></tr>\n",
       "\t<tr><td>fueoefms  </td><td>4320</td><td>0.8498918</td></tr>\n",
       "\t<tr><td>iap2021   </td><td>4242</td><td>0.8345465</td></tr>\n",
       "\t<tr><td>fuesp     </td><td>3745</td><td>0.7367696</td></tr>\n",
       "\t<tr><td>exeup     </td><td>3247</td><td>0.6387960</td></tr>\n",
       "\t<tr><td>exsop     </td><td>3247</td><td>0.6387960</td></tr>\n",
       "\t<tr><td>exgbp     </td><td>3241</td><td>0.6376156</td></tr>\n",
       "\t<tr><td>ipkosts   </td><td>3174</td><td>0.6244344</td></tr>\n",
       "\t<tr><td>ias       </td><td>3027</td><td>0.5955145</td></tr>\n",
       "\t<tr><td>iasos     </td><td>2856</td><td>0.5618729</td></tr>\n",
       "\t<tr><td>iavfues   </td><td>2762</td><td>0.5433799</td></tr>\n",
       "\t<tr><td>fue_bkosts</td><td>2744</td><td>0.5398387</td></tr>\n",
       "\t<tr><td>iainvs    </td><td>2710</td><td>0.5331497</td></tr>\n",
       "\t<tr><td>sv19s     </td><td>2696</td><td>0.5303954</td></tr>\n",
       "\t<tr><td>iafues    </td><td>2658</td><td>0.5229195</td></tr>\n",
       "\t<tr><td>svs       </td><td>2652</td><td>0.5217391</td></tr>\n",
       "\t<tr><td>fues      </td><td>2544</td><td>0.5004918</td></tr>\n",
       "</tbody>\n",
       "</table>\n"
      ],
      "text/latex": [
       "A data.table: 18 x 3\n",
       "\\begin{tabular}{lll}\n",
       " rn & num\\_missing & missing\\_rate\\\\\n",
       " <chr> & <int> & <dbl>\\\\\n",
       "\\hline\n",
       "\t wmneup     & 4902 & 0.9643911\\\\\n",
       "\t iap2022    & 4337 & 0.8532363\\\\\n",
       "\t fueoefms   & 4320 & 0.8498918\\\\\n",
       "\t iap2021    & 4242 & 0.8345465\\\\\n",
       "\t fuesp      & 3745 & 0.7367696\\\\\n",
       "\t exeup      & 3247 & 0.6387960\\\\\n",
       "\t exsop      & 3247 & 0.6387960\\\\\n",
       "\t exgbp      & 3241 & 0.6376156\\\\\n",
       "\t ipkosts    & 3174 & 0.6244344\\\\\n",
       "\t ias        & 3027 & 0.5955145\\\\\n",
       "\t iasos      & 2856 & 0.5618729\\\\\n",
       "\t iavfues    & 2762 & 0.5433799\\\\\n",
       "\t fue\\_bkosts & 2744 & 0.5398387\\\\\n",
       "\t iainvs     & 2710 & 0.5331497\\\\\n",
       "\t sv19s      & 2696 & 0.5303954\\\\\n",
       "\t iafues     & 2658 & 0.5229195\\\\\n",
       "\t svs        & 2652 & 0.5217391\\\\\n",
       "\t fues       & 2544 & 0.5004918\\\\\n",
       "\\end{tabular}\n"
      ],
      "text/markdown": [
       "\n",
       "A data.table: 18 x 3\n",
       "\n",
       "| rn &lt;chr&gt; | num_missing &lt;int&gt; | missing_rate &lt;dbl&gt; |\n",
       "|---|---|---|\n",
       "| wmneup     | 4902 | 0.9643911 |\n",
       "| iap2022    | 4337 | 0.8532363 |\n",
       "| fueoefms   | 4320 | 0.8498918 |\n",
       "| iap2021    | 4242 | 0.8345465 |\n",
       "| fuesp      | 3745 | 0.7367696 |\n",
       "| exeup      | 3247 | 0.6387960 |\n",
       "| exsop      | 3247 | 0.6387960 |\n",
       "| exgbp      | 3241 | 0.6376156 |\n",
       "| ipkosts    | 3174 | 0.6244344 |\n",
       "| ias        | 3027 | 0.5955145 |\n",
       "| iasos      | 2856 | 0.5618729 |\n",
       "| iavfues    | 2762 | 0.5433799 |\n",
       "| fue_bkosts | 2744 | 0.5398387 |\n",
       "| iainvs     | 2710 | 0.5331497 |\n",
       "| sv19s      | 2696 | 0.5303954 |\n",
       "| iafues     | 2658 | 0.5229195 |\n",
       "| svs        | 2652 | 0.5217391 |\n",
       "| fues       | 2544 | 0.5004918 |\n",
       "\n"
      ],
      "text/plain": [
       "   rn         num_missing missing_rate\n",
       "1  wmneup     4902        0.9643911   \n",
       "2  iap2022    4337        0.8532363   \n",
       "3  fueoefms   4320        0.8498918   \n",
       "4  iap2021    4242        0.8345465   \n",
       "5  fuesp      3745        0.7367696   \n",
       "6  exeup      3247        0.6387960   \n",
       "7  exsop      3247        0.6387960   \n",
       "8  exgbp      3241        0.6376156   \n",
       "9  ipkosts    3174        0.6244344   \n",
       "10 ias        3027        0.5955145   \n",
       "11 iasos      2856        0.5618729   \n",
       "12 iavfues    2762        0.5433799   \n",
       "13 fue_bkosts 2744        0.5398387   \n",
       "14 iainvs     2710        0.5331497   \n",
       "15 sv19s      2696        0.5303954   \n",
       "16 iafues     2658        0.5229195   \n",
       "17 svs        2652        0.5217391   \n",
       "18 fues       2544        0.5004918   "
      ]
     },
     "metadata": {},
     "output_type": "display_data"
    }
   ],
   "source": [
    "cis %>%\n",
    "    .[, .SD, .SDcols = is.double] %>%\n",
    "    # check the number of missing values in each column\n",
    "    sapply(function(x) sum(is.na(x))) %>%\n",
    "    # sort the number of missing values in each column\n",
    "    sort(decreasing = TRUE) %>%\n",
    "    # convert to data.table and keep rownames as a column\n",
    "    as.data.table(keep.rownames = TRUE) %>%\n",
    "    # rename the second column\n",
    "    setnames(., old = \".\", new = \"num_missing\") %>%\n",
    "    # add missing percentage column\n",
    "    # nrow is the number of rows in the dataset nrow(cis) = dim(cis)[1] = 5083\n",
    "    .[, missing_rate := num_missing / nrow(cis)] %>%\n",
    "    # filter variables that have missing rate > 0.5\n",
    "    # we are using [i, j, by] grammar again on rows now\n",
    "    .[missing_rate >= 0.5]\n",
    "\n",
    "# as you can see we have 18 variables that have missing rate > 0.5\n",
    "# we will remove them from the dataset"
   ]
  },
  {
   "cell_type": "code",
   "execution_count": 37,
   "metadata": {
    "vscode": {
     "languageId": "r"
    }
   },
   "outputs": [
    {
     "data": {
      "text/html": [
       "<style>\n",
       ".list-inline {list-style: none; margin:0; padding: 0}\n",
       ".list-inline>li {display: inline-block}\n",
       ".list-inline>li:not(:last-child)::after {content: \"\\00b7\"; padding: 0 .5ex}\n",
       "</style>\n",
       "<ol class=list-inline><li>'wmneup'</li><li>'iap2022'</li><li>'fueoefms'</li><li>'iap2021'</li><li>'fuesp'</li><li>'exeup'</li><li>'exsop'</li><li>'exgbp'</li><li>'ipkosts'</li><li>'ias'</li><li>'iasos'</li><li>'iavfues'</li><li>'fue_bkosts'</li><li>'iainvs'</li><li>'sv19s'</li><li>'iafues'</li><li>'svs'</li><li>'fues'</li></ol>\n"
      ],
      "text/latex": [
       "\\begin{enumerate*}\n",
       "\\item 'wmneup'\n",
       "\\item 'iap2022'\n",
       "\\item 'fueoefms'\n",
       "\\item 'iap2021'\n",
       "\\item 'fuesp'\n",
       "\\item 'exeup'\n",
       "\\item 'exsop'\n",
       "\\item 'exgbp'\n",
       "\\item 'ipkosts'\n",
       "\\item 'ias'\n",
       "\\item 'iasos'\n",
       "\\item 'iavfues'\n",
       "\\item 'fue\\_bkosts'\n",
       "\\item 'iainvs'\n",
       "\\item 'sv19s'\n",
       "\\item 'iafues'\n",
       "\\item 'svs'\n",
       "\\item 'fues'\n",
       "\\end{enumerate*}\n"
      ],
      "text/markdown": [
       "1. 'wmneup'\n",
       "2. 'iap2022'\n",
       "3. 'fueoefms'\n",
       "4. 'iap2021'\n",
       "5. 'fuesp'\n",
       "6. 'exeup'\n",
       "7. 'exsop'\n",
       "8. 'exgbp'\n",
       "9. 'ipkosts'\n",
       "10. 'ias'\n",
       "11. 'iasos'\n",
       "12. 'iavfues'\n",
       "13. 'fue_bkosts'\n",
       "14. 'iainvs'\n",
       "15. 'sv19s'\n",
       "16. 'iafues'\n",
       "17. 'svs'\n",
       "18. 'fues'\n",
       "\n",
       "\n"
      ],
      "text/plain": [
       " [1] \"wmneup\"     \"iap2022\"    \"fueoefms\"   \"iap2021\"    \"fuesp\"     \n",
       " [6] \"exeup\"      \"exsop\"      \"exgbp\"      \"ipkosts\"    \"ias\"       \n",
       "[11] \"iasos\"      \"iavfues\"    \"fue_bkosts\" \"iainvs\"     \"sv19s\"     \n",
       "[16] \"iafues\"     \"svs\"        \"fues\"      "
      ]
     },
     "metadata": {},
     "output_type": "display_data"
    }
   ],
   "source": [
    "cis %>%\n",
    "    .[, .SD, .SDcols = is.double] %>%\n",
    "    # check the number of missing values in each column\n",
    "    sapply(function(x) sum(is.na(x))) %>%\n",
    "    # sort the number of missing values in each column\n",
    "    sort(decreasing = TRUE) %>%\n",
    "    # convert to data.table and keep rownames as a column\n",
    "    as.data.table(keep.rownames = TRUE) %>%\n",
    "    # rename the second column\n",
    "    setnames(., old = \".\", new = \"num_missing\") %>%\n",
    "    # add missing percentage column\n",
    "    # nrow is the number of rows in the dataset nrow(cis) = dim(cis)[1] = 5083\n",
    "    .[, missing_rate := num_missing / nrow(cis)] %>%\n",
    "    # filter variables that have missing rate > 0.5\n",
    "    # we are using [i, j, by] grammar again on rows now\n",
    "    .[missing_rate >= 0.5] %>%\n",
    "    # select the first column as they are the variable names\n",
    "    # [i, j, by]\n",
    "    .[, rn]"
   ]
  },
  {
   "cell_type": "code",
   "execution_count": 7,
   "metadata": {
    "vscode": {
     "languageId": "r"
    }
   },
   "outputs": [],
   "source": [
    "cis %>%\n",
    "    .[, .SD, .SDcols = is.double] %>%\n",
    "    # check the number of missing values in each column\n",
    "    sapply(function(x) sum(is.na(x))) %>%\n",
    "    # sort the number of missing values in each column\n",
    "    sort(decreasing = TRUE) %>%\n",
    "    # convert to data.table and keep rownames as a column\n",
    "    as.data.table(keep.rownames = TRUE) %>%\n",
    "    # rename the second column\n",
    "    setnames(., old = \".\", new = \"num_missing\") %>%\n",
    "    # add missing percentage column\n",
    "    # nrow is the number of rows in the dataset nrow(cis) = dim(cis)[1] = 5083\n",
    "    .[, missing_rate := num_missing / nrow(cis)] %>%\n",
    "    # filter variables that have missing rate > 0.5\n",
    "    # we are using [i, j, by] grammar again on rows now\n",
    "    .[missing_rate >= 0.5] %>%\n",
    "    # select the first column as they are the variable names\n",
    "    # [i, j, by]\n",
    "    # save the variable names to a variable called vars_to_remove\n",
    "    .[, rn] -> vars_to_remove"
   ]
  },
  {
   "cell_type": "code",
   "execution_count": 43,
   "metadata": {
    "vscode": {
     "languageId": "r"
    }
   },
   "outputs": [
    {
     "data": {
      "text/html": [
       "<style>\n",
       ".list-inline {list-style: none; margin:0; padding: 0}\n",
       ".list-inline>li {display: inline-block}\n",
       ".list-inline>li:not(:last-child)::after {content: \"\\00b7\"; padding: 0 .5ex}\n",
       "</style>\n",
       "<ol class=list-inline><li>'wmneup'</li><li>'iap2022'</li><li>'fueoefms'</li><li>'iap2021'</li><li>'fuesp'</li><li>'exeup'</li><li>'exsop'</li><li>'exgbp'</li><li>'ipkosts'</li><li>'ias'</li><li>'iasos'</li><li>'iavfues'</li><li>'fue_bkosts'</li><li>'iainvs'</li><li>'sv19s'</li><li>'iafues'</li><li>'svs'</li><li>'fues'</li></ol>\n"
      ],
      "text/latex": [
       "\\begin{enumerate*}\n",
       "\\item 'wmneup'\n",
       "\\item 'iap2022'\n",
       "\\item 'fueoefms'\n",
       "\\item 'iap2021'\n",
       "\\item 'fuesp'\n",
       "\\item 'exeup'\n",
       "\\item 'exsop'\n",
       "\\item 'exgbp'\n",
       "\\item 'ipkosts'\n",
       "\\item 'ias'\n",
       "\\item 'iasos'\n",
       "\\item 'iavfues'\n",
       "\\item 'fue\\_bkosts'\n",
       "\\item 'iainvs'\n",
       "\\item 'sv19s'\n",
       "\\item 'iafues'\n",
       "\\item 'svs'\n",
       "\\item 'fues'\n",
       "\\end{enumerate*}\n"
      ],
      "text/markdown": [
       "1. 'wmneup'\n",
       "2. 'iap2022'\n",
       "3. 'fueoefms'\n",
       "4. 'iap2021'\n",
       "5. 'fuesp'\n",
       "6. 'exeup'\n",
       "7. 'exsop'\n",
       "8. 'exgbp'\n",
       "9. 'ipkosts'\n",
       "10. 'ias'\n",
       "11. 'iasos'\n",
       "12. 'iavfues'\n",
       "13. 'fue_bkosts'\n",
       "14. 'iainvs'\n",
       "15. 'sv19s'\n",
       "16. 'iafues'\n",
       "17. 'svs'\n",
       "18. 'fues'\n",
       "\n",
       "\n"
      ],
      "text/plain": [
       " [1] \"wmneup\"     \"iap2022\"    \"fueoefms\"   \"iap2021\"    \"fuesp\"     \n",
       " [6] \"exeup\"      \"exsop\"      \"exgbp\"      \"ipkosts\"    \"ias\"       \n",
       "[11] \"iasos\"      \"iavfues\"    \"fue_bkosts\" \"iainvs\"     \"sv19s\"     \n",
       "[16] \"iafues\"     \"svs\"        \"fues\"      "
      ]
     },
     "metadata": {},
     "output_type": "display_data"
    }
   ],
   "source": [
    "# in jupyter notebook we can use vars_to_remove to see the variable names\n",
    "vars_to_remove"
   ]
  },
  {
   "cell_type": "code",
   "execution_count": 8,
   "metadata": {
    "vscode": {
     "languageId": "r"
    }
   },
   "outputs": [
    {
     "name": "stdout",
     "output_type": "stream",
     "text": [
      " [1] \"wmneup\"     \"iap2022\"    \"fueoefms\"   \"iap2021\"    \"fuesp\"     \n",
      " [6] \"exeup\"      \"exsop\"      \"exgbp\"      \"ipkosts\"    \"ias\"       \n",
      "[11] \"iasos\"      \"iavfues\"    \"fue_bkosts\" \"iainvs\"     \"sv19s\"     \n",
      "[16] \"iafues\"     \"svs\"        \"fues\"      \n"
     ]
    }
   ],
   "source": [
    "# or you can print out the variable names\n",
    "print(vars_to_remove)"
   ]
  },
  {
   "cell_type": "code",
   "execution_count": 9,
   "metadata": {
    "vscode": {
     "languageId": "r"
    }
   },
   "outputs": [
    {
     "data": {
      "text/html": [
       "<table class=\"dataframe\">\n",
       "<caption>A data.table: 6 x 23</caption>\n",
       "<thead>\n",
       "\t<tr><th scope=col>bges</th><th scope=col>bges18</th><th scope=col>bges19</th><th scope=col>um18</th><th scope=col>lp18</th><th scope=col>um19</th><th scope=col>lp19</th><th scope=col>um</th><th scope=col>lp</th><th scope=col>exs</th><th scope=col>...</th><th scope=col>markets</th><th scope=col>markets19</th><th scope=col>designs19</th><th scope=col>designs</th><th scope=col>softws19</th><th scope=col>softws</th><th scope=col>wbp</th><th scope=col>wbp19</th><th scope=col>invs</th><th scope=col>invs19</th></tr>\n",
       "\t<tr><th scope=col>&lt;dbl&gt;</th><th scope=col>&lt;dbl&gt;</th><th scope=col>&lt;dbl&gt;</th><th scope=col>&lt;dbl&gt;</th><th scope=col>&lt;dbl&gt;</th><th scope=col>&lt;dbl&gt;</th><th scope=col>&lt;dbl&gt;</th><th scope=col>&lt;dbl&gt;</th><th scope=col>&lt;dbl&gt;</th><th scope=col>&lt;dbl&gt;</th><th scope=col>...</th><th scope=col>&lt;dbl&gt;</th><th scope=col>&lt;dbl&gt;</th><th scope=col>&lt;dbl&gt;</th><th scope=col>&lt;dbl&gt;</th><th scope=col>&lt;dbl&gt;</th><th scope=col>&lt;dbl&gt;</th><th scope=col>&lt;dbl&gt;</th><th scope=col>&lt;dbl&gt;</th><th scope=col>&lt;dbl&gt;</th><th scope=col>&lt;dbl&gt;</th></tr>\n",
       "</thead>\n",
       "<tbody>\n",
       "\t<tr><td> 38.401396</td><td> 38.401398</td><td> 38.401398</td><td>  2.5833666</td><td>0.06727272</td><td>  2.7230081</td><td>0.07090909</td><td>  2.4437252</td><td>0.06363636</td><td>0.19714285</td><td>...</td><td>         NA</td><td>         NA</td><td> 0</td><td> 0</td><td>         NA</td><td>        NA</td><td>         NA</td><td>        NA</td><td>         NA</td><td>        NA</td></tr>\n",
       "\t<tr><td>  4.046923</td><td>  5.058653</td><td>  4.046923</td><td>  0.7658801</td><td>0.15140000</td><td>  0.6920238</td><td>0.17100000</td><td>  0.7203522</td><td>0.17800000</td><td>0.23033708</td><td>...</td><td>0.000000000</td><td>0.000000000</td><td> 0</td><td> 0</td><td>0.000000000</td><td>0.00000000</td><td>0.000000000</td><td>0.00000000</td><td>         NA</td><td>        NA</td></tr>\n",
       "\t<tr><td>497.850854</td><td>        NA</td><td>        NA</td><td>113.4919047</td><td>0.19259430</td><td>120.3409829</td><td>0.22119477</td><td> 99.5714631</td><td>0.19166915</td><td>0.91077340</td><td>...</td><td>0.002829295</td><td>0.009468075</td><td>NA</td><td>NA</td><td>         NA</td><td>        NA</td><td>0.007223942</td><td>0.01153213</td><td>0.044347249</td><td>0.06277719</td></tr>\n",
       "\t<tr><td>311.483458</td><td>290.131770</td><td>297.039670</td><td>126.4371650</td><td>0.41770956</td><td>145.0219247</td><td>0.46558467</td><td>197.2720191</td><td>0.59720910</td><td>0.02379891</td><td>...</td><td>0.009550125</td><td>0.017433194</td><td> 0</td><td> 0</td><td>         NA</td><td>        NA</td><td>0.031338606</td><td>0.03232491</td><td>0.002553067</td><td>0.00315247</td></tr>\n",
       "\t<tr><td>751.191355</td><td>        NA</td><td>        NA</td><td>913.8067194</td><td>        NA</td><td>861.5917542</td><td>        NA</td><td>851.7221776</td><td>0.96375424</td><td>        NA</td><td>...</td><td>0.003540181</td><td>0.008151944</td><td> 0</td><td> 0</td><td>0.004448857</td><td>0.00438082</td><td>0.008867039</td><td>0.01385574</td><td>0.153353320</td><td>0.09401360</td></tr>\n",
       "\t<tr><td>169.861436</td><td>169.861430</td><td>169.861430</td><td> 27.1778298</td><td>0.15384616</td><td> 28.5367210</td><td>0.16153847</td><td> 28.5367212</td><td>0.16153847</td><td>        NA</td><td>...</td><td>         NA</td><td>         NA</td><td>NA</td><td>NA</td><td>         NA</td><td>        NA</td><td>         NA</td><td>        NA</td><td>         NA</td><td>        NA</td></tr>\n",
       "</tbody>\n",
       "</table>\n"
      ],
      "text/latex": [
       "A data.table: 6 x 23\n",
       "\\begin{tabular}{lllllllllllllllllllll}\n",
       " bges & bges18 & bges19 & um18 & lp18 & um19 & lp19 & um & lp & exs & ... & markets & markets19 & designs19 & designs & softws19 & softws & wbp & wbp19 & invs & invs19\\\\\n",
       " <dbl> & <dbl> & <dbl> & <dbl> & <dbl> & <dbl> & <dbl> & <dbl> & <dbl> & <dbl> & ... & <dbl> & <dbl> & <dbl> & <dbl> & <dbl> & <dbl> & <dbl> & <dbl> & <dbl> & <dbl>\\\\\n",
       "\\hline\n",
       "\t  38.401396 &  38.401398 &  38.401398 &   2.5833666 & 0.06727272 &   2.7230081 & 0.07090909 &   2.4437252 & 0.06363636 & 0.19714285 & ... &          NA &          NA &  0 &  0 &          NA &         NA &          NA &         NA &          NA &         NA\\\\\n",
       "\t   4.046923 &   5.058653 &   4.046923 &   0.7658801 & 0.15140000 &   0.6920238 & 0.17100000 &   0.7203522 & 0.17800000 & 0.23033708 & ... & 0.000000000 & 0.000000000 &  0 &  0 & 0.000000000 & 0.00000000 & 0.000000000 & 0.00000000 &          NA &         NA\\\\\n",
       "\t 497.850854 &         NA &         NA & 113.4919047 & 0.19259430 & 120.3409829 & 0.22119477 &  99.5714631 & 0.19166915 & 0.91077340 & ... & 0.002829295 & 0.009468075 & NA & NA &          NA &         NA & 0.007223942 & 0.01153213 & 0.044347249 & 0.06277719\\\\\n",
       "\t 311.483458 & 290.131770 & 297.039670 & 126.4371650 & 0.41770956 & 145.0219247 & 0.46558467 & 197.2720191 & 0.59720910 & 0.02379891 & ... & 0.009550125 & 0.017433194 &  0 &  0 &          NA &         NA & 0.031338606 & 0.03232491 & 0.002553067 & 0.00315247\\\\\n",
       "\t 751.191355 &         NA &         NA & 913.8067194 &         NA & 861.5917542 &         NA & 851.7221776 & 0.96375424 &         NA & ... & 0.003540181 & 0.008151944 &  0 &  0 & 0.004448857 & 0.00438082 & 0.008867039 & 0.01385574 & 0.153353320 & 0.09401360\\\\\n",
       "\t 169.861436 & 169.861430 & 169.861430 &  27.1778298 & 0.15384616 &  28.5367210 & 0.16153847 &  28.5367212 & 0.16153847 &         NA & ... &          NA &          NA & NA & NA &          NA &         NA &          NA &         NA &          NA &         NA\\\\\n",
       "\\end{tabular}\n"
      ],
      "text/markdown": [
       "\n",
       "A data.table: 6 x 23\n",
       "\n",
       "| bges &lt;dbl&gt; | bges18 &lt;dbl&gt; | bges19 &lt;dbl&gt; | um18 &lt;dbl&gt; | lp18 &lt;dbl&gt; | um19 &lt;dbl&gt; | lp19 &lt;dbl&gt; | um &lt;dbl&gt; | lp &lt;dbl&gt; | exs &lt;dbl&gt; | ... ... | markets &lt;dbl&gt; | markets19 &lt;dbl&gt; | designs19 &lt;dbl&gt; | designs &lt;dbl&gt; | softws19 &lt;dbl&gt; | softws &lt;dbl&gt; | wbp &lt;dbl&gt; | wbp19 &lt;dbl&gt; | invs &lt;dbl&gt; | invs19 &lt;dbl&gt; |\n",
       "|---|---|---|---|---|---|---|---|---|---|---|---|---|---|---|---|---|---|---|---|---|\n",
       "|  38.401396 |  38.401398 |  38.401398 |   2.5833666 | 0.06727272 |   2.7230081 | 0.07090909 |   2.4437252 | 0.06363636 | 0.19714285 | ... |          NA |          NA |  0 |  0 |          NA |         NA |          NA |         NA |          NA |         NA |\n",
       "|   4.046923 |   5.058653 |   4.046923 |   0.7658801 | 0.15140000 |   0.6920238 | 0.17100000 |   0.7203522 | 0.17800000 | 0.23033708 | ... | 0.000000000 | 0.000000000 |  0 |  0 | 0.000000000 | 0.00000000 | 0.000000000 | 0.00000000 |          NA |         NA |\n",
       "| 497.850854 |         NA |         NA | 113.4919047 | 0.19259430 | 120.3409829 | 0.22119477 |  99.5714631 | 0.19166915 | 0.91077340 | ... | 0.002829295 | 0.009468075 | NA | NA |          NA |         NA | 0.007223942 | 0.01153213 | 0.044347249 | 0.06277719 |\n",
       "| 311.483458 | 290.131770 | 297.039670 | 126.4371650 | 0.41770956 | 145.0219247 | 0.46558467 | 197.2720191 | 0.59720910 | 0.02379891 | ... | 0.009550125 | 0.017433194 |  0 |  0 |          NA |         NA | 0.031338606 | 0.03232491 | 0.002553067 | 0.00315247 |\n",
       "| 751.191355 |         NA |         NA | 913.8067194 |         NA | 861.5917542 |         NA | 851.7221776 | 0.96375424 |         NA | ... | 0.003540181 | 0.008151944 |  0 |  0 | 0.004448857 | 0.00438082 | 0.008867039 | 0.01385574 | 0.153353320 | 0.09401360 |\n",
       "| 169.861436 | 169.861430 | 169.861430 |  27.1778298 | 0.15384616 |  28.5367210 | 0.16153847 |  28.5367212 | 0.16153847 |         NA | ... |          NA |          NA | NA | NA |          NA |         NA |          NA |         NA |          NA |         NA |\n",
       "\n"
      ],
      "text/plain": [
       "  bges       bges18     bges19     um18        lp18       um19       \n",
       "1  38.401396  38.401398  38.401398   2.5833666 0.06727272   2.7230081\n",
       "2   4.046923   5.058653   4.046923   0.7658801 0.15140000   0.6920238\n",
       "3 497.850854         NA         NA 113.4919047 0.19259430 120.3409829\n",
       "4 311.483458 290.131770 297.039670 126.4371650 0.41770956 145.0219247\n",
       "5 751.191355         NA         NA 913.8067194         NA 861.5917542\n",
       "6 169.861436 169.861430 169.861430  27.1778298 0.15384616  28.5367210\n",
       "  lp19       um          lp         exs        ... markets     markets19  \n",
       "1 0.07090909   2.4437252 0.06363636 0.19714285 ...          NA          NA\n",
       "2 0.17100000   0.7203522 0.17800000 0.23033708 ... 0.000000000 0.000000000\n",
       "3 0.22119477  99.5714631 0.19166915 0.91077340 ... 0.002829295 0.009468075\n",
       "4 0.46558467 197.2720191 0.59720910 0.02379891 ... 0.009550125 0.017433194\n",
       "5         NA 851.7221776 0.96375424         NA ... 0.003540181 0.008151944\n",
       "6 0.16153847  28.5367212 0.16153847         NA ...          NA          NA\n",
       "  designs19 designs softws19    softws     wbp         wbp19      invs       \n",
       "1  0         0               NA         NA          NA         NA          NA\n",
       "2  0         0      0.000000000 0.00000000 0.000000000 0.00000000          NA\n",
       "3 NA        NA               NA         NA 0.007223942 0.01153213 0.044347249\n",
       "4  0         0               NA         NA 0.031338606 0.03232491 0.002553067\n",
       "5  0         0      0.004448857 0.00438082 0.008867039 0.01385574 0.153353320\n",
       "6 NA        NA               NA         NA          NA         NA          NA\n",
       "  invs19    \n",
       "1         NA\n",
       "2         NA\n",
       "3 0.06277719\n",
       "4 0.00315247\n",
       "5 0.09401360\n",
       "6         NA"
      ]
     },
     "metadata": {},
     "output_type": "display_data"
    }
   ],
   "source": [
    "# now we will remove the variables from the dataset\n",
    "cis %>%\n",
    "    # select variables that are numeric (double)\n",
    "    .[, .SD, .SDcols = is.double] %>%\n",
    "    # remove variables that are in vars_to_remove\n",
    "    # with means we are usig column names instead of column indices\n",
    "    # at by position\n",
    "    .[, !vars_to_remove, with = FALSE] %>%\n",
    "    head()"
   ]
  },
  {
   "cell_type": "code",
   "execution_count": 47,
   "metadata": {
    "vscode": {
     "languageId": "r"
    }
   },
   "outputs": [
    {
     "data": {
      "text/html": [
       "<style>\n",
       ".list-inline {list-style: none; margin:0; padding: 0}\n",
       ".list-inline>li {display: inline-block}\n",
       ".list-inline>li:not(:last-child)::after {content: \"\\00b7\"; padding: 0 .5ex}\n",
       "</style>\n",
       "<ol class=list-inline><li>5083</li><li>41</li></ol>\n"
      ],
      "text/latex": [
       "\\begin{enumerate*}\n",
       "\\item 5083\n",
       "\\item 41\n",
       "\\end{enumerate*}\n"
      ],
      "text/markdown": [
       "1. 5083\n",
       "2. 41\n",
       "\n",
       "\n"
      ],
      "text/plain": [
       "[1] 5083   41"
      ]
     },
     "metadata": {},
     "output_type": "display_data"
    }
   ],
   "source": [
    "# compare with the original dataset\n",
    "cis %>%\n",
    "    .[, .SD, .SDcols = is.double] %>%\n",
    "    dim()  # 41 columns (variables)"
   ]
  },
  {
   "cell_type": "code",
   "execution_count": 10,
   "metadata": {
    "vscode": {
     "languageId": "r"
    }
   },
   "outputs": [
    {
     "data": {
      "text/html": [
       "<style>\n",
       ".list-inline {list-style: none; margin:0; padding: 0}\n",
       ".list-inline>li {display: inline-block}\n",
       ".list-inline>li:not(:last-child)::after {content: \"\\00b7\"; padding: 0 .5ex}\n",
       "</style>\n",
       "<ol class=list-inline><li>5083</li><li>23</li></ol>\n"
      ],
      "text/latex": [
       "\\begin{enumerate*}\n",
       "\\item 5083\n",
       "\\item 23\n",
       "\\end{enumerate*}\n"
      ],
      "text/markdown": [
       "1. 5083\n",
       "2. 23\n",
       "\n",
       "\n"
      ],
      "text/plain": [
       "[1] 5083   23"
      ]
     },
     "metadata": {},
     "output_type": "display_data"
    }
   ],
   "source": [
    "cis %>%\n",
    "    # select variables that are numeric (double)\n",
    "    .[, .SD, .SDcols = is.double] %>%\n",
    "    # remove variables that are in vars_to_remove\n",
    "    # with means we are using column names instead of column indices\n",
    "    # with means we are using column names instead of column indices\n",
    "    .[, !vars_to_remove, with = FALSE] %>%\n",
    "    dim()  # 23 columns (variables)"
   ]
  },
  {
   "cell_type": "code",
   "execution_count": 17,
   "metadata": {
    "vscode": {
     "languageId": "r"
    }
   },
   "outputs": [
    {
     "data": {
      "image/png": "[encoded data removed]",
      "text/plain": [
       "Plot with title \"\""
      ]
     },
     "metadata": {
      "image/png": {
       "height": 420,
       "width": 420
      }
     },
     "output_type": "display_data"
    }
   ],
   "source": [
    "# with all numeric variables and not many missing values\n",
    "# we can check the correlation between variables\n",
    "cis %>%\n",
    "    # select variables that are numeric (double)\n",
    "    .[, .SD, .SDcols = is.double] %>%\n",
    "    # remove variables that are in vars_to_remove\n",
    "    # with means we are using column names instead of column indices\n",
    "    # with means we are using column names instead of column indices\n",
    "    .[, !vars_to_remove, with = FALSE] %>%\n",
    "    # calculate the correlation between variables without missing values\n",
    "    cor(use = \"pairwise.complete.obs\") %>%\n",
    "    # plot the correlation matrix\n",
    "    corrplot(method = \"color\")"
   ]
  },
  {
   "cell_type": "markdown",
   "metadata": {},
   "source": [
    "You might see the correlation plot like the above one in the exam. I will tell you\n",
    "the meaning of variables:\n",
    "\n",
    "- bges: number of employees (average from 2018 to 2020)\n",
    "- bges18: number of employees in 2018\n",
    "- um18: sales in 2018\n",
    "- lp19: labor productivity in 2019\n",
    "- softws19: software application intensity in 2019\n",
    "- wbp:  Weiterbildungskostenanteil (share of training costs)\n",
    "- invs:  Investitionsintensitaet (investment intensity)\n",
    "- exs:  Exportintensitaet insgesamt (total export intensity)\n",
    "- markets:  Marketingaufwendungen Intensitaet (marketing expenditure intensity)\n",
    "- designs:  Designaufwendungen Intensitaet (design expenditure intensity)\n",
    "\n",
    "For instance, I might ask you:\n",
    "\n",
    "- in the graph, we see the correlated cluster of `markets`, `designs`, and `softws19`. What does this mean?\n",
    "- in the graph, we see that there is correlation between `exs`, `bges` and `bges18`,\n",
    "what kind of hypothesis can we make based on this correlation?"
   ]
  },
  {
   "cell_type": "code",
   "execution_count": 19,
   "metadata": {
    "vscode": {
     "languageId": "r"
    }
   },
   "outputs": [
    {
     "data": {
      "image/png": "[encoded data removed]",
      "text/plain": [
       "Plot with title \"\""
      ]
     },
     "metadata": {
      "image/png": {
       "height": 420,
       "width": 420
      }
     },
     "output_type": "display_data"
    }
   ],
   "source": [
    "# we can also use circlize to plot the correlation matrix\n",
    "cis %>%\n",
    "    # select variables that are numeric (double)\n",
    "    .[, .SD, .SDcols = is.double] %>%\n",
    "    # remove variables that are in vars_to_remove\n",
    "    # with means we are using column names instead of column indices\n",
    "    # with means we are using column names instead of column indices\n",
    "    .[, !vars_to_remove, with = FALSE] %>%\n",
    "    # calculate the correlation between variables without missing values\n",
    "    cor(use = \"pairwise.complete.obs\") %>%\n",
    "    # plot the correlation matrix with circlize with half matrix\n",
    "    corrplot(method = \"circle\", type = \"upper\")"
   ]
  },
  {
   "cell_type": "code",
   "execution_count": null,
   "metadata": {
    "vscode": {
     "languageId": "r"
    }
   },
   "outputs": [],
   "source": []
  }
 ],
 "metadata": {
  "kernelspec": {
   "display_name": "R",
   "language": "R",
   "name": "ir"
  },
  "language_info": {
   "codemirror_mode": "r",
   "file_extension": ".r",
   "mimetype": "text/x-r-source",
   "name": "R",
   "pygments_lexer": "r",
   "version": "4.1.2"
  },
  "orig_nbformat": 4
 },
 "nbformat": 4,
 "nbformat_minor": 2
}
