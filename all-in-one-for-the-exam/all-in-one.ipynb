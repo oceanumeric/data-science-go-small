{
 "cells": [
  {
   "cell_type": "markdown",
   "metadata": {},
   "source": [
    "# All in One for the Exam\n",
    "\n",
    "Time flies, and the exam is coming. To help you to review the course, we have prepared this notebook, which contains all the materials we have covered in the course. We hope this notebook can help you to review the course and prepare for the exam.\n",
    "\n",
    "This exam review document __does not cover the materials you studed from the lecture, whereas \n",
    "it only covers the materials from tutorial and lab__. You should also review the lecture materials.\n",
    "\n",
    "Here is the list of topics we have covered and will be covered in the exam:\n",
    "\n",
    "1. introduction to data.table\n",
    "2. using data.table to manipulate data\n",
    "3. basic data visualization\n",
    "4. introduction to linear regression\n",
    "5. introduction to logistic regression"
   ]
  },
  {
   "cell_type": "markdown",
   "metadata": {},
   "source": [
    "## 1. Introduction to data.table\n",
    "\n",
    "Broadly speaking, there are two kinds of data: __structured data__ and __unstructured data__. \n",
    "Structured data is data that has a structure, such as a table, whereas unstructured data is data that does not have a structure, such as a text file. In this course, we focus on structured data. This means all the data we will use look like tables, such \n",
    "as the following one:\n",
    "\n",
    "![data.table-example](../drawio/R-data-table-illustration.png)"
   ]
  },
  {
   "cell_type": "markdown",
   "metadata": {},
   "source": [
    "> Small story (will not be tested in the exam): I had a talk with a person who is the principal data scientist and \n",
    "working for the government. He told me that the government is implementing a strategy called\n",
    "\"AI in 2030\". The goal of this strategy is to make the government to be more data-driven and\n",
    "AI-driven. He told me that every year they have to pay a lot of money to consultancies such\n",
    "as Boston Consulting Group (BCG) to do data analysis for them. He said that the government\n",
    "now is planning to combine data scientist and ChatGPT to do the data analysis. They are\n",
    "hoping that they could reduce 40% of the cost by doing so. The idea is that they will only\n",
    "hire BCG for those very complex data analysis tasks. For those simple tasks, they will use\n",
    "AI to do the data analysis. The main tool that BCG uses is Excel, SQL and Tableau. They are\n",
    "all table-based tools. This means having a good understanding of table-based data analysis\n",
    "is very important. This is why we start from data.table."
   ]
  },
  {
   "cell_type": "code",
   "execution_count": null,
   "metadata": {
    "vscode": {
     "languageId": "r"
    }
   },
   "outputs": [],
   "source": []
  }
 ],
 "metadata": {
  "kernelspec": {
   "display_name": "R",
   "language": "R",
   "name": "ir"
  },
  "language_info": {
   "name": "R"
  },
  "orig_nbformat": 4
 },
 "nbformat": 4,
 "nbformat_minor": 2
}
