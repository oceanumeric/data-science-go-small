{
 "cells": [
  {
   "cell_type": "markdown",
   "metadata": {},
   "source": [
    "# All in One for the Exam\n",
    "\n",
    "Time flies, and the exam is coming. To help you to review the course, we have prepared this notebook, which contains all the materials we have covered in the course. We hope this notebook can help you to review the course and prepare for the exam.\n",
    "\n",
    "This exam review document __does not cover the materials you studed from the lecture, whereas \n",
    "it only covers the materials from tutorial and lab__. You should also review the lecture materials.\n",
    "\n",
    "Here is the list of topics we have covered and will be covered in the exam:\n",
    "\n",
    "1. introduction to data.table\n",
    "2. using data.table to manipulate data\n",
    "3. basic data visualization\n",
    "4. introduction to linear regression\n",
    "5. introduction to logistic regression"
   ]
  },
  {
   "cell_type": "markdown",
   "metadata": {},
   "source": [
    "## 1. Introduction to data.table\n",
    "\n",
    "Broadly speaking, there are two kinds of data: __structured data__ and __unstructured data__. \n",
    "Structured data is data that has a structure, such as a table, whereas unstructured data is data that does not have a structure, such as a text file. In this course, we focus on structured data. This means all the data we will use look like tables, such \n",
    "as the following one:\n",
    "\n",
    "![data.table-example](../drawio/R-data-table-illustration.png)"
   ]
  },
  {
   "cell_type": "markdown",
   "metadata": {},
   "source": [
    "> Small story (will not be tested in the exam): I had a talk with a person who is the principal data scientist and  working for the government. He told me that the government is implementing a strategy called \"AI in 2030\". The goal of this strategy is to make the government to be more data-driven and AI-driven. He told me that every year they have to pay a lot of money to consultancies such as Boston Consulting Group (BCG) to do data analysis for them. He said that the government now is planning to combine data scientist and ChatGPT to do the data analysis. They are hoping that they could reduce 40% of the cost by doing so. The idea is that they will only hire BCG for those very complex data analysis tasks. For those simple tasks, they will use AI to do the data analysis. The main tool that BCG uses is Excel, SQL and Tableau. They are all table-based tools. This means having a good understanding of table-based data analysis is very important. This is why we start from data.table."
   ]
  },
  {
   "cell_type": "markdown",
   "metadata": {},
   "source": [
    "The basic syntax of data.table is summarized in the following illustration. __You will\n",
    "not be tested on the syntax of data.table in the exam__. However, you will be tested on the\n",
    "underlying concepts of data.table, such as the type of variables (integer, character, factor, etc.).\n",
    "In the future if you will be working as a data scientist, you can use data.table to do big\n",
    "data analysis. You will need to know the syntax of data.table for practical use not for the exam.\n",
    "\n",
    "![data.table-syntax](../drawio/R-data-table-illustration2.png)"
   ]
  },
  {
   "cell_type": "markdown",
   "metadata": {},
   "source": [
    "### 1.1 data.table Lab\n",
    "\n",
    "Now, we will use data.table to do some data analysis. We will use the `Community Innovation Survey` (CIS)\n",
    "to do the analysis. The CIS is a survey that is conducted by the European Union (EU) to collect data\n",
    "about innovation activities of firms. The survey we will use is the 2021 CIS from Germany."
   ]
  },
  {
   "cell_type": "code",
   "execution_count": 3,
   "metadata": {
    "vscode": {
     "languageId": "r"
    }
   },
   "outputs": [
    {
     "name": "stderr",
     "output_type": "stream",
     "text": [
      "Installing package into '/usr/local/lib/R/site-library'\n",
      "(as 'lib' is unspecified)\n",
      "\n"
     ]
    }
   ],
   "source": [
    "# library for data analysis\n",
    "library(data.table)\n",
    "library(magrittr)\n",
    "library(ggplot2)\n",
    "library(knitr)\n",
    "# install stargazer\n",
    "install.packages(\"stargazer\")\n",
    "# install ISLR\n",
    "library(stargazer)\n",
    "library(MASS)\n",
    "library(ISLR)"
   ]
  },
  {
   "cell_type": "code",
   "execution_count": 4,
   "metadata": {
    "vscode": {
     "languageId": "r"
    }
   },
   "outputs": [],
   "source": [
    "# read data\n",
    "cis <- fread(\"https://raw.githubusercontent.com/oceanumeric/data-science-go-small/main/data/innovation_survey/extmidp21.csv\")"
   ]
  },
  {
   "cell_type": "code",
   "execution_count": 7,
   "metadata": {
    "vscode": {
     "languageId": "r"
    }
   },
   "outputs": [
    {
     "data": {
      "text/html": [
       "<style>\n",
       ".list-inline {list-style: none; margin:0; padding: 0}\n",
       ".list-inline>li {display: inline-block}\n",
       ".list-inline>li:not(:last-child)::after {content: \"\\00b7\"; padding: 0 .5ex}\n",
       "</style>\n",
       "<ol class=list-inline><li>5083</li><li>284</li></ol>\n"
      ],
      "text/latex": [
       "\\begin{enumerate*}\n",
       "\\item 5083\n",
       "\\item 284\n",
       "\\end{enumerate*}\n"
      ],
      "text/markdown": [
       "1. 5083\n",
       "2. 284\n",
       "\n",
       "\n"
      ],
      "text/plain": [
       "[1] 5083  284"
      ]
     },
     "metadata": {},
     "output_type": "display_data"
    }
   ],
   "source": [
    "# check dimension, which shows 5083 rows and 284 columns\n",
    "dim(cis)"
   ]
  },
  {
   "cell_type": "code",
   "execution_count": 8,
   "metadata": {
    "vscode": {
     "languageId": "r"
    }
   },
   "outputs": [
    {
     "data": {
      "text/html": [
       "<table class=\"dataframe\">\n",
       "<caption>A data.table: 6 x 284</caption>\n",
       "<thead>\n",
       "\t<tr><th scope=col>id</th><th scope=col>branche</th><th scope=col>bran_4</th><th scope=col>filter</th><th scope=col>ost</th><th scope=col>ustaat</th><th scope=col>gb</th><th scope=col>bges</th><th scope=col>gk3n</th><th scope=col>bges18</th><th scope=col>...</th><th scope=col>mkosts</th><th scope=col>mkosts19</th><th scope=col>wbp</th><th scope=col>wbp19</th><th scope=col>wbpx</th><th scope=col>wbp19x</th><th scope=col>invs</th><th scope=col>invs19</th><th scope=col>invsx</th><th scope=col>invs19x</th></tr>\n",
       "\t<tr><th scope=col>&lt;int&gt;</th><th scope=col>&lt;chr&gt;</th><th scope=col>&lt;chr&gt;</th><th scope=col>&lt;chr&gt;</th><th scope=col>&lt;chr&gt;</th><th scope=col>&lt;chr&gt;</th><th scope=col>&lt;chr&gt;</th><th scope=col>&lt;dbl&gt;</th><th scope=col>&lt;chr&gt;</th><th scope=col>&lt;dbl&gt;</th><th scope=col>...</th><th scope=col>&lt;chr&gt;</th><th scope=col>&lt;chr&gt;</th><th scope=col>&lt;dbl&gt;</th><th scope=col>&lt;dbl&gt;</th><th scope=col>&lt;chr&gt;</th><th scope=col>&lt;chr&gt;</th><th scope=col>&lt;dbl&gt;</th><th scope=col>&lt;dbl&gt;</th><th scope=col>&lt;chr&gt;</th><th scope=col>&lt;chr&gt;</th></tr>\n",
       "</thead>\n",
       "<tbody>\n",
       "\t<tr><td>300127</td><td>Elektroindustrie            </td><td>Forschungsintensive Industrie</td><td>nein</td><td>ost </td><td></td><td>Bereich</td><td> 38.401396</td><td>50-249Besch</td><td> 38.401398</td><td>...</td><td>        </td><td>        </td><td>         NA</td><td>        NA</td><td>              </td><td>              </td><td>         NA</td><td>        NA</td><td>              </td><td>              </td></tr>\n",
       "\t<tr><td>301003</td><td>Metallerzeugung/-bearbeitung</td><td><span style=white-space:pre-wrap>Sonstige Industrie           </span></td><td><span style=white-space:pre-wrap>ja  </span></td><td>ost </td><td></td><td>Bereich</td><td><span style=white-space:pre-wrap>  4.046923</span></td><td><span style=white-space:pre-wrap>&lt;50Besch   </span></td><td><span style=white-space:pre-wrap>  5.058653</span></td><td>...</td><td>.5&lt;=x&lt;.7</td><td>.5&lt;=x&lt;.7</td><td>0.000000000</td><td>0.00000000</td><td>keine Stutzung</td><td>keine Stutzung</td><td><span style=white-space:pre-wrap>         NA</span></td><td><span style=white-space:pre-wrap>        NA</span></td><td><span style=white-space:pre-wrap>              </span></td><td><span style=white-space:pre-wrap>              </span></td></tr>\n",
       "\t<tr><td>301078</td><td><span style=white-space:pre-wrap>Maschinenbau                </span></td><td>Forschungsintensive Industrie</td><td>nein</td><td>west</td><td></td><td>Bereich</td><td>497.850854</td><td>&gt;=250Besch </td><td><span style=white-space:pre-wrap>        NA</span></td><td>...</td><td>.4&lt;=x&lt;.5</td><td>.4&lt;=x&lt;.5</td><td>0.007223942</td><td>0.01153213</td><td>keine Stutzung</td><td>keine Stutzung</td><td>0.044347249</td><td>0.06277719</td><td>keine Stutzung</td><td>keine Stutzung</td></tr>\n",
       "\t<tr><td>301084</td><td><span style=white-space:pre-wrap>Energie/Bergbau/Mineraloel  </span></td><td><span style=white-space:pre-wrap>Sonstige Industrie           </span></td><td><span style=white-space:pre-wrap>ja  </span></td><td>west</td><td></td><td>Bereich</td><td>311.483458</td><td>50-249Besch</td><td>290.131770</td><td>...</td><td><span style=white-space:pre-wrap>x&gt;=.7   </span></td><td><span style=white-space:pre-wrap>x&gt;=.7   </span></td><td>0.031338606</td><td>0.03232491</td><td>keine Stutzung</td><td>keine Stutzung</td><td>0.002553067</td><td>0.00315247</td><td>keine Stutzung</td><td>keine Stutzung</td></tr>\n",
       "\t<tr><td>301189</td><td><span style=white-space:pre-wrap>Energie/Bergbau/Mineraloel  </span></td><td><span style=white-space:pre-wrap>Sonstige Industrie           </span></td><td>nein</td><td>west</td><td></td><td>Bereich</td><td>751.191355</td><td>&gt;=250Besch </td><td><span style=white-space:pre-wrap>        NA</span></td><td>...</td><td><span style=white-space:pre-wrap>x&gt;=.7   </span></td><td><span style=white-space:pre-wrap>x&gt;=.7   </span></td><td>0.008867039</td><td>0.01385574</td><td>keine Stutzung</td><td>keine Stutzung</td><td>0.153353320</td><td>0.09401360</td><td>keine Stutzung</td><td>keine Stutzung</td></tr>\n",
       "\t<tr><td>301282</td><td>Elektroindustrie            </td><td>Forschungsintensive Industrie</td><td>nein</td><td>west</td><td></td><td>Bereich</td><td>169.861436</td><td>50-249Besch</td><td>169.861430</td><td>...</td><td>        </td><td>        </td><td>         NA</td><td>        NA</td><td>              </td><td>              </td><td>         NA</td><td>        NA</td><td>              </td><td>              </td></tr>\n",
       "</tbody>\n",
       "</table>\n"
      ],
      "text/latex": [
       "A data.table: 6 x 284\n",
       "\\begin{tabular}{lllllllllllllllllllll}\n",
       " id & branche & bran\\_4 & filter & ost & ustaat & gb & bges & gk3n & bges18 & ... & mkosts & mkosts19 & wbp & wbp19 & wbpx & wbp19x & invs & invs19 & invsx & invs19x\\\\\n",
       " <int> & <chr> & <chr> & <chr> & <chr> & <chr> & <chr> & <dbl> & <chr> & <dbl> & ... & <chr> & <chr> & <dbl> & <dbl> & <chr> & <chr> & <dbl> & <dbl> & <chr> & <chr>\\\\\n",
       "\\hline\n",
       "\t 300127 & Elektroindustrie             & Forschungsintensive Industrie & nein & ost  &  & Bereich &  38.401396 & 50-249Besch &  38.401398 & ... &          &          &          NA &         NA &                &                &          NA &         NA &                &               \\\\\n",
       "\t 301003 & Metallerzeugung/-bearbeitung & Sonstige Industrie            & ja   & ost  &  & Bereich &   4.046923 & <50Besch    &   5.058653 & ... & .5<=x<.7 & .5<=x<.7 & 0.000000000 & 0.00000000 & keine Stutzung & keine Stutzung &          NA &         NA &                &               \\\\\n",
       "\t 301078 & Maschinenbau                 & Forschungsintensive Industrie & nein & west &  & Bereich & 497.850854 & >=250Besch  &         NA & ... & .4<=x<.5 & .4<=x<.5 & 0.007223942 & 0.01153213 & keine Stutzung & keine Stutzung & 0.044347249 & 0.06277719 & keine Stutzung & keine Stutzung\\\\\n",
       "\t 301084 & Energie/Bergbau/Mineraloel   & Sonstige Industrie            & ja   & west &  & Bereich & 311.483458 & 50-249Besch & 290.131770 & ... & x>=.7    & x>=.7    & 0.031338606 & 0.03232491 & keine Stutzung & keine Stutzung & 0.002553067 & 0.00315247 & keine Stutzung & keine Stutzung\\\\\n",
       "\t 301189 & Energie/Bergbau/Mineraloel   & Sonstige Industrie            & nein & west &  & Bereich & 751.191355 & >=250Besch  &         NA & ... & x>=.7    & x>=.7    & 0.008867039 & 0.01385574 & keine Stutzung & keine Stutzung & 0.153353320 & 0.09401360 & keine Stutzung & keine Stutzung\\\\\n",
       "\t 301282 & Elektroindustrie             & Forschungsintensive Industrie & nein & west &  & Bereich & 169.861436 & 50-249Besch & 169.861430 & ... &          &          &          NA &         NA &                &                &          NA &         NA &                &               \\\\\n",
       "\\end{tabular}\n"
      ],
      "text/markdown": [
       "\n",
       "A data.table: 6 x 284\n",
       "\n",
       "| id &lt;int&gt; | branche &lt;chr&gt; | bran_4 &lt;chr&gt; | filter &lt;chr&gt; | ost &lt;chr&gt; | ustaat &lt;chr&gt; | gb &lt;chr&gt; | bges &lt;dbl&gt; | gk3n &lt;chr&gt; | bges18 &lt;dbl&gt; | ... ... | mkosts &lt;chr&gt; | mkosts19 &lt;chr&gt; | wbp &lt;dbl&gt; | wbp19 &lt;dbl&gt; | wbpx &lt;chr&gt; | wbp19x &lt;chr&gt; | invs &lt;dbl&gt; | invs19 &lt;dbl&gt; | invsx &lt;chr&gt; | invs19x &lt;chr&gt; |\n",
       "|---|---|---|---|---|---|---|---|---|---|---|---|---|---|---|---|---|---|---|---|---|\n",
       "| 300127 | Elektroindustrie             | Forschungsintensive Industrie | nein | ost  | <!----> | Bereich |  38.401396 | 50-249Besch |  38.401398 | ... | <!----> | <!----> |          NA |         NA | <!----> | <!----> |          NA |         NA | <!----> | <!----> |\n",
       "| 301003 | Metallerzeugung/-bearbeitung | Sonstige Industrie            | ja   | ost  | <!----> | Bereich |   4.046923 | &lt;50Besch    |   5.058653 | ... | .5&lt;=x&lt;.7 | .5&lt;=x&lt;.7 | 0.000000000 | 0.00000000 | keine Stutzung | keine Stutzung |          NA |         NA | <!----> | <!----> |\n",
       "| 301078 | Maschinenbau                 | Forschungsintensive Industrie | nein | west | <!----> | Bereich | 497.850854 | &gt;=250Besch  |         NA | ... | .4&lt;=x&lt;.5 | .4&lt;=x&lt;.5 | 0.007223942 | 0.01153213 | keine Stutzung | keine Stutzung | 0.044347249 | 0.06277719 | keine Stutzung | keine Stutzung |\n",
       "| 301084 | Energie/Bergbau/Mineraloel   | Sonstige Industrie            | ja   | west | <!----> | Bereich | 311.483458 | 50-249Besch | 290.131770 | ... | x&gt;=.7    | x&gt;=.7    | 0.031338606 | 0.03232491 | keine Stutzung | keine Stutzung | 0.002553067 | 0.00315247 | keine Stutzung | keine Stutzung |\n",
       "| 301189 | Energie/Bergbau/Mineraloel   | Sonstige Industrie            | nein | west | <!----> | Bereich | 751.191355 | &gt;=250Besch  |         NA | ... | x&gt;=.7    | x&gt;=.7    | 0.008867039 | 0.01385574 | keine Stutzung | keine Stutzung | 0.153353320 | 0.09401360 | keine Stutzung | keine Stutzung |\n",
       "| 301282 | Elektroindustrie             | Forschungsintensive Industrie | nein | west | <!----> | Bereich | 169.861436 | 50-249Besch | 169.861430 | ... | <!----> | <!----> |          NA |         NA | <!----> | <!----> |          NA |         NA | <!----> | <!----> |\n",
       "\n"
      ],
      "text/plain": [
       "  id     branche                      bran_4                        filter ost \n",
       "1 300127 Elektroindustrie             Forschungsintensive Industrie nein   ost \n",
       "2 301003 Metallerzeugung/-bearbeitung Sonstige Industrie            ja     ost \n",
       "3 301078 Maschinenbau                 Forschungsintensive Industrie nein   west\n",
       "4 301084 Energie/Bergbau/Mineraloel   Sonstige Industrie            ja     west\n",
       "5 301189 Energie/Bergbau/Mineraloel   Sonstige Industrie            nein   west\n",
       "6 301282 Elektroindustrie             Forschungsintensive Industrie nein   west\n",
       "  ustaat gb      bges       gk3n        bges18     ... mkosts   mkosts19\n",
       "1        Bereich  38.401396 50-249Besch  38.401398 ...                  \n",
       "2        Bereich   4.046923 <50Besch      5.058653 ... .5<=x<.7 .5<=x<.7\n",
       "3        Bereich 497.850854 >=250Besch          NA ... .4<=x<.5 .4<=x<.5\n",
       "4        Bereich 311.483458 50-249Besch 290.131770 ... x>=.7    x>=.7   \n",
       "5        Bereich 751.191355 >=250Besch          NA ... x>=.7    x>=.7   \n",
       "6        Bereich 169.861436 50-249Besch 169.861430 ...                  \n",
       "  wbp         wbp19      wbpx           wbp19x         invs        invs19    \n",
       "1          NA         NA                                        NA         NA\n",
       "2 0.000000000 0.00000000 keine Stutzung keine Stutzung          NA         NA\n",
       "3 0.007223942 0.01153213 keine Stutzung keine Stutzung 0.044347249 0.06277719\n",
       "4 0.031338606 0.03232491 keine Stutzung keine Stutzung 0.002553067 0.00315247\n",
       "5 0.008867039 0.01385574 keine Stutzung keine Stutzung 0.153353320 0.09401360\n",
       "6          NA         NA                                        NA         NA\n",
       "  invsx          invs19x       \n",
       "1                              \n",
       "2                              \n",
       "3 keine Stutzung keine Stutzung\n",
       "4 keine Stutzung keine Stutzung\n",
       "5 keine Stutzung keine Stutzung\n",
       "6                              "
      ]
     },
     "metadata": {},
     "output_type": "display_data"
    }
   ],
   "source": [
    "# take a look at the first 5 rows\n",
    "head(cis)"
   ]
  },
  {
   "cell_type": "markdown",
   "metadata": {},
   "source": [
    "From the above table, we can see that we have:\n",
    "\n",
    "- integer variables: `id`\n",
    "- character variables: `branche`, `ost`, etc.\n",
    "- numeric variables (dbl): `bges`, `bges18`, etc."
   ]
  },
  {
   "cell_type": "code",
   "execution_count": 13,
   "metadata": {
    "vscode": {
     "languageId": "r"
    }
   },
   "outputs": [
    {
     "data": {
      "text/html": [
       "<table class=\"dataframe\">\n",
       "<caption>A data.table: 6 x 41</caption>\n",
       "<thead>\n",
       "\t<tr><th scope=col>bges</th><th scope=col>bges18</th><th scope=col>bges19</th><th scope=col>um18</th><th scope=col>lp18</th><th scope=col>um19</th><th scope=col>lp19</th><th scope=col>um</th><th scope=col>lp</th><th scope=col>exs</th><th scope=col>...</th><th scope=col>designs</th><th scope=col>softws19</th><th scope=col>softws</th><th scope=col>sv19s</th><th scope=col>svs</th><th scope=col>fuesp</th><th scope=col>wbp</th><th scope=col>wbp19</th><th scope=col>invs</th><th scope=col>invs19</th></tr>\n",
       "\t<tr><th scope=col>&lt;dbl&gt;</th><th scope=col>&lt;dbl&gt;</th><th scope=col>&lt;dbl&gt;</th><th scope=col>&lt;dbl&gt;</th><th scope=col>&lt;dbl&gt;</th><th scope=col>&lt;dbl&gt;</th><th scope=col>&lt;dbl&gt;</th><th scope=col>&lt;dbl&gt;</th><th scope=col>&lt;dbl&gt;</th><th scope=col>&lt;dbl&gt;</th><th scope=col>...</th><th scope=col>&lt;dbl&gt;</th><th scope=col>&lt;dbl&gt;</th><th scope=col>&lt;dbl&gt;</th><th scope=col>&lt;dbl&gt;</th><th scope=col>&lt;dbl&gt;</th><th scope=col>&lt;dbl&gt;</th><th scope=col>&lt;dbl&gt;</th><th scope=col>&lt;dbl&gt;</th><th scope=col>&lt;dbl&gt;</th><th scope=col>&lt;dbl&gt;</th></tr>\n",
       "</thead>\n",
       "<tbody>\n",
       "\t<tr><td> 38.401396</td><td> 38.401398</td><td> 38.401398</td><td>  2.5833666</td><td>0.06727272</td><td>  2.7230081</td><td>0.07090909</td><td>  2.4437252</td><td>0.06363636</td><td>0.19714285</td><td>...</td><td> 0</td><td>         NA</td><td>        NA</td><td>          NA</td><td>          NA</td><td>0.09090909</td><td>         NA</td><td>        NA</td><td>         NA</td><td>        NA</td></tr>\n",
       "\t<tr><td>  4.046923</td><td>  5.058653</td><td>  4.046923</td><td>  0.7658801</td><td>0.15140000</td><td>  0.6920238</td><td>0.17100000</td><td>  0.7203522</td><td>0.17800000</td><td>0.23033708</td><td>...</td><td> 0</td><td>0.000000000</td><td>0.00000000</td><td>          NA</td><td>          NA</td><td>        NA</td><td>0.000000000</td><td>0.00000000</td><td>         NA</td><td>        NA</td></tr>\n",
       "\t<tr><td>497.850854</td><td>        NA</td><td>        NA</td><td>113.4919047</td><td>0.19259430</td><td>120.3409829</td><td>0.22119477</td><td> 99.5714631</td><td>0.19166915</td><td>0.91077340</td><td>...</td><td>NA</td><td>         NA</td><td>        NA</td><td>0.7491919400</td><td>0.9608441000</td><td>0.02855289</td><td>0.007223942</td><td>0.01153213</td><td>0.044347249</td><td>0.06277719</td></tr>\n",
       "\t<tr><td>311.483458</td><td>290.131770</td><td>297.039670</td><td>126.4371650</td><td>0.41770956</td><td>145.0219247</td><td>0.46558467</td><td>197.2720191</td><td>0.59720910</td><td>0.02379891</td><td>...</td><td> 0</td><td>         NA</td><td>        NA</td><td>0.0268479640</td><td>0.0184635760</td><td>        NA</td><td>0.031338606</td><td>0.03232491</td><td>0.002553067</td><td>0.00315247</td></tr>\n",
       "\t<tr><td>751.191355</td><td>        NA</td><td>        NA</td><td>913.8067194</td><td>        NA</td><td>861.5917542</td><td>        NA</td><td>851.7221776</td><td>0.96375424</td><td>        NA</td><td>...</td><td> 0</td><td>0.004448857</td><td>0.00438082</td><td>0.0005065734</td><td>0.0005832769</td><td>        NA</td><td>0.008867039</td><td>0.01385574</td><td>0.153353320</td><td>0.09401360</td></tr>\n",
       "\t<tr><td>169.861436</td><td>169.861430</td><td>169.861430</td><td> 27.1778298</td><td>0.15384616</td><td> 28.5367210</td><td>0.16153847</td><td> 28.5367212</td><td>0.16153847</td><td>        NA</td><td>...</td><td>NA</td><td>         NA</td><td>        NA</td><td>          NA</td><td>          NA</td><td>        NA</td><td>         NA</td><td>        NA</td><td>         NA</td><td>        NA</td></tr>\n",
       "</tbody>\n",
       "</table>\n"
      ],
      "text/latex": [
       "A data.table: 6 x 41\n",
       "\\begin{tabular}{lllllllllllllllllllll}\n",
       " bges & bges18 & bges19 & um18 & lp18 & um19 & lp19 & um & lp & exs & ... & designs & softws19 & softws & sv19s & svs & fuesp & wbp & wbp19 & invs & invs19\\\\\n",
       " <dbl> & <dbl> & <dbl> & <dbl> & <dbl> & <dbl> & <dbl> & <dbl> & <dbl> & <dbl> & ... & <dbl> & <dbl> & <dbl> & <dbl> & <dbl> & <dbl> & <dbl> & <dbl> & <dbl> & <dbl>\\\\\n",
       "\\hline\n",
       "\t  38.401396 &  38.401398 &  38.401398 &   2.5833666 & 0.06727272 &   2.7230081 & 0.07090909 &   2.4437252 & 0.06363636 & 0.19714285 & ... &  0 &          NA &         NA &           NA &           NA & 0.09090909 &          NA &         NA &          NA &         NA\\\\\n",
       "\t   4.046923 &   5.058653 &   4.046923 &   0.7658801 & 0.15140000 &   0.6920238 & 0.17100000 &   0.7203522 & 0.17800000 & 0.23033708 & ... &  0 & 0.000000000 & 0.00000000 &           NA &           NA &         NA & 0.000000000 & 0.00000000 &          NA &         NA\\\\\n",
       "\t 497.850854 &         NA &         NA & 113.4919047 & 0.19259430 & 120.3409829 & 0.22119477 &  99.5714631 & 0.19166915 & 0.91077340 & ... & NA &          NA &         NA & 0.7491919400 & 0.9608441000 & 0.02855289 & 0.007223942 & 0.01153213 & 0.044347249 & 0.06277719\\\\\n",
       "\t 311.483458 & 290.131770 & 297.039670 & 126.4371650 & 0.41770956 & 145.0219247 & 0.46558467 & 197.2720191 & 0.59720910 & 0.02379891 & ... &  0 &          NA &         NA & 0.0268479640 & 0.0184635760 &         NA & 0.031338606 & 0.03232491 & 0.002553067 & 0.00315247\\\\\n",
       "\t 751.191355 &         NA &         NA & 913.8067194 &         NA & 861.5917542 &         NA & 851.7221776 & 0.96375424 &         NA & ... &  0 & 0.004448857 & 0.00438082 & 0.0005065734 & 0.0005832769 &         NA & 0.008867039 & 0.01385574 & 0.153353320 & 0.09401360\\\\\n",
       "\t 169.861436 & 169.861430 & 169.861430 &  27.1778298 & 0.15384616 &  28.5367210 & 0.16153847 &  28.5367212 & 0.16153847 &         NA & ... & NA &          NA &         NA &           NA &           NA &         NA &          NA &         NA &          NA &         NA\\\\\n",
       "\\end{tabular}\n"
      ],
      "text/markdown": [
       "\n",
       "A data.table: 6 x 41\n",
       "\n",
       "| bges &lt;dbl&gt; | bges18 &lt;dbl&gt; | bges19 &lt;dbl&gt; | um18 &lt;dbl&gt; | lp18 &lt;dbl&gt; | um19 &lt;dbl&gt; | lp19 &lt;dbl&gt; | um &lt;dbl&gt; | lp &lt;dbl&gt; | exs &lt;dbl&gt; | ... ... | designs &lt;dbl&gt; | softws19 &lt;dbl&gt; | softws &lt;dbl&gt; | sv19s &lt;dbl&gt; | svs &lt;dbl&gt; | fuesp &lt;dbl&gt; | wbp &lt;dbl&gt; | wbp19 &lt;dbl&gt; | invs &lt;dbl&gt; | invs19 &lt;dbl&gt; |\n",
       "|---|---|---|---|---|---|---|---|---|---|---|---|---|---|---|---|---|---|---|---|---|\n",
       "|  38.401396 |  38.401398 |  38.401398 |   2.5833666 | 0.06727272 |   2.7230081 | 0.07090909 |   2.4437252 | 0.06363636 | 0.19714285 | ... |  0 |          NA |         NA |           NA |           NA | 0.09090909 |          NA |         NA |          NA |         NA |\n",
       "|   4.046923 |   5.058653 |   4.046923 |   0.7658801 | 0.15140000 |   0.6920238 | 0.17100000 |   0.7203522 | 0.17800000 | 0.23033708 | ... |  0 | 0.000000000 | 0.00000000 |           NA |           NA |         NA | 0.000000000 | 0.00000000 |          NA |         NA |\n",
       "| 497.850854 |         NA |         NA | 113.4919047 | 0.19259430 | 120.3409829 | 0.22119477 |  99.5714631 | 0.19166915 | 0.91077340 | ... | NA |          NA |         NA | 0.7491919400 | 0.9608441000 | 0.02855289 | 0.007223942 | 0.01153213 | 0.044347249 | 0.06277719 |\n",
       "| 311.483458 | 290.131770 | 297.039670 | 126.4371650 | 0.41770956 | 145.0219247 | 0.46558467 | 197.2720191 | 0.59720910 | 0.02379891 | ... |  0 |          NA |         NA | 0.0268479640 | 0.0184635760 |         NA | 0.031338606 | 0.03232491 | 0.002553067 | 0.00315247 |\n",
       "| 751.191355 |         NA |         NA | 913.8067194 |         NA | 861.5917542 |         NA | 851.7221776 | 0.96375424 |         NA | ... |  0 | 0.004448857 | 0.00438082 | 0.0005065734 | 0.0005832769 |         NA | 0.008867039 | 0.01385574 | 0.153353320 | 0.09401360 |\n",
       "| 169.861436 | 169.861430 | 169.861430 |  27.1778298 | 0.15384616 |  28.5367210 | 0.16153847 |  28.5367212 | 0.16153847 |         NA | ... | NA |          NA |         NA |           NA |           NA |         NA |          NA |         NA |          NA |         NA |\n",
       "\n"
      ],
      "text/plain": [
       "  bges       bges18     bges19     um18        lp18       um19       \n",
       "1  38.401396  38.401398  38.401398   2.5833666 0.06727272   2.7230081\n",
       "2   4.046923   5.058653   4.046923   0.7658801 0.15140000   0.6920238\n",
       "3 497.850854         NA         NA 113.4919047 0.19259430 120.3409829\n",
       "4 311.483458 290.131770 297.039670 126.4371650 0.41770956 145.0219247\n",
       "5 751.191355         NA         NA 913.8067194         NA 861.5917542\n",
       "6 169.861436 169.861430 169.861430  27.1778298 0.15384616  28.5367210\n",
       "  lp19       um          lp         exs        ... designs softws19   \n",
       "1 0.07090909   2.4437252 0.06363636 0.19714285 ...  0               NA\n",
       "2 0.17100000   0.7203522 0.17800000 0.23033708 ...  0      0.000000000\n",
       "3 0.22119477  99.5714631 0.19166915 0.91077340 ... NA               NA\n",
       "4 0.46558467 197.2720191 0.59720910 0.02379891 ...  0               NA\n",
       "5         NA 851.7221776 0.96375424         NA ...  0      0.004448857\n",
       "6 0.16153847  28.5367212 0.16153847         NA ... NA               NA\n",
       "  softws     sv19s        svs          fuesp      wbp         wbp19     \n",
       "1         NA           NA           NA 0.09090909          NA         NA\n",
       "2 0.00000000           NA           NA         NA 0.000000000 0.00000000\n",
       "3         NA 0.7491919400 0.9608441000 0.02855289 0.007223942 0.01153213\n",
       "4         NA 0.0268479640 0.0184635760         NA 0.031338606 0.03232491\n",
       "5 0.00438082 0.0005065734 0.0005832769         NA 0.008867039 0.01385574\n",
       "6         NA           NA           NA         NA          NA         NA\n",
       "  invs        invs19    \n",
       "1          NA         NA\n",
       "2          NA         NA\n",
       "3 0.044347249 0.06277719\n",
       "4 0.002553067 0.00315247\n",
       "5 0.153353320 0.09401360\n",
       "6          NA         NA"
      ]
     },
     "metadata": {},
     "output_type": "display_data"
    }
   ],
   "source": [
    "# now we want to select all variables that are type of dbl (double - numeric like 3.1415926)\n",
    "# .SD means subset of data in j (select all columns)\n",
    "# .SDcols means subset columns that are double which is by = is.double\n",
    "# all things we will do in excel, SQL, or data.table can be summarized as\n",
    "# I want to do things on rows (i) or columns (j) by some conditions (by)\n",
    "# here we want to select all columns that are double\n",
    "cis %>%\n",
    "    # using [i, j, by] grammar\n",
    "    .[, .SD, .SDcols = is.double] %>% head()"
   ]
  },
  {
   "cell_type": "markdown",
   "metadata": {},
   "source": [
    "Before we continue, let's get to know the meaning of some variables (we have 41 numeric variables in total, so we will not cover all of them):\n",
    "\n",
    "- bges: number of employees (average from 2018 to 2020)\n",
    "- bges18: number of employees in 2018\n",
    "- um18: sales in 2018\n",
    "- lp19: labor productivity in 2019\n",
    "- softws19: software application intensity in 2019\n",
    "- wbp:  Weiterbildungskostenanteil (share of training costs)\n",
    "- invs:  Investitionsintensitaet (investment intensity)"
   ]
  },
  {
   "cell_type": "code",
   "execution_count": null,
   "metadata": {
    "vscode": {
     "languageId": "r"
    }
   },
   "outputs": [],
   "source": []
  }
 ],
 "metadata": {
  "kernelspec": {
   "display_name": "R",
   "language": "R",
   "name": "ir"
  },
  "language_info": {
   "codemirror_mode": "r",
   "file_extension": ".r",
   "mimetype": "text/x-r-source",
   "name": "R",
   "pygments_lexer": "r",
   "version": "4.1.2"
  },
  "orig_nbformat": 4
 },
 "nbformat": 4,
 "nbformat_minor": 2
}
