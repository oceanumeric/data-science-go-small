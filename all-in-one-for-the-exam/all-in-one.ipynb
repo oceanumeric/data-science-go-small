{
 "cells": [
  {
   "cell_type": "markdown",
   "metadata": {},
   "source": [
    "# All in One for the Exam\n",
    "\n",
    "Time flies, and the exam is coming. To help you to review the course, we have prepared this notebook, which contains all the materials we have covered in the course. We hope this notebook can help you to review the course and prepare for the exam.\n",
    "\n",
    "This exam review document __does not cover the materials you studed from the lecture, whereas \n",
    "it only covers the materials from tutorial and lab__. You should also review the lecture materials.\n",
    "\n",
    "Here is the list of topics we have covered and will be covered in the exam:\n",
    "\n",
    "1. introduction to data.table\n",
    "2. using data.table to manipulate data\n",
    "3. basic data visualization\n",
    "4. introduction to linear regression\n",
    "5. introduction to logistic regression"
   ]
  },
  {
   "cell_type": "markdown",
   "metadata": {},
   "source": [
    "## 1. Introduction to data.table\n",
    "\n",
    "Broadly speaking, there are two kinds of data: __structured data__ and __unstructured data__. \n",
    "Structured data is data that has a structure, such as a table, whereas unstructured data is data that does not have a structure, such as a text file. In this course, we focus on structured data. This means all the data we will use look like tables, such \n",
    "as the following one:\n",
    "\n",
    "![data.table-example](../drawio/R-data-table-illustration.png)"
   ]
  },
  {
   "cell_type": "markdown",
   "metadata": {},
   "source": [
    "> Small story (will not be tested in the exam): I had a talk with a person who is the principal data scientist and  working for the government. He told me that the government is implementing a strategy called \"AI in 2030\". The goal of this strategy is to make the government to be more data-driven and AI-driven. He told me that every year they have to pay a lot of money to consultancies such as Boston Consulting Group (BCG) to do data analysis for them. He said that the government now is planning to combine data scientist and ChatGPT to do the data analysis. They are hoping that they could reduce 40% of the cost by doing so. The idea is that they will only hire BCG for those very complex data analysis tasks. For those simple tasks, they will use AI to do the data analysis. The main tool that BCG uses is Excel, SQL and Tableau. They are all table-based tools. This means having a good understanding of table-based data analysis is very important. This is why we start from data.table."
   ]
  },
  {
   "cell_type": "markdown",
   "metadata": {},
   "source": [
    "The basic syntax of data.table is summarized in the following illustration. __You will\n",
    "not be tested on the syntax of data.table in the exam__. However, you will be tested on the\n",
    "underlying concepts of data.table, such as the type of variables (integer, character, factor, etc.).\n",
    "In the future if you will be working as a data scientist, you can use data.table to do big\n",
    "data analysis. You will need to know the syntax of data.table for practical use not for the exam.\n",
    "\n",
    "![data.table-syntax](../drawio/R-data-table-illustration2.png)"
   ]
  },
  {
   "cell_type": "markdown",
   "metadata": {},
   "source": [
    "## 2. Using data.table to manipulate data\n",
    "\n",
    "Now, we will use data.table to do some data analysis. We will use the `Community Innovation Survey` (CIS)\n",
    "to do the analysis. The CIS is a survey that is conducted by the European Union (EU) to collect data\n",
    "about innovation activities of firms. The survey we will use is the 2021 CIS from Germany."
   ]
  },
  {
   "cell_type": "code",
   "execution_count": null,
   "metadata": {
    "vscode": {
     "languageId": "r"
    }
   },
   "outputs": [],
   "source": [
    "# install packages\n",
    "install.packages(\"stargazer\")\n",
    "# install ISLR if you don't have it\n",
    "# install.packages(\"ISLR\")\n",
    "install.packages(\"corrplot\")"
   ]
  },
  {
   "cell_type": "code",
   "execution_count": 2,
   "metadata": {
    "vscode": {
     "languageId": "r"
    }
   },
   "outputs": [],
   "source": [
    "# library for data analysis\n",
    "library(data.table)\n",
    "library(magrittr)\n",
    "library(ggplot2)\n",
    "library(knitr)\n",
    "library(stargazer)\n",
    "library(MASS)\n",
    "library(ISLR)\n",
    "library(corrplot)"
   ]
  },
  {
   "cell_type": "code",
   "execution_count": null,
   "metadata": {
    "vscode": {
     "languageId": "r"
    }
   },
   "outputs": [],
   "source": [
    "# read data\n",
    "cis <- fread(\"https://raw.githubusercontent.com/oceanumeric/data-science-go-small/main/data/innovation_survey/extmidp21.csv\")"
   ]
  },
  {
   "cell_type": "code",
   "execution_count": null,
   "metadata": {
    "vscode": {
     "languageId": "r"
    }
   },
   "outputs": [],
   "source": [
    "# check dimension, which shows 5083 rows and 284 columns\n",
    "dim(cis)"
   ]
  },
  {
   "cell_type": "code",
   "execution_count": null,
   "metadata": {
    "vscode": {
     "languageId": "r"
    }
   },
   "outputs": [],
   "source": [
    "# take a look at the first 5 rows\n",
    "head(cis)"
   ]
  },
  {
   "cell_type": "markdown",
   "metadata": {},
   "source": [
    "From the above table, we can see that we have:\n",
    "\n",
    "- integer variables: `id`\n",
    "- character variables: `branche`, `ost`, etc.\n",
    "- numeric variables (dbl): `bges`, `bges18`, etc."
   ]
  },
  {
   "cell_type": "code",
   "execution_count": null,
   "metadata": {
    "vscode": {
     "languageId": "r"
    }
   },
   "outputs": [],
   "source": [
    "# now we want to select all variables that are type of dbl (double - numeric like 3.1415926)\n",
    "# .SD means subset of data in j (select all columns)\n",
    "# .SDcols means subset columns that are double which is by = is.double\n",
    "# all things we will do in excel, SQL, or data.table can be summarized as\n",
    "# I want to do things on rows (i) or columns (j) by some conditions (by)\n",
    "# here we want to select all columns that are double\n",
    "cis %>%\n",
    "    # using [i, j, by] grammar\n",
    "    .[, .SD, .SDcols = is.double] %>% head()"
   ]
  },
  {
   "cell_type": "markdown",
   "metadata": {},
   "source": [
    "Before we continue, let's get to know the meaning of some variables (we have 41 numeric variables in total, so we will not cover all of them):\n",
    "\n",
    "- bges: number of employees (average from 2018 to 2020)\n",
    "- bges18: number of employees in 2018\n",
    "- um18: sales in 2018\n",
    "- lp19: labor productivity in 2019\n",
    "- softws19: software application intensity in 2019\n",
    "- wbp:  Weiterbildungskostenanteil (share of training costs)\n",
    "- invs:  Investitionsintensitaet (investment intensity)"
   ]
  },
  {
   "cell_type": "markdown",
   "metadata": {},
   "source": [
    "From the above table, you can see that we have many `NA` values. This is because the survey is a voluntary survey. This means that firms can choose whether they want to participate in the survey or not. If they choose to participate in the survey, they can choose whether they want to answer all the questions or not. This is why we have many `NA` values - missing values.\n",
    "\n",
    "This is very common in real-world data. To deal with this issue, we normally do the following (will not be tested in the exam):\n",
    "\n",
    "- check the number of missing values\n",
    "- check the pattern of missing values\n",
    "- decide whether we want to drop the missing values or impute the missing values"
   ]
  },
  {
   "cell_type": "code",
   "execution_count": null,
   "metadata": {
    "vscode": {
     "languageId": "r"
    }
   },
   "outputs": [],
   "source": [
    "# check the number of missing values in each column\n",
    "cis %>%\n",
    "    .[, .SD, .SDcols = is.double] %>%\n",
    "    # check the number of missing values in each column\n",
    "    sapply(function(x) sum(is.na(x))) %>%\n",
    "    # sort the number of missing values in each column\n",
    "    sort(decreasing = TRUE) %>%\n",
    "    # convert to data.table and keep rownames as a column\n",
    "    as.data.table(keep.rownames = TRUE) %>%\n",
    "    head(10)"
   ]
  },
  {
   "cell_type": "markdown",
   "metadata": {},
   "source": [
    "#### Missing Values\n",
    "\n",
    "- wmenup: Umsatzanteil der Weltmarktneuheiten in 2020 (share of world market novelties in 2020)\n",
    "- lap2022:  Entw. Innovationsaufw. 2022 in % (Development of innovation expenditure 2022 in %)\n",
    "- fueoefms:  Intensitaet öffentliche FuE-Förderung (Intensity of public R&D funding)\n",
    "\n",
    "We do not know exactly why we have so many missing values. However, we can guess that the reason is that the firms do not want to disclose the information or do not have information. For instance, because of the pandemic in 2020,\n",
    "many firms might not have the information about the share of world market novelties in 2020. \n",
    "This could be the reason why we have so many missing values for `wmenup`.\n",
    "\n",
    "We have shown that the sample size is 5083, if one variable has more than 50% missing values, we will drop this variable.\n",
    "This is because we can do nothing about this variable. If we impute the missing values, we will introduce bias to the data."
   ]
  },
  {
   "cell_type": "code",
   "execution_count": null,
   "metadata": {
    "vscode": {
     "languageId": "r"
    }
   },
   "outputs": [],
   "source": [
    "dim(cis)"
   ]
  },
  {
   "cell_type": "code",
   "execution_count": null,
   "metadata": {
    "vscode": {
     "languageId": "r"
    }
   },
   "outputs": [],
   "source": [
    "# get variable names that have more than 50% missing values\n",
    "cis %>%\n",
    "    .[, .SD, .SDcols = is.double] %>%\n",
    "    # check the number of missing values in each column\n",
    "    sapply(function(x) sum(is.na(x))) %>%\n",
    "    # sort the number of missing values in each column\n",
    "    sort(decreasing = TRUE) %>%\n",
    "    # convert to data.table and keep rownames as a column\n",
    "    as.data.table(keep.rownames = TRUE) %>%\n",
    "    head()\n",
    "# notice that the variable name of second column is a `.`\n",
    "# we will rename it as `num_missing` (number of missing values)"
   ]
  },
  {
   "cell_type": "code",
   "execution_count": null,
   "metadata": {
    "vscode": {
     "languageId": "r"
    }
   },
   "outputs": [],
   "source": [
    "cis %>%\n",
    "    .[, .SD, .SDcols = is.double] %>%\n",
    "    # check the number of missing values in each column\n",
    "    sapply(function(x) sum(is.na(x))) %>%\n",
    "    # sort the number of missing values in each column\n",
    "    sort(decreasing = TRUE) %>%\n",
    "    # convert to data.table and keep rownames as a column\n",
    "    as.data.table(keep.rownames = TRUE) %>%\n",
    "    # rename the second column\n",
    "    setnames(., old = \".\", new = \"num_missing\") %>%\n",
    "    head()"
   ]
  },
  {
   "cell_type": "code",
   "execution_count": null,
   "metadata": {
    "vscode": {
     "languageId": "r"
    }
   },
   "outputs": [],
   "source": [
    "cis %>%\n",
    "    .[, .SD, .SDcols = is.double] %>%\n",
    "    # check the number of missing values in each column\n",
    "    sapply(function(x) sum(is.na(x))) %>%\n",
    "    # sort the number of missing values in each column\n",
    "    sort(decreasing = TRUE) %>%\n",
    "    # convert to data.table and keep rownames as a column\n",
    "    as.data.table(keep.rownames = TRUE) %>%\n",
    "    # rename the second column\n",
    "    setnames(., old = \".\", new = \"num_missing\") %>%\n",
    "    # add missing percentage column\n",
    "    # nrow is the number of rows in the dataset nrow(cis) = dim(cis)[1] = 5083\n",
    "    .[, missing_rate := num_missing / nrow(cis)] %>%\n",
    "    head()"
   ]
  },
  {
   "cell_type": "markdown",
   "metadata": {},
   "source": [
    "> Normally, I will use `%>%` to do everything in one block. However, here I am trying to show you the steps one by one. So, you can see the process clearly."
   ]
  },
  {
   "cell_type": "code",
   "execution_count": null,
   "metadata": {
    "vscode": {
     "languageId": "r"
    }
   },
   "outputs": [],
   "source": [
    "cis %>%\n",
    "    .[, .SD, .SDcols = is.double] %>%\n",
    "    # check the number of missing values in each column\n",
    "    sapply(function(x) sum(is.na(x))) %>%\n",
    "    # sort the number of missing values in each column\n",
    "    sort(decreasing = TRUE) %>%\n",
    "    # convert to data.table and keep rownames as a column\n",
    "    as.data.table(keep.rownames = TRUE) %>%\n",
    "    # rename the second column\n",
    "    setnames(., old = \".\", new = \"num_missing\") %>%\n",
    "    # add missing percentage column\n",
    "    # nrow is the number of rows in the dataset nrow(cis) = dim(cis)[1] = 5083\n",
    "    .[, missing_rate := num_missing / nrow(cis)] %>%\n",
    "    # filter variables that have missing rate > 0.5\n",
    "    # we are using [i, j, by] grammar again on rows now\n",
    "    .[missing_rate >= 0.5]\n",
    "\n",
    "# as you can see we have 18 variables that have missing rate > 0.5\n",
    "# we will remove them from the dataset"
   ]
  },
  {
   "cell_type": "code",
   "execution_count": null,
   "metadata": {
    "vscode": {
     "languageId": "r"
    }
   },
   "outputs": [],
   "source": [
    "cis %>%\n",
    "    .[, .SD, .SDcols = is.double] %>%\n",
    "    # check the number of missing values in each column\n",
    "    sapply(function(x) sum(is.na(x))) %>%\n",
    "    # sort the number of missing values in each column\n",
    "    sort(decreasing = TRUE) %>%\n",
    "    # convert to data.table and keep rownames as a column\n",
    "    as.data.table(keep.rownames = TRUE) %>%\n",
    "    # rename the second column\n",
    "    setnames(., old = \".\", new = \"num_missing\") %>%\n",
    "    # add missing percentage column\n",
    "    # nrow is the number of rows in the dataset nrow(cis) = dim(cis)[1] = 5083\n",
    "    .[, missing_rate := num_missing / nrow(cis)] %>%\n",
    "    # filter variables that have missing rate > 0.5\n",
    "    # we are using [i, j, by] grammar again on rows now\n",
    "    .[missing_rate >= 0.5] %>%\n",
    "    # select the first column as they are the variable names\n",
    "    # [i, j, by]\n",
    "    .[, rn]"
   ]
  },
  {
   "cell_type": "code",
   "execution_count": null,
   "metadata": {
    "vscode": {
     "languageId": "r"
    }
   },
   "outputs": [],
   "source": [
    "cis %>%\n",
    "    .[, .SD, .SDcols = is.double] %>%\n",
    "    # check the number of missing values in each column\n",
    "    sapply(function(x) sum(is.na(x))) %>%\n",
    "    # sort the number of missing values in each column\n",
    "    sort(decreasing = TRUE) %>%\n",
    "    # convert to data.table and keep rownames as a column\n",
    "    as.data.table(keep.rownames = TRUE) %>%\n",
    "    # rename the second column\n",
    "    setnames(., old = \".\", new = \"num_missing\") %>%\n",
    "    # add missing percentage column\n",
    "    # nrow is the number of rows in the dataset nrow(cis) = dim(cis)[1] = 5083\n",
    "    .[, missing_rate := num_missing / nrow(cis)] %>%\n",
    "    # filter variables that have missing rate > 0.5\n",
    "    # we are using [i, j, by] grammar again on rows now\n",
    "    .[missing_rate >= 0.5] %>%\n",
    "    # select the first column as they are the variable names\n",
    "    # [i, j, by]\n",
    "    # save the variable names to a variable called vars_to_remove\n",
    "    .[, rn] -> vars_to_remove"
   ]
  },
  {
   "cell_type": "code",
   "execution_count": null,
   "metadata": {
    "vscode": {
     "languageId": "r"
    }
   },
   "outputs": [],
   "source": [
    "# in jupyter notebook we can use vars_to_remove to see the variable names\n",
    "vars_to_remove"
   ]
  },
  {
   "cell_type": "code",
   "execution_count": null,
   "metadata": {
    "vscode": {
     "languageId": "r"
    }
   },
   "outputs": [],
   "source": [
    "# or you can print out the variable names\n",
    "print(vars_to_remove)"
   ]
  },
  {
   "cell_type": "code",
   "execution_count": null,
   "metadata": {
    "vscode": {
     "languageId": "r"
    }
   },
   "outputs": [],
   "source": [
    "# now we will remove the variables from the dataset\n",
    "cis %>%\n",
    "    # select variables that are numeric (double)\n",
    "    .[, .SD, .SDcols = is.double] %>%\n",
    "    # remove variables that are in vars_to_remove\n",
    "    # with means we are usig column names instead of column indices\n",
    "    # at by position\n",
    "    .[, !vars_to_remove, with = FALSE] %>%\n",
    "    head()"
   ]
  },
  {
   "cell_type": "code",
   "execution_count": null,
   "metadata": {
    "vscode": {
     "languageId": "r"
    }
   },
   "outputs": [],
   "source": [
    "# compare with the original dataset\n",
    "cis %>%\n",
    "    .[, .SD, .SDcols = is.double] %>%\n",
    "    dim()  # 41 columns (variables)"
   ]
  },
  {
   "cell_type": "code",
   "execution_count": null,
   "metadata": {
    "vscode": {
     "languageId": "r"
    }
   },
   "outputs": [],
   "source": [
    "cis %>%\n",
    "    # select variables that are numeric (double)\n",
    "    .[, .SD, .SDcols = is.double] %>%\n",
    "    # remove variables that are in vars_to_remove\n",
    "    # with means we are using column names instead of column indices\n",
    "    # with means we are using column names instead of column indices\n",
    "    .[, !vars_to_remove, with = FALSE] %>%\n",
    "    dim()  # 23 columns (variables)"
   ]
  },
  {
   "cell_type": "code",
   "execution_count": null,
   "metadata": {
    "vscode": {
     "languageId": "r"
    }
   },
   "outputs": [],
   "source": [
    "# with all numeric variables and not many missing values\n",
    "# we can check the correlation between variables\n",
    "cis %>%\n",
    "    # select variables that are numeric (double)\n",
    "    .[, .SD, .SDcols = is.double] %>%\n",
    "    # remove variables that are in vars_to_remove\n",
    "    # with means we are using column names instead of column indices\n",
    "    # with means we are using column names instead of column indices\n",
    "    .[, !vars_to_remove, with = FALSE] %>%\n",
    "    # calculate the correlation between variables without missing values\n",
    "    cor(use = \"pairwise.complete.obs\") %>%\n",
    "    # plot the correlation matrix\n",
    "    corrplot(method = \"color\")"
   ]
  },
  {
   "cell_type": "markdown",
   "metadata": {},
   "source": [
    "You might see the correlation plot like the above one in the exam. I will tell you\n",
    "the meaning of variables:\n",
    "\n",
    "- bges: number of employees (average from 2018 to 2020)\n",
    "- bges18: number of employees in 2018\n",
    "- um18: sales in 2018\n",
    "- lp19: labor productivity in 2019\n",
    "- softws19: software application intensity in 2019\n",
    "- wbp:  Weiterbildungskostenanteil (share of training costs)\n",
    "- invs:  Investitionsintensitaet (investment intensity)\n",
    "- exs:  Exportintensitaet insgesamt (total export intensity)\n",
    "- markets:  Marketingaufwendungen Intensitaet (marketing expenditure intensity)\n",
    "- designs:  Designaufwendungen Intensitaet (design expenditure intensity)\n",
    "\n",
    "For instance, I might ask you:\n",
    "\n",
    "- in the graph, we see the correlated cluster of `markets`, `designs`, and `softws19`. What does this mean?\n",
    "- in the graph, we see that there is correlation between `exs`, `bges` and `bges18`, what kind of hypothesis can we make based on this correlation?"
   ]
  },
  {
   "cell_type": "code",
   "execution_count": null,
   "metadata": {
    "vscode": {
     "languageId": "r"
    }
   },
   "outputs": [],
   "source": [
    "# we can also use circlize to plot the correlation matrix\n",
    "cis %>%\n",
    "    # select variables that are numeric (double)\n",
    "    .[, .SD, .SDcols = is.double] %>%\n",
    "    # remove variables that are in vars_to_remove\n",
    "    # with means we are using column names instead of column indices\n",
    "    # with means we are using column names instead of column indices\n",
    "    .[, !vars_to_remove, with = FALSE] %>%\n",
    "    # calculate the correlation between variables without missing values\n",
    "    cor(use = \"pairwise.complete.obs\") %>%\n",
    "    # plot the correlation matrix with circlize with half matrix\n",
    "    corrplot(method = \"circle\", type = \"upper\")"
   ]
  },
  {
   "cell_type": "markdown",
   "metadata": {},
   "source": [
    "The correlation plot could give us a big picture on what's going on. For instance,\n",
    "\n",
    "- factors are grouped together based on their correlation\n",
    "- the bigger the circle, the higher the correlation\n",
    "- the color of the circle indicates the sign of the correlation (blue: positive, red: negative)\n",
    "\n",
    "Based on the correlation plot, you can combine your domain knowledge to make hypothesis.\n",
    "\n",
    "However, __This kind of correlation plot only gives a global picture. It does not tell us the whole story__. For instance, we are not zooming into the industry level analysis. __It is \n",
    "very likely that the correlationb between say `markets` and `designs` is different for different industries__. This is why we need to do industry level analysis."
   ]
  },
  {
   "cell_type": "markdown",
   "metadata": {},
   "source": [
    "### CIS with Industry Level Analysis\n",
    "\n",
    "Now, we will do industry level analysis. We will use the `branche` variable to do the\n",
    "industry level analysis.\n",
    "\n",
    "- `branche`:  Einteil. in 21 Wirtschaftszweige (classification into 21 economic sectors)"
   ]
  },
  {
   "cell_type": "code",
   "execution_count": null,
   "metadata": {
    "vscode": {
     "languageId": "r"
    }
   },
   "outputs": [],
   "source": [
    "# get to know branche\n",
    "cis %>%\n",
    "    # select branche with [i, j, by]\n",
    "    # .(branchen) is the same as c(\"branchen\")\n",
    "    .[, .(branche)] %>%\n",
    "    head()"
   ]
  },
  {
   "cell_type": "code",
   "execution_count": null,
   "metadata": {
    "vscode": {
     "languageId": "r"
    }
   },
   "outputs": [],
   "source": [
    "# we can check how many unique values in branche\n",
    "cis %>%\n",
    "    .[, .(branche)] %>%\n",
    "    # unique() returns the unique values\n",
    "    unique()  # 21 unique values (industries)"
   ]
  },
  {
   "cell_type": "code",
   "execution_count": null,
   "metadata": {
    "vscode": {
     "languageId": "r"
    }
   },
   "outputs": [],
   "source": [
    "# branche is character\n",
    "# we can calculate the frequency of each branche\n",
    "cis %>%\n",
    "    .[, .(branche)] %>%\n",
    "    # calculate the frequency of each branche\n",
    "    # [i, j, by] by = branche means we are grouping by branche\n",
    "    # .N is calculating the number of rows in each group\n",
    "    .[, .N, by = branche]"
   ]
  },
  {
   "cell_type": "code",
   "execution_count": null,
   "metadata": {
    "vscode": {
     "languageId": "r"
    }
   },
   "outputs": [],
   "source": [
    "cis %>%\n",
    "    .[, .(branche)] %>%\n",
    "    # calculate the frequency of each branche\n",
    "    # [i, j, by] by = branche means we are grouping by branche\n",
    "    # .N is calculating the number of rows in each group\n",
    "    .[, .N, by = branche] %>%\n",
    "    # sort the frequency in descending order\n",
    "    # order(-N) means we are sorting N in descending order\n",
    "    # we put it into i position because we are sorting rows\n",
    "    .[order(-N)]"
   ]
  },
  {
   "cell_type": "markdown",
   "metadata": {},
   "source": [
    "The industry distribution shows the 'big picutre' of German economy. We can see that the most important industry is `Transport/Post` , `Wasser/Entsorgung/Recycling`, and `Metallerzeugung/-bearbeitung`. __Be careful that we might have selection bias here__. This is because the survey is a voluntary survey. This means that firms can choose whether they want to participate in the survey or not. So, the industry distribution might not be representative."
   ]
  },
  {
   "cell_type": "markdown",
   "metadata": {},
   "source": [
    "When we see those industries, we are interested in:\n",
    "\n",
    "- what are the characteristics of those industries?\n",
    "- which industries are similar to each other?\n",
    "- which industries are different from each other?\n",
    "- what are the characteristics of the firms in those industries?"
   ]
  },
  {
   "cell_type": "markdown",
   "metadata": {},
   "source": [
    "Since we have many industries, to find out which industries are similar to each other \n",
    "is not easy by analyzing the dataset. __We have to reply on our domain knowledge__. Here,\n",
    "we expect that `Transport/Post` and `Metallerzeugung/-bearbeitung` are similar to each other.\n",
    "\n",
    "With our domain knowledge, we will focus on three groups of industries:\n",
    "\n",
    "- indus1: `Transport/Post`, `Metallerzeugung/-bearbeitung`, and `Maschinenbau`\n",
    "- indus2: `Unternehmensdienste`,  `Unternehmensberatung/Werbung`, and `Finanzdienstleistungen`\n",
    "- indus3: `Elektroindustrie`, and `Mediendienstleistungen`, and `EDV/Telekommunikation`\n",
    "\n",
    "We will now select the firms in those industries and group them together."
   ]
  },
  {
   "cell_type": "code",
   "execution_count": null,
   "metadata": {
    "vscode": {
     "languageId": "r"
    }
   },
   "outputs": [],
   "source": [
    "# create a variables that will include industries we will focus on\n",
    "indus1 <- c(\n",
    "    \"Transport/Post\", \"Metallerzeugung/-bearbeitung\", \"Maschinenbau\"\n",
    ")\n",
    "indus2 <- c(\n",
    "    \"Unternehmensdienste\", \"Unternehmensberatung/Werbung\", \"Finanzdienstleistungen\"\n",
    ")\n",
    "indus3 <- c(\n",
    "    \"Elektroindustrie\", \"Mediendienstleistungen\", \"EDV/Telekommunikation\"\n",
    ")"
   ]
  },
  {
   "cell_type": "code",
   "execution_count": null,
   "metadata": {
    "vscode": {
     "languageId": "r"
    }
   },
   "outputs": [],
   "source": [
    "# now select all the rows that have branche in indus1, indus2, indus3\n",
    "cis %>%\n",
    "    # [i, j, by] at i postion\n",
    "    # filter out branche are in indus1, indus2, indus3\n",
    "    # | means or in R\n",
    "    # %in% means is in\n",
    "    .[branche %in% indus1 | branche %in% indus2 | branche %in% indus3] %>%\n",
    "    dim()"
   ]
  },
  {
   "cell_type": "code",
   "execution_count": null,
   "metadata": {
    "vscode": {
     "languageId": "r"
    }
   },
   "outputs": [],
   "source": [
    "cis %>%\n",
    "    # [i, j, by] at i postion\n",
    "    # filter out branche are in indus1, indus2, indus3\n",
    "    # | means or in R\n",
    "    # %in% means is in\n",
    "    .[branche %in% indus1 | branche %in% indus2 | branche %in% indus3] %>%\n",
    "    # verify the result\n",
    "    .[, .(branche)] %>%\n",
    "    unique()"
   ]
  },
  {
   "cell_type": "code",
   "execution_count": null,
   "metadata": {
    "vscode": {
     "languageId": "r"
    }
   },
   "outputs": [],
   "source": [
    "cis %>%\n",
    "    # [i, j, by] at i postion\n",
    "    # filter out branche are in indus1, indus2, indus3\n",
    "    # | means or in R\n",
    "    # %in% means is in\n",
    "    .[branche %in% indus1 | branche %in% indus2 | branche %in% indus3] %>%\n",
    "    # verify the result\n",
    "    .[, .(branche)] %>%\n",
    "    # calculate the frequency of each branche\n",
    "    .[, .N, by = branche]"
   ]
  },
  {
   "cell_type": "code",
   "execution_count": null,
   "metadata": {
    "vscode": {
     "languageId": "r"
    }
   },
   "outputs": [],
   "source": [
    "# now we group them \n",
    "cis %>%\n",
    "    # [i, j, by] at i postion\n",
    "    # filter out branche are in indus1, indus2, indus3\n",
    "    # | means or in R\n",
    "    # %in% means is in\n",
    "    .[branche %in% indus1 | branche %in% indus2 | branche %in% indus3] %>%\n",
    "    # add a new variable called industry\n",
    "    # fill indus1, indus2, indus3 based on branche\n",
    "    .[, industry := ifelse(\n",
    "        branche %in% indus1, \"indus1\",\n",
    "        ifelse(branche %in% indus2, \"indus2\", \"indus3\")\n",
    "    )] %>%\n",
    "    head()  # variable industry is added to the dataset at the last column"
   ]
  },
  {
   "cell_type": "code",
   "execution_count": null,
   "metadata": {
    "vscode": {
     "languageId": "r"
    }
   },
   "outputs": [],
   "source": [
    "cis %>%\n",
    "    # [i, j, by] at i postion\n",
    "    # filter out branche are in indus1, indus2, indus3\n",
    "    # | means or in R\n",
    "    # %in% means is in\n",
    "    .[branche %in% indus1 | branche %in% indus2 | branche %in% indus3] %>%\n",
    "    # add a new variable called industry\n",
    "    # fill indus1, indus2, indus3 based on branche\n",
    "    .[, industry := ifelse(\n",
    "        branche %in% indus1, \"indus1\",\n",
    "        ifelse(branche %in% indus2, \"indus2\", \"indus3\")\n",
    "    )] %>%\n",
    "    # verify the result by selecting branche and industry\n",
    "    .[, .(branche, industry)] %>%\n",
    "    head()"
   ]
  },
  {
   "cell_type": "markdown",
   "metadata": {},
   "source": [
    "After classifying the industry, we can compare the correlation between different\n",
    "industries. We want to see whether the relationship between for instance `export` and \n",
    "`labor productivity` is different for different industries."
   ]
  },
  {
   "cell_type": "code",
   "execution_count": null,
   "metadata": {
    "vscode": {
     "languageId": "r"
    }
   },
   "outputs": [],
   "source": [
    "# we will create a vector that will include all the variables we will use"
   ]
  },
  {
   "cell_type": "code",
   "execution_count": null,
   "metadata": {
    "vscode": {
     "languageId": "r"
    }
   },
   "outputs": [],
   "source": [
    "# plot correlation matrix for indus1 - machineary industry or related (transport/post, metal, machine)\n",
    "cis %>%\n",
    "    # filter out branche are in indus1, indus2, indus3\n",
    "    .[branche %in% indus1 | branche %in% indus2 | branche %in% indus3] %>%\n",
    "    # add a new variable called industry\n",
    "    .[, industry := ifelse(\n",
    "        branche %in% indus1, \"indus1\",\n",
    "        ifelse(branche %in% indus2, \"indus2\", \"indus3\")\n",
    "    )] %>%\n",
    "    # filter out the indust1\n",
    "    .[industry == \"indus1\"] %>%\n",
    "    # select the variables are double\n",
    "    .[, .SD, .SDcols = is.double] %>%\n",
    "    # remove variables that are in vars_to_remove\n",
    "    .[, !vars_to_remove, with = FALSE] %>%\n",
    "    # calculate the correlation between variables without missing values\n",
    "    cor(use = \"pairwise.complete.obs\") %>%\n",
    "    # plot the correlation matrix with circlize with half matrix\n",
    "    corrplot(method = \"circle\", type = \"upper\")"
   ]
  },
  {
   "cell_type": "code",
   "execution_count": null,
   "metadata": {
    "vscode": {
     "languageId": "r"
    }
   },
   "outputs": [],
   "source": [
    "# plot correlation matrix for indus2 - business services industry or related (business services, consulting, finance)\n",
    "cis %>%\n",
    "    # filter out branche are in indus1, indus2, indus3\n",
    "    .[branche %in% indus1 | branche %in% indus2 | branche %in% indus3] %>%\n",
    "    # add a new variable called industry\n",
    "    .[, industry := ifelse(\n",
    "        branche %in% indus1, \"indus1\",\n",
    "        ifelse(branche %in% indus2, \"indus2\", \"indus3\")\n",
    "    )] %>%\n",
    "    # filter out the indust1\n",
    "    .[industry == \"indus2\"] %>%\n",
    "    # select the variables are double\n",
    "    .[, .SD, .SDcols = is.double] %>%\n",
    "    # remove variables that are in vars_to_remove\n",
    "    .[, !vars_to_remove, with = FALSE] %>%\n",
    "    # calculate the correlation between variables without missing values\n",
    "    cor(use = \"pairwise.complete.obs\") %>%\n",
    "    # plot the correlation matrix with circlize with half matrix\n",
    "    corrplot(method = \"circle\", type = \"upper\")"
   ]
  },
  {
   "cell_type": "code",
   "execution_count": null,
   "metadata": {
    "vscode": {
     "languageId": "r"
    }
   },
   "outputs": [],
   "source": [
    "# plot correlation matrix for indus3 - IT industry or related (IT, telecom, media)\n",
    "cis %>%\n",
    "    # filter out branche are in indus1, indus2, indus3\n",
    "    .[branche %in% indus1 | branche %in% indus2 | branche %in% indus3] %>%\n",
    "    # add a new variable called industry\n",
    "    .[, industry := ifelse(\n",
    "        branche %in% indus1, \"indus1\",\n",
    "        ifelse(branche %in% indus2, \"indus2\", \"indus3\")\n",
    "    )] %>%\n",
    "    # filter out the indust1\n",
    "    .[industry == \"indus3\"] %>%\n",
    "    # select the variables are double\n",
    "    .[, .SD, .SDcols = is.double] %>%\n",
    "    # remove variables that are in vars_to_remove\n",
    "    .[, !vars_to_remove, with = FALSE] %>%\n",
    "    # calculate the correlation between variables without missing values\n",
    "    cor(use = \"pairwise.complete.obs\") %>%\n",
    "    # plot the correlation matrix with circlize with half matrix\n",
    "    corrplot(method = \"circle\", type = \"upper\")"
   ]
  },
  {
   "cell_type": "markdown",
   "metadata": {},
   "source": [
    "Now, let's put them together and compare them. I will write a function to do this because \n",
    "we do not have to repeat the same code again and again (it will __not__ be tested in the exam)."
   ]
  },
  {
   "cell_type": "code",
   "execution_count": null,
   "metadata": {
    "vscode": {
     "languageId": "r"
    }
   },
   "outputs": [],
   "source": [
    "plot_correlation <- function(industry_name) {\n",
    "    cis %>%\n",
    "    # filter out branche are in indus1, indus2, indus3\n",
    "    .[branche %in% indus1 | branche %in% indus2 | branche %in% indus3] %>%\n",
    "    # add a new variable called industry\n",
    "    .[, industry := ifelse(\n",
    "        branche %in% indus1, \"indus1\",\n",
    "        ifelse(branche %in% indus2, \"indus2\", \"indus3\")\n",
    "    )] %>%\n",
    "    # filter out the indust1\n",
    "    .[industry == industry_name] %>%\n",
    "    # select the variables are double\n",
    "    .[, .SD, .SDcols = is.double] %>%\n",
    "    # remove variables that are in vars_to_remove\n",
    "    .[, !vars_to_remove, with = FALSE] %>%\n",
    "    # calculate the correlation between variables without missing values\n",
    "    cor(use = \"pairwise.complete.obs\") %>%\n",
    "    # plot the correlation matrix with circlize with half matrix\n",
    "    corrplot(method = \"circle\", type = \"upper\", title=industry_name, mar=c(0,0,2,0))\n",
    "}"
   ]
  },
  {
   "cell_type": "code",
   "execution_count": null,
   "metadata": {
    "vscode": {
     "languageId": "r"
    }
   },
   "outputs": [],
   "source": [
    "# let's put them together and compare\n",
    "cis %>%\n",
    "    # filter out branche are in indus1, indus2, indus3\n",
    "    .[branche %in% indus1 | branche %in% indus2 | branche %in% indus3] %>%\n",
    "    # add a new variable called industry\n",
    "    .[, industry := ifelse(\n",
    "        branche %in% indus1, \"indus1\",\n",
    "        ifelse(branche %in% indus2, \"indus2\", \"indus3\")\n",
    "    )] %>%\n",
    "    # select the variables are double\n",
    "    .[, .SD, .SDcols = is.double] %>%\n",
    "    # remove variables that are in vars_to_remove\n",
    "    .[, !vars_to_remove, with = FALSE] %>%\n",
    "    # calculate the correlation between variables without missing values\n",
    "    cor(use = \"pairwise.complete.obs\") %>%\n",
    "    # plot the correlation matrix with circlize with half matrix\n",
    "    corrplot(method = \"circle\", type = \"upper\")  -> corr_overall"
   ]
  },
  {
   "cell_type": "code",
   "execution_count": null,
   "metadata": {
    "vscode": {
     "languageId": "r"
    }
   },
   "outputs": [],
   "source": [
    "# figure size\n",
    "options(repr.plot.width = 10, repr.plot.height = 10)\n",
    "plot_correlation(\"indus1\")\n",
    "plot_correlation(\"indus2\")\n",
    "plot_correlation(\"indus3\")"
   ]
  },
  {
   "cell_type": "markdown",
   "metadata": {},
   "source": [
    "Now, I put everything together and highlight some interesting phenomena.\n",
    "\n",
    "![corr-plot](./indus_corr.png)"
   ]
  },
  {
   "cell_type": "markdown",
   "metadata": {},
   "source": [
    "As you can see that the correlations between `export` and other variables are very different\n",
    "cross different industries.\n",
    "\n",
    "__Summary:__ for this part, you need to know that industry level analysis is very important.\n",
    "For the coding part, you will not be tested in the exam. However, you need to know how to\n",
    "do it in real life."
   ]
  },
  {
   "cell_type": "markdown",
   "metadata": {},
   "source": [
    "## 3. Basic data visualization\n",
    "\n",
    "In this section, we will learn how to use basic data visualization tools to \n",
    "conduct exploratory data analysis by focusing on the following topics:\n",
    "\n",
    "- univariate analysis (histogram, boxplot, density plot)\n",
    "- bivariate analysis (scatter plot, line plot, bar plot)\n",
    "\n",
    "Many concepts in this section will be tested in the exam. So, please pay attention to this section."
   ]
  },
  {
   "cell_type": "code",
   "execution_count": 3,
   "metadata": {
    "vscode": {
     "languageId": "r"
    }
   },
   "outputs": [],
   "source": [
    "# we will use two datasets\n",
    "# community innovation survey (cis), religion and innovation survey (ris)\n",
    "# read data again\n",
    "cis <- fread(\"https://raw.githubusercontent.com/oceanumeric/data-science-go-small/main/data/innovation_survey/extmidp21.csv\")"
   ]
  },
  {
   "cell_type": "code",
   "execution_count": null,
   "metadata": {
    "vscode": {
     "languageId": "r"
    }
   },
   "outputs": [],
   "source": [
    "str(cis)"
   ]
  },
  {
   "cell_type": "markdown",
   "metadata": {},
   "source": [
    "As you can see that we have many variables. It is not easy to understand the data by looking at the numbers. So, we need to visualize the data. We will select some variables of interest:\n",
    "\n",
    "- ias:            Innovationsintensitaet\n",
    "- iasx:             Stutzung Innovationsintensitaet\n",
    "- iainvs:            Intensitaet investive Inno.\n",
    "- iainvsx:          Stutzung Intens.inv.Inno\n",
    "- iafues:           Intensitaet interne FuE\n",
    "- iafuesx:         Stutzung Intens. interne FuE\n",
    "- iavfues:         Intensitaet externe FuE\n",
    "- iavfuesx:        Stutzung Intens. externe FuE\n",
    "- iasos:           Intensitaet sonst. Innovationsaufw\n",
    "- iasosx:          Stutzung sonst. Innovationsaufw\n",
    "\n",
    "All those variables are related to innovation, which could be used as dependent variables."
   ]
  },
  {
   "cell_type": "code",
   "execution_count": null,
   "metadata": {
    "vscode": {
     "languageId": "r"
    }
   },
   "outputs": [],
   "source": [
    "# get column index of ias\n",
    "which(colnames(cis) == \"ias\")\n",
    "# get column index of iasosx\n",
    "which(colnames(cis) == \"iasosx\")"
   ]
  },
  {
   "cell_type": "code",
   "execution_count": null,
   "metadata": {
    "vscode": {
     "languageId": "r"
    }
   },
   "outputs": [],
   "source": [
    "# now we will select the columns we need from 107 to 116\n",
    "cis %>%\n",
    "    # in [i, j, by] you can use index too instead of column name\n",
    "    .[, 107:116] %>%\n",
    "    head()"
   ]
  },
  {
   "cell_type": "code",
   "execution_count": null,
   "metadata": {
    "vscode": {
     "languageId": "r"
    }
   },
   "outputs": [],
   "source": [
    "cis %>%\n",
    "    .[, 107:116] %>%\n",
    "    # check number of missing values\n",
    "    sapply(function(x) sum(is.na(x))) %>%\n",
    "    as.data.table(keep.rownames = TRUE)"
   ]
  },
  {
   "cell_type": "markdown",
   "metadata": {},
   "source": [
    "As you can see that there are so many missing values. We will drop those missing values.\n",
    "We will filter the data based on `ias`."
   ]
  },
  {
   "cell_type": "code",
   "execution_count": null,
   "metadata": {
    "vscode": {
     "languageId": "r"
    }
   },
   "outputs": [],
   "source": [
    "# we will have 2056 firms, which is fine for our analysis\n",
    "cis %>%\n",
    "    .[!is.na(ias)] %>%\n",
    "    dim()"
   ]
  },
  {
   "cell_type": "code",
   "execution_count": null,
   "metadata": {
    "vscode": {
     "languageId": "r"
    }
   },
   "outputs": [],
   "source": [
    "# we will focus on firms that have innovation intensity score\n",
    "cis %>%\n",
    "    # remove missing values for ias \n",
    "    .[!is.na(ias)] %>%\n",
    "    # check the distribution of industry\n",
    "    .[, .N, by = branche]"
   ]
  },
  {
   "cell_type": "code",
   "execution_count": 5,
   "metadata": {
    "vscode": {
     "languageId": "r"
    }
   },
   "outputs": [],
   "source": [
    "# create a variables that will include industries we will focus on\n",
    "indus1 <- c(\n",
    "    \"Transport/Post\", \"Metallerzeugung/-bearbeitung\", \"Maschinenbau\"\n",
    ")\n",
    "indus2 <- c(\n",
    "    \"Unternehmensdienste\", \"Unternehmensberatung/Werbung\", \"Finanzdienstleistungen\"\n",
    ")\n",
    "indus3 <- c(\n",
    "    \"Elektroindustrie\", \"Mediendienstleistungen\", \"EDV/Telekommunikation\"\n",
    ")"
   ]
  },
  {
   "cell_type": "code",
   "execution_count": null,
   "metadata": {
    "vscode": {
     "languageId": "r"
    }
   },
   "outputs": [],
   "source": [
    "# we will filter out those three industries we will focus on\n",
    "cis %>%\n",
    "    # remove missing values for ias \n",
    "    .[!is.na(ias)] %>%\n",
    "    # filter out branche are in indus1, indus2, indus3\n",
    "    .[branche %in% indus1 | branche %in% indus2 | branche %in% indus3] %>%\n",
    "    # add a new variable called industry\n",
    "    .[, industry := ifelse(\n",
    "        branche %in% indus1, \"machineary\",  # call indus1 as machineary\n",
    "        ifelse(branche %in% indus2, \"business\", \"IT\")\n",
    "    )] %>%\n",
    "    head()"
   ]
  },
  {
   "cell_type": "code",
   "execution_count": null,
   "metadata": {
    "vscode": {
     "languageId": "r"
    }
   },
   "outputs": [],
   "source": [
    "# check distribution of industry\n",
    "cis %>%\n",
    "    # remove missing values for ias \n",
    "    .[!is.na(ias)] %>%\n",
    "    # filter out branche are in indus1, indus2, indus3\n",
    "    .[branche %in% indus1 | branche %in% indus2 | branche %in% indus3] %>%\n",
    "    # add a new variable called industry\n",
    "    .[, industry := ifelse(\n",
    "        branche %in% indus1, \"machineary\",  # call indus1 as machineary\n",
    "        ifelse(branche %in% indus2, \"business\", \"IT\")\n",
    "    )]%>%\n",
    "    .[, .N, by = industry]  # quite balanced"
   ]
  },
  {
   "cell_type": "markdown",
   "metadata": {},
   "source": [
    "The above process is about cleaning and organizing the dataset, which is very important.\n",
    "Now, we will create a new dataset based on our clearning process and call it `cis2`."
   ]
  },
  {
   "cell_type": "code",
   "execution_count": 6,
   "metadata": {
    "vscode": {
     "languageId": "r"
    }
   },
   "outputs": [],
   "source": [
    "cis %>%\n",
    "    # remove missing values for ias \n",
    "    .[!is.na(ias)] %>%\n",
    "    # filter out branche are in indus1, indus2, indus3\n",
    "    .[branche %in% indus1 | branche %in% indus2 | branche %in% indus3] %>%\n",
    "    # add a new variable called industry\n",
    "    .[, industry := ifelse(\n",
    "        branche %in% indus1, \"machineary\",  # call indus1 as machineary\n",
    "        ifelse(branche %in% indus2, \"business\", \"IT\")\n",
    "    )] -> cis2"
   ]
  },
  {
   "cell_type": "code",
   "execution_count": null,
   "metadata": {
    "vscode": {
     "languageId": "r"
    }
   },
   "outputs": [],
   "source": [
    "dim(cis2)  # we only have 1042 firms "
   ]
  },
  {
   "cell_type": "code",
   "execution_count": null,
   "metadata": {
    "vscode": {
     "languageId": "r"
    }
   },
   "outputs": [],
   "source": [
    "# let's check innovation intensity score (ias)\n",
    "cis2 %>%\n",
    "    .[, .(ias)] %>% head()"
   ]
  },
  {
   "cell_type": "code",
   "execution_count": null,
   "metadata": {
    "vscode": {
     "languageId": "r"
    }
   },
   "outputs": [],
   "source": [
    "# get summary statistics of ias\n",
    "cis2 %>%\n",
    "    .[, .(ias)] %>%\n",
    "    summary()"
   ]
  },
  {
   "cell_type": "markdown",
   "metadata": {},
   "source": [
    "The above summary is very important. It tells us that the first quartile is 0. This means that\n",
    "25% of the firms do not have any innovation. The median is 0.001, which means that 50% of the firms have innovation intensity less than 0.001. The third quartile is 0.037, which means that 75% of the firms have innovation intensity less than 0.037. The maximum is 1.156, which means that the maximum innovation intensity is 1.156.\n",
    "\n",
    "This is __very common__ in business world as most of the firms are not very innovative."
   ]
  },
  {
   "cell_type": "code",
   "execution_count": 7,
   "metadata": {
    "vscode": {
     "languageId": "r"
    }
   },
   "outputs": [
    {
     "data": {
      "image/png": "[encoded data removed]",
      "text/plain": [
       "Plot with title \"Histogram of ias\""
      ]
     },
     "metadata": {
      "image/png": {
       "height": 420,
       "width": 420
      }
     },
     "output_type": "display_data"
    }
   ],
   "source": [
    "# plot the distribution of ias as it is a continuous variable\n",
    "cis2 %>%\n",
    "    .[, .(ias)] %>%\n",
    "    with(hist(ias, breaks = 20))"
   ]
  },
  {
   "cell_type": "code",
   "execution_count": 8,
   "metadata": {
    "vscode": {
     "languageId": "r"
    }
   },
   "outputs": [
    {
     "data": {
      "text/html": [
       "<style>\n",
       ".list-inline {list-style: none; margin:0; padding: 0}\n",
       ".list-inline>li {display: inline-block}\n",
       ".list-inline>li:not(:last-child)::after {content: \"\\00b7\"; padding: 0 .5ex}\n",
       "</style>\n",
       "<ol class=list-inline><li>536</li><li>285</li></ol>\n"
      ],
      "text/latex": [
       "\\begin{enumerate*}\n",
       "\\item 536\n",
       "\\item 285\n",
       "\\end{enumerate*}\n"
      ],
      "text/markdown": [
       "1. 536\n",
       "2. 285\n",
       "\n",
       "\n"
      ],
      "text/plain": [
       "[1] 536 285"
      ]
     },
     "metadata": {},
     "output_type": "display_data"
    }
   ],
   "source": [
    "# focus on firms that have ias > 0\n",
    "cis2 %>%\n",
    "    .[ias > 0] %>%\n",
    "    dim()  # we have 536 firms"
   ]
  },
  {
   "cell_type": "code",
   "execution_count": 9,
   "metadata": {
    "vscode": {
     "languageId": "r"
    }
   },
   "outputs": [
    {
     "data": {
      "text/html": [
       "<table class=\"dataframe\">\n",
       "<caption>A data.table: 3 x 2</caption>\n",
       "<thead>\n",
       "\t<tr><th scope=col>industry</th><th scope=col>N</th></tr>\n",
       "\t<tr><th scope=col>&lt;chr&gt;</th><th scope=col>&lt;int&gt;</th></tr>\n",
       "</thead>\n",
       "<tbody>\n",
       "\t<tr><td>IT        </td><td>246</td></tr>\n",
       "\t<tr><td>machineary</td><td>192</td></tr>\n",
       "\t<tr><td>business  </td><td> 98</td></tr>\n",
       "</tbody>\n",
       "</table>\n"
      ],
      "text/latex": [
       "A data.table: 3 x 2\n",
       "\\begin{tabular}{ll}\n",
       " industry & N\\\\\n",
       " <chr> & <int>\\\\\n",
       "\\hline\n",
       "\t IT         & 246\\\\\n",
       "\t machineary & 192\\\\\n",
       "\t business   &  98\\\\\n",
       "\\end{tabular}\n"
      ],
      "text/markdown": [
       "\n",
       "A data.table: 3 x 2\n",
       "\n",
       "| industry &lt;chr&gt; | N &lt;int&gt; |\n",
       "|---|---|\n",
       "| IT         | 246 |\n",
       "| machineary | 192 |\n",
       "| business   |  98 |\n",
       "\n"
      ],
      "text/plain": [
       "  industry   N  \n",
       "1 IT         246\n",
       "2 machineary 192\n",
       "3 business    98"
      ]
     },
     "metadata": {},
     "output_type": "display_data"
    }
   ],
   "source": [
    "# check balance of industry\n",
    "cis2 %>%\n",
    "    .[ias > 0] %>%\n",
    "    .[, .N, by = industry]  # not very balanced"
   ]
  },
  {
   "cell_type": "code",
   "execution_count": 10,
   "metadata": {
    "vscode": {
     "languageId": "r"
    }
   },
   "outputs": [
    {
     "data": {
      "image/png": "[encoded data removed]",
      "text/plain": [
       "Plot with title \"Histogram of ias\""
      ]
     },
     "metadata": {
      "image/png": {
       "height": 420,
       "width": 420
      }
     },
     "output_type": "display_data"
    }
   ],
   "source": [
    "# focus on firms that have ias > 0\n",
    "cis2 %>%\n",
    "    .[ias > 0] %>%\n",
    "    .[, .(ias)] %>%\n",
    "    with(hist(ias, breaks = 20))"
   ]
  },
  {
   "cell_type": "code",
   "execution_count": 11,
   "metadata": {
    "vscode": {
     "languageId": "r"
    }
   },
   "outputs": [
    {
     "data": {
      "image/png": "[encoded data removed]",
      "text/plain": [
       "plot without title"
      ]
     },
     "metadata": {
      "image/png": {
       "height": 420,
       "width": 420
      }
     },
     "output_type": "display_data"
    }
   ],
   "source": [
    "# boxplot\n",
    "cis2 %>%\n",
    "    .[ias > 0] %>%\n",
    "    .[, .(ias)] %>%\n",
    "    with(boxplot(ias))"
   ]
  },
  {
   "cell_type": "code",
   "execution_count": 12,
   "metadata": {
    "vscode": {
     "languageId": "r"
    }
   },
   "outputs": [
    {
     "data": {
      "image/png": "[encoded data removed]",
      "text/plain": [
       "plot without title"
      ]
     },
     "metadata": {
      "image/png": {
       "height": 420,
       "width": 420
      }
     },
     "output_type": "display_data"
    }
   ],
   "source": [
    "# as it can be seen, there are some outliers\n",
    "# the distribution is right skewed\n",
    "# we will use log transformation to make it more normal\n",
    "cis2 %>%\n",
    "    .[ias > 0] %>%\n",
    "    .[, .(ias)] %>%\n",
    "    # log transformation\n",
    "    with(boxplot(log(ias)))\n"
   ]
  },
  {
   "cell_type": "code",
   "execution_count": 13,
   "metadata": {
    "vscode": {
     "languageId": "r"
    }
   },
   "outputs": [
    {
     "data": {
      "image/png": "[encoded data removed]",
      "text/plain": [
       "Plot with title \"Histogram of log(ias)\""
      ]
     },
     "metadata": {
      "image/png": {
       "height": 420,
       "width": 420
      }
     },
     "output_type": "display_data"
    }
   ],
   "source": [
    "cis2 %>%\n",
    "    .[ias > 0] %>%\n",
    "    .[, .(ias)] %>%\n",
    "    # log transformation and histogram\n",
    "    with(hist(log(ias), breaks = 20))"
   ]
  },
  {
   "cell_type": "markdown",
   "metadata": {},
   "source": [
    "### Normal Distribution\n",
    "\n",
    "When we fit a linear regression model, if dependent variable is __continuous__, we prefer\n",
    "the dependent variable to be normally distributed. So, we need to check whether the dependent variable is normally distributed. If not, we could use some transformation to make it normally distributed.\n",
    "As we have covered in the lecture, there are __two main distributions__ you need to know:\n",
    "\n",
    "- normal distribution (Gaussian distribution)\n",
    "- binomial distribution\n",
    "\n",
    "Possion distribution will not be tested in the exam.\n",
    "\n",
    "![normal](../images/binomial-to-poisson2.png)"
   ]
  },
  {
   "cell_type": "code",
   "execution_count": 14,
   "metadata": {
    "vscode": {
     "languageId": "r"
    }
   },
   "outputs": [
    {
     "data": {
      "image/png": "[encoded data removed]",
      "text/plain": [
       "plot without title"
      ]
     },
     "metadata": {
      "image/png": {
       "height": 300,
       "width": 600
      }
     },
     "output_type": "display_data"
    }
   ],
   "source": [
    "# we now want to check whether log(ias) is distributed similarly across industries\n",
    "# here we will use ggplot2\n",
    "options(repr.plot.width = 10, repr.plot.height = 5)\n",
    "cis2 %>%\n",
    "    .[ias > 0] %>%\n",
    "    .[, .(ias, industry)] %>%\n",
    "    ggplot(aes(x = log(ias), fill = industry)) +\n",
    "    geom_histogram(bins = 20, alpha = 0.5) +\n",
    "    facet_wrap(~industry, nrow = 1) +\n",
    "    theme_bw()"
   ]
  },
  {
   "cell_type": "markdown",
   "metadata": {},
   "source": [
    "For all industries, the shape is of bell shape. This means that they are more or less normally distributed after we:\n",
    "\n",
    "- filter out the innovation intensity > 0\n",
    "- take the log of innovation intensity"
   ]
  },
  {
   "cell_type": "markdown",
   "metadata": {},
   "source": [
    "### From univariate to bivariate analysis\n",
    "\n",
    "We now have a basic understanding of the distribution of innovation intensity. Now, we want to see how innovation intensity is related to other variables. We will focus on the following variables:\n",
    "\n",
    "- bges: average number of employees (firm size)\n",
    "- um:  Umsatz in Mio. Euro (turnover in million euro)\n",
    "- exs: Exportquote (export ratio)\n",
    "- lp: Laborproduktivitaet (labor productivity)\n",
    "- invs: Investitionsquote (investment ratio)\n",
    "- markets:  Marketingaufwendungen Intensitaet (marketing intensity)\n",
    "- designs: Designaufwendungen Intensitaet (design intensity)\n",
    "- softws: Softwareaufwendungen Intensitaet (software intensity)\n",
    "- wbp: Weiterbildungskostenanteil (training intensity)\n",
    "- fues:  Intensitaet FuE (R&D intensity)\n",
    "- iainvs: Intensitaet investive Inno. (investment innovation intensity)"
   ]
  },
  {
   "cell_type": "code",
   "execution_count": 32,
   "metadata": {
    "vscode": {
     "languageId": "r"
    }
   },
   "outputs": [
    {
     "data": {
      "image/png": "[encoded data removed]",
      "text/plain": [
       "Plot with title \"\""
      ]
     },
     "metadata": {
      "image/png": {
       "height": 300,
       "width": 420
      }
     },
     "output_type": "display_data"
    }
   ],
   "source": [
    "# check correlation between ias and other variables\n",
    "cis2 %>%\n",
    "    # only select firms that have ias > 0\n",
    "    .[ias > 0] %>%\n",
    "    # select variables we need\n",
    "    .[, .(ias, fues, iainvs, bges, um, exs, lp, invs, markets, designs, softws, wbp)] %>%\n",
    "    # check correlation without missing values\n",
    "    cor(use = \"pairwise.complete.obs\") %>%\n",
    "    # plot correlation matrix\n",
    "    corrplot(method=\"circle\", type=\"upper\", tl.col=\"black\", tl.srt=45)\n"
   ]
  },
  {
   "cell_type": "markdown",
   "metadata": {},
   "source": [
    "\n",
    "As we can see that `ias` (innovation intensity) and `fues` (R&D intensity) are highly correlated. This is not surprising because R&D is the main source of innovation.\n",
    "\n",
    "\n",
    "It is interesting that the correlation between `ias` and `lp` is very low and even\n",
    "negative. This means that the more innovative firms are not necessarily more productive.\n",
    "However, to be more accurate, we need to do a regression analysis."
   ]
  },
  {
   "cell_type": "code",
   "execution_count": 16,
   "metadata": {
    "vscode": {
     "languageId": "r"
    }
   },
   "outputs": [
    {
     "data": {
      "text/html": [
       "<table class=\"dataframe\">\n",
       "<caption>A data.table: 6 x 2</caption>\n",
       "<thead>\n",
       "\t<tr><th scope=col>ias</th><th scope=col>markets</th></tr>\n",
       "\t<tr><th scope=col>&lt;dbl&gt;</th><th scope=col>&lt;dbl&gt;</th></tr>\n",
       "</thead>\n",
       "<tbody>\n",
       "\t<tr><td>0.120000000</td><td>         NA</td></tr>\n",
       "\t<tr><td>0.020220373</td><td>0.002829295</td></tr>\n",
       "\t<tr><td>0.142699580</td><td>0.017154280</td></tr>\n",
       "\t<tr><td>0.020420665</td><td>0.001565584</td></tr>\n",
       "\t<tr><td>0.058788523</td><td>         NA</td></tr>\n",
       "\t<tr><td>0.005916505</td><td>0.001795862</td></tr>\n",
       "</tbody>\n",
       "</table>\n"
      ],
      "text/latex": [
       "A data.table: 6 x 2\n",
       "\\begin{tabular}{ll}\n",
       " ias & markets\\\\\n",
       " <dbl> & <dbl>\\\\\n",
       "\\hline\n",
       "\t 0.120000000 &          NA\\\\\n",
       "\t 0.020220373 & 0.002829295\\\\\n",
       "\t 0.142699580 & 0.017154280\\\\\n",
       "\t 0.020420665 & 0.001565584\\\\\n",
       "\t 0.058788523 &          NA\\\\\n",
       "\t 0.005916505 & 0.001795862\\\\\n",
       "\\end{tabular}\n"
      ],
      "text/markdown": [
       "\n",
       "A data.table: 6 x 2\n",
       "\n",
       "| ias &lt;dbl&gt; | markets &lt;dbl&gt; |\n",
       "|---|---|\n",
       "| 0.120000000 |          NA |\n",
       "| 0.020220373 | 0.002829295 |\n",
       "| 0.142699580 | 0.017154280 |\n",
       "| 0.020420665 | 0.001565584 |\n",
       "| 0.058788523 |          NA |\n",
       "| 0.005916505 | 0.001795862 |\n",
       "\n"
      ],
      "text/plain": [
       "  ias         markets    \n",
       "1 0.120000000          NA\n",
       "2 0.020220373 0.002829295\n",
       "3 0.142699580 0.017154280\n",
       "4 0.020420665 0.001565584\n",
       "5 0.058788523          NA\n",
       "6 0.005916505 0.001795862"
      ]
     },
     "metadata": {},
     "output_type": "display_data"
    }
   ],
   "source": [
    "# now we plot the scatter plot of ias and other variables\n",
    "cis2 %>%\n",
    "    .[, .(ias, markets)] %>%\n",
    "    head()"
   ]
  },
  {
   "cell_type": "code",
   "execution_count": 22,
   "metadata": {
    "vscode": {
     "languageId": "r"
    }
   },
   "outputs": [
    {
     "data": {
      "image/png": "[encoded data removed]",
      "text/plain": [
       "plot without title"
      ]
     },
     "metadata": {
      "image/png": {
       "height": 300,
       "width": 420
      }
     },
     "output_type": "display_data"
    }
   ],
   "source": [
    "options(repr.plot.width = 7, repr.plot.height = 5)\n",
    "cis2 %>%\n",
    "    .[ias > 0] %>%\n",
    "    .[, .(ias, markets)] %>%\n",
    "    with(plot(markets, ias))"
   ]
  },
  {
   "cell_type": "markdown",
   "metadata": {},
   "source": [
    "Overall, you can see that there is a positive relationship between `ias` and `markets`,\n",
    "however, the relationship is not very strong."
   ]
  },
  {
   "cell_type": "code",
   "execution_count": 23,
   "metadata": {
    "vscode": {
     "languageId": "r"
    }
   },
   "outputs": [
    {
     "data": {
      "image/png": "[encoded data removed]",
      "text/plain": [
       "plot without title"
      ]
     },
     "metadata": {
      "image/png": {
       "height": 300,
       "width": 420
      }
     },
     "output_type": "display_data"
    }
   ],
   "source": [
    "# ias and softws\n",
    "options(repr.plot.width = 7, repr.plot.height = 5)\n",
    "cis2 %>%\n",
    "    .[ias > 0] %>%\n",
    "    .[, .(ias, softws)] %>%\n",
    "    with(plot(softws, ias))"
   ]
  },
  {
   "cell_type": "code",
   "execution_count": 38,
   "metadata": {
    "vscode": {
     "languageId": "r"
    }
   },
   "outputs": [
    {
     "data": {
      "image/png": "[encoded data removed]",
      "text/plain": [
       "plot without title"
      ]
     },
     "metadata": {
      "image/png": {
       "height": 300,
       "width": 420
      }
     },
     "output_type": "display_data"
    }
   ],
   "source": [
    "options(repr.plot.width = 7, repr.plot.height = 5)\n",
    "cis2 %>%\n",
    "    .[ias > 0] %>%\n",
    "    .[, .(ias, invs)] %>%\n",
    "    with(plot(invs, ias))"
   ]
  },
  {
   "cell_type": "code",
   "execution_count": 33,
   "metadata": {
    "vscode": {
     "languageId": "r"
    }
   },
   "outputs": [
    {
     "data": {
      "image/png": "[encoded data removed]",
      "text/plain": [
       "plot without title"
      ]
     },
     "metadata": {
      "image/png": {
       "height": 300,
       "width": 420
      }
     },
     "output_type": "display_data"
    }
   ],
   "source": [
    "options(repr.plot.width = 7, repr.plot.height = 5)\n",
    "cis2 %>%\n",
    "    .[ias > 0] %>%\n",
    "    .[, .(ias, fues)] %>%\n",
    "    with(plot(fues, ias)) "
   ]
  },
  {
   "cell_type": "markdown",
   "metadata": {},
   "source": [
    "`fues` means R&D intensity. As you can see that there is a positive relationship between\n",
    "`ias` and `fues`. The above graph shows those two factors are almost identical."
   ]
  },
  {
   "cell_type": "markdown",
   "metadata": {},
   "source": [
    "## 4. Introduction to regression analysis \n",
    "\n",
    "Many exam questions will be related to regression analysis. So, please pay attention to this section.\n",
    "Before we run a regression analysis, let's first understand the basic concepts of regression analysis\n",
    "via simulation.\n",
    "\n",
    "We know that the relationship between `weight` and `height` is roughly linear and positive.\n",
    "We will use this relationship to simulate the data. When we simulate the data, we will add some\n",
    "random nosie to the data as there is no perfect linear relationship between `weight` and `height`.\n",
    "To make you understand the concept, I will simulate the data step by step.\n",
    "\n",
    "- scenario 1: no noise (perfect linear relationship)\n",
    "- scenario 2: add some noise (not perfect linear relationship)\n",
    "- scenario 3: add some outliers (not perfect linear relationship)"
   ]
  },
  {
   "cell_type": "code",
   "execution_count": 56,
   "metadata": {
    "vscode": {
     "languageId": "r"
    }
   },
   "outputs": [
    {
     "data": {
      "image/png": "[encoded data removed]",
      "text/plain": [
       "Plot with title \"Histogram of height\""
      ]
     },
     "metadata": {
      "image/png": {
       "height": 300,
       "width": 420
      }
     },
     "output_type": "display_data"
    }
   ],
   "source": [
    "# simulate weight and height\n",
    "# generate 1000 random numbers from normal distribution\n",
    "# mean =  175cm and sd = 10cm\n",
    "height <- rnorm(1000, mean = 175, sd = 10)\n",
    "# plot histogram\n",
    "hist(height, breaks = 20)"
   ]
  },
  {
   "cell_type": "markdown",
   "metadata": {},
   "source": [
    "Now, we have the weight, we assume that there is a linear relationship between `height` and `weight`,\n",
    "which has the following form:\n",
    "\n",
    "$$\n",
    "weight = \\beta_0 + \\beta_1 \\times height\n",
    "$$\n",
    "\n",
    "Here we set $\\beta_0 = 55$ and $\\beta_1 = 0.1$. This means that if the height increases by 1 cm, the weight will increase by 0.1 kg.\n",
    "\n",
    "$$\n",
    "weight = 50 + 0.1 \\times height\n",
    "$$"
   ]
  },
  {
   "cell_type": "code",
   "execution_count": 60,
   "metadata": {
    "vscode": {
     "languageId": "r"
    }
   },
   "outputs": [
    {
     "data": {
      "image/png": "[encoded data removed]",
      "text/plain": [
       "plot without title"
      ]
     },
     "metadata": {
      "image/png": {
       "height": 300,
       "width": 420
      }
     },
     "output_type": "display_data"
    }
   ],
   "source": [
    "# generate weight\n",
    "weight <- 55 + 0.1 * height\n",
    "\n",
    "# plot scatter plot\n",
    "plot(height, weight)"
   ]
  },
  {
   "cell_type": "code",
   "execution_count": 62,
   "metadata": {
    "vscode": {
     "languageId": "r"
    }
   },
   "outputs": [
    {
     "data": {
      "image/png": "[encoded data removed]",
      "text/plain": [
       "Plot with title \"Histogram of weight\""
      ]
     },
     "metadata": {
      "image/png": {
       "height": 300,
       "width": 420
      }
     },
     "output_type": "display_data"
    }
   ],
   "source": [
    "# plot histogram of weight\n",
    "hist(weight, breaks = 20, xlab=\"weight (kg)\")"
   ]
  },
  {
   "cell_type": "code",
   "execution_count": 63,
   "metadata": {
    "vscode": {
     "languageId": "r"
    }
   },
   "outputs": [
    {
     "name": "stdout",
     "output_type": "stream",
     "text": [
      "\n",
      "================================================================================\n",
      "                                        Dependent variable:                     \n",
      "                    ------------------------------------------------------------\n",
      "                                               weight                           \n",
      "--------------------------------------------------------------------------------\n",
      "height                                        0.100***                          \n",
      "                                              (0.000)                           \n",
      "                                                                                \n",
      "Constant                                     55.000***                          \n",
      "                                              (0.000)                           \n",
      "                                                                                \n",
      "--------------------------------------------------------------------------------\n",
      "Observations                                   1,000                            \n",
      "R2                                             1.000                            \n",
      "Adjusted R2                                    1.000                            \n",
      "Residual Std. Error                       0.000 (df = 998)                      \n",
      "F Statistic         118,984,327,805,566,301,116,622,176,256.000*** (df = 1; 998)\n",
      "================================================================================\n",
      "Note:                                                *p<0.1; **p<0.05; ***p<0.01\n"
     ]
    }
   ],
   "source": [
    "# now let's fit a linear regression model\n",
    "sm1 <- lm(weight ~ height)\n",
    "\n",
    "stargazer(sm1, type = \"text\")"
   ]
  },
  {
   "cell_type": "markdown",
   "metadata": {},
   "source": [
    "### Regression Analysis with CIS data\n",
    "\n",
    "Now, we will learn how to use regression analysis to analyze the relationship between\n",
    "innovation intensity and other variables. Here we are setting up a simple linear regression\n",
    "meaning:\n",
    "\n",
    "- dependent variable: innovation intensity (`ias`)\n",
    "- independent variable: marketing intensity (`markets`), `softws`, `designs`, `wbp`, `fues`, `inv`\n",
    ", etc. \n",
    "\n",
    "\n",
    "Let's start from the simplest model: `ias` and `invs`, our hypothesis is that __there is a\n",
    "positive relationship between investment and innovation intensity__. We will use `lm` function to do the regression analysis.\n",
    "If we write down the regression equation, it will be:\n",
    "\n",
    "$$\n",
    "ias = \\beta_0 + \\beta_1 invs + \\epsilon; \\quad \\epsilon \\sim N(0, \\sigma^2)\n",
    "$$\n",
    "\n",
    "Here we assume that the error term is normally distributed with mean 0 and variance $\\sigma^2$.\n"
   ]
  },
  {
   "cell_type": "code",
   "execution_count": 36,
   "metadata": {
    "vscode": {
     "languageId": "r"
    }
   },
   "outputs": [
    {
     "data": {
      "text/plain": [
       "\n",
       "Call:\n",
       "lm(formula = ias ~ invs, data = cis2)\n",
       "\n",
       "Residuals:\n",
       "     Min       1Q   Median       3Q      Max \n",
       "-0.11102 -0.03781 -0.03643  0.00083  1.11829 \n",
       "\n",
       "Coefficients:\n",
       "            Estimate Std. Error t value Pr(>|t|)    \n",
       "(Intercept) 0.037262   0.003421  10.892   <2e-16 ***\n",
       "invs        0.073755   0.036212   2.037    0.042 *  \n",
       "---\n",
       "Signif. codes:  0 '***' 0.001 '**' 0.01 '*' 0.05 '.' 0.1 ' ' 1\n",
       "\n",
       "Residual standard error: 0.08951 on 788 degrees of freedom\n",
       "  (252 observations deleted due to missingness)\n",
       "Multiple R-squared:  0.005237,\tAdjusted R-squared:  0.003974 \n",
       "F-statistic: 4.148 on 1 and 788 DF,  p-value: 0.04201\n"
      ]
     },
     "metadata": {},
     "output_type": "display_data"
    }
   ],
   "source": [
    "# simple regression \n",
    "model1 <- lm(ias ~ invs, data = cis2)\n",
    "\n",
    "# check summary\n",
    "summary(model1)"
   ]
  },
  {
   "cell_type": "code",
   "execution_count": 37,
   "metadata": {
    "vscode": {
     "languageId": "r"
    }
   },
   "outputs": [
    {
     "name": "stdout",
     "output_type": "stream",
     "text": [
      "\n",
      "===============================================\n",
      "                        Dependent variable:    \n",
      "                    ---------------------------\n",
      "                                ias            \n",
      "-----------------------------------------------\n",
      "invs                          0.074**          \n",
      "                              (0.036)          \n",
      "                                               \n",
      "Constant                     0.037***          \n",
      "                              (0.003)          \n",
      "                                               \n",
      "-----------------------------------------------\n",
      "Observations                    790            \n",
      "R2                             0.005           \n",
      "Adjusted R2                    0.004           \n",
      "Residual Std. Error      0.090 (df = 788)      \n",
      "F Statistic            4.148** (df = 1; 788)   \n",
      "===============================================\n",
      "Note:               *p<0.1; **p<0.05; ***p<0.01\n"
     ]
    }
   ],
   "source": [
    "# print out coefficients\n",
    "stargazer(model1, type = \"text\")"
   ]
  },
  {
   "cell_type": "markdown",
   "metadata": {},
   "source": [
    "Based on the above regression result, we can see that the coefficient of `invs` is 0.074,\n",
    "which is significantly different from 0. This means that there is a positive relationship\n",
    "between `invs` and `ias`. Therefore we cannot reject our hypothesis.\n",
    "\n",
    "If you set our null hypothesis as __there is no relationship between `invs` and `ias`__,\n",
    "then our alternative hypothesis is __there is a relationship between `invs` and `ias`__.\n",
    "Then, we can use the above regression result to reject the null hypothesis."
   ]
  },
  {
   "cell_type": "markdown",
   "metadata": {},
   "source": [
    "The above regression is very simple as we only have one independent variable. This means\n",
    "we did not control other variables. In real life, we need to control other variables.\n",
    "For instance, the relationship between `ias` and `invs` could be affected by other variables,\n",
    "such as industry, firm size, etc. So, we need to control those variables.\n",
    "\n",
    "What does control mean? It means that we need to include those variables in the regression\n",
    "model. For instance, we can include `bges` (firm size) in the regression model. The regression\n",
    "equation will be:\n",
    "\n",
    "$$\n",
    "ias = \\beta_0 + \\beta_1 invs + \\beta_2 bges + \\epsilon; \\quad \\epsilon \\sim N(0, \\sigma^2)\n",
    "$$"
   ]
  },
  {
   "cell_type": "markdown",
   "metadata": {},
   "source": [
    "Visually, controlling means that we will investigate the relationship between `ias` and `invs`\n",
    "by fixing the other variables, such as industry. The following graph shows the relationship\n",
    "of `ias` and `invs` for different industries."
   ]
  },
  {
   "cell_type": "code",
   "execution_count": 52,
   "metadata": {
    "vscode": {
     "languageId": "r"
    }
   },
   "outputs": [
    {
     "data": {
      "image/png": "[encoded data removed]",
      "text/plain": [
       "plot without title"
      ]
     },
     "metadata": {
      "image/png": {
       "height": 300,
       "width": 600
      }
     },
     "output_type": "display_data"
    }
   ],
   "source": [
    "# plot relationship between ias and invs cross industry\n",
    "options(repr.plot.width = 10, repr.plot.height = 5)\n",
    "cis2 %>%\n",
    "    .[ias > 0 & invs < 0.25] %>%\n",
    "    .[, .(ias, invs, industry)] %>%\n",
    "    ggplot(aes(x = invs, y = ias)) +\n",
    "    geom_point() + \n",
    "    facet_wrap(~industry, nrow = 1) +\n",
    "    theme_bw()"
   ]
  },
  {
   "cell_type": "markdown",
   "metadata": {},
   "source": [
    "As you can see that the relationship between `ias` and `invs` is different for different\n",
    "industries. For instance, for the industry 1, the relationship is positive. However, for\n",
    "business industry the relationship is not very clear. \n",
    "\n",
    "Now, let's run the regression model with industry dummy variables. The regression equation\n",
    "will be:\n",
    "\n",
    "$$\n",
    "ias = \\beta_0 + \\beta_1 invs + \\beta_2 industry_1 + \\beta_2 industry_2 + \\epsilon; \\quad \\epsilon \\sim N(0, \\sigma^2)\n",
    "$$\n",
    "\n",
    "Although we have three industries, we only need two dummy variables. This is because\n",
    "we need to exclude one industry as the base industry. In this case, we exclude industry 3."
   ]
  },
  {
   "cell_type": "code",
   "execution_count": 46,
   "metadata": {
    "vscode": {
     "languageId": "r"
    }
   },
   "outputs": [
    {
     "name": "stdout",
     "output_type": "stream",
     "text": [
      "\n",
      "===============================================\n",
      "                        Dependent variable:    \n",
      "                    ---------------------------\n",
      "                                ias            \n",
      "-----------------------------------------------\n",
      "invs                          0.084**          \n",
      "                              (0.035)          \n",
      "                                               \n",
      "industrybusiness             -0.046***         \n",
      "                              (0.008)          \n",
      "                                               \n",
      "industrymachineary           -0.047***         \n",
      "                              (0.007)          \n",
      "                                               \n",
      "Constant                     0.066***          \n",
      "                              (0.005)          \n",
      "                                               \n",
      "-----------------------------------------------\n",
      "Observations                    790            \n",
      "R2                             0.068           \n",
      "Adjusted R2                    0.064           \n",
      "Residual Std. Error      0.087 (df = 786)      \n",
      "F Statistic           19.055*** (df = 3; 786)  \n",
      "===============================================\n",
      "Note:               *p<0.1; **p<0.05; ***p<0.01\n"
     ]
    }
   ],
   "source": [
    "model2 <- lm(ias ~ invs + industry, data = cis2)\n",
    "\n",
    "# print out coefficients\n",
    "stargazer(model2, type = \"text\")"
   ]
  },
  {
   "cell_type": "code",
   "execution_count": 50,
   "metadata": {
    "vscode": {
     "languageId": "r"
    }
   },
   "outputs": [
    {
     "name": "stdout",
     "output_type": "stream",
     "text": [
      "\n",
      "===============================================\n",
      "                        Dependent variable:    \n",
      "                    ---------------------------\n",
      "                                ias            \n",
      "-----------------------------------------------\n",
      "invs                          0.060**          \n",
      "                              (0.026)          \n",
      "                                               \n",
      "Constant                     0.020***          \n",
      "                              (0.003)          \n",
      "                                               \n",
      "-----------------------------------------------\n",
      "Observations                    280            \n",
      "R2                             0.018           \n",
      "Adjusted R2                    0.015           \n",
      "Residual Std. Error      0.052 (df = 278)      \n",
      "F Statistic            5.175** (df = 1; 278)   \n",
      "===============================================\n",
      "Note:               *p<0.1; **p<0.05; ***p<0.01\n"
     ]
    }
   ],
   "source": [
    "# only run regression for industry = ict\n",
    "model3 <- lm(ias ~ invs, data = cis2[industry == \"machineary\"])\n",
    "\n",
    "stargazer(model3, type = \"text\")"
   ]
  },
  {
   "cell_type": "markdown",
   "metadata": {},
   "source": [
    "### Correlation does not imply causation\n",
    "\n",
    "It is important to note that correlation does not imply causation. Even the coefficient\n",
    "is significant, we cannot say that the independent variable causes the dependent variable.\n",
    "For instance, here the coefficient of `markets` is significant. However, we cannot say that\n",
    "firms become more innovative because they spend more on marketing. It could be the case that\n",
    "firms become more innovative, so they spend more on marketing. \n",
    "\n",
    "Our regression model only tells us that there is a relationship between the dependent variable and the independent variable. The relationship is significant enough to reject the null hypothesis that the coefficient is zero. However, it does not tell us the direction of the relationship. It does not tell us whether the independent variable causes the dependent variable or the dependent variable causes the independent variable."
   ]
  },
  {
   "cell_type": "code",
   "execution_count": null,
   "metadata": {
    "vscode": {
     "languageId": "r"
    }
   },
   "outputs": [],
   "source": [
    "# now let's use um (sales) as dependent variable\n",
    "model3 <- lm(um ~ markets + softws + invs + lp + bges + ias + exs + industry, data = cis2)\n",
    "\n",
    "# check summary of the model\n",
    "summary(model3)"
   ]
  },
  {
   "cell_type": "code",
   "execution_count": null,
   "metadata": {
    "vscode": {
     "languageId": "r"
    }
   },
   "outputs": [],
   "source": [
    "# print out with stargazer\n",
    "stargazer(model3, type = \"text\")"
   ]
  },
  {
   "cell_type": "code",
   "execution_count": null,
   "metadata": {
    "vscode": {
     "languageId": "r"
    }
   },
   "outputs": [],
   "source": []
  }
 ],
 "metadata": {
  "kernelspec": {
   "display_name": "R",
   "language": "R",
   "name": "ir"
  },
  "language_info": {
   "codemirror_mode": "r",
   "file_extension": ".r",
   "mimetype": "text/x-r-source",
   "name": "R",
   "pygments_lexer": "r",
   "version": "4.1.2"
  },
  "orig_nbformat": 4
 },
 "nbformat": 4,
 "nbformat_minor": 2
}
