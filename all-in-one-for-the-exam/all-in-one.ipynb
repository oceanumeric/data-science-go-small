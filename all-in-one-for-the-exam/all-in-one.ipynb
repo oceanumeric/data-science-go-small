{
 "cells": [
  {
   "cell_type": "markdown",
   "metadata": {},
   "source": [
    "# All in One for the Exam\n",
    "\n",
    "Time flies, and the exam is coming. To help you to review the course, we have prepared this notebook, which contains all the materials we have covered in the course. We hope this notebook can help you to review the course and prepare for the exam.\n",
    "\n",
    "This exam review document __does not cover the materials you studed from the lecture, whereas \n",
    "it only covers the materials from tutorial and lab__. You should also review the lecture materials.\n",
    "\n",
    "Here is the list of topics we have covered and will be covered in the exam:\n",
    "\n",
    "1. introduction to data.table\n",
    "2. using data.table to manipulate data\n",
    "3. basic data visualization\n",
    "4. introduction to linear regression\n",
    "5. introduction to logistic regression"
   ]
  },
  {
   "cell_type": "markdown",
   "metadata": {},
   "source": [
    "## 1. Introduction to data.table\n",
    "\n",
    "Broadly speaking, there are two kinds of data: __structured data__ and __unstructured data__. \n",
    "Structured data is data that has a structure, such as a table, whereas unstructured data is data that does not have a structure, such as a text file. In this course, we focus on structured data. This means all the data we will use look like tables, such \n",
    "as the following one:\n",
    "\n",
    "![data.table-example](../drawio/R-data-table-illustration.png)"
   ]
  },
  {
   "cell_type": "markdown",
   "metadata": {},
   "source": [
    "> Small story (will not be tested in the exam): I had a talk with a person who is the principal data scientist and  working for the government. He told me that the government is implementing a strategy called \"AI in 2030\". The goal of this strategy is to make the government to be more data-driven and AI-driven. He told me that every year they have to pay a lot of money to consultancies such as Boston Consulting Group (BCG) to do data analysis for them. He said that the government now is planning to combine data scientist and ChatGPT to do the data analysis. They are hoping that they could reduce 40% of the cost by doing so. The idea is that they will only hire BCG for those very complex data analysis tasks. For those simple tasks, they will use AI to do the data analysis. The main tool that BCG uses is Excel, SQL and Tableau. They are all table-based tools. This means having a good understanding of table-based data analysis is very important. This is why we start from data.table."
   ]
  },
  {
   "cell_type": "markdown",
   "metadata": {},
   "source": [
    "The basic syntax of data.table is summarized in the following illustration. __You will\n",
    "not be tested on the syntax of data.table in the exam__. However, you will be tested on the\n",
    "underlying concepts of data.table, such as the type of variables (integer, character, factor, etc.).\n",
    "In the future if you will be working as a data scientist, you can use data.table to do big\n",
    "data analysis. You will need to know the syntax of data.table for practical use not for the exam.\n",
    "\n",
    "![data.table-syntax](../drawio/R-data-table-illustration2.png)"
   ]
  },
  {
   "cell_type": "markdown",
   "metadata": {},
   "source": [
    "### 1.1 data.table Lab\n",
    "\n",
    "Now, we will use data.table to do some data analysis. We will use the `Community Innovation Survey` (CIS)\n",
    "to do the analysis. The CIS is a survey that is conducted by the European Union (EU) to collect data\n",
    "about innovation activities of firms. The survey we will use is the 2021 CIS from Germany."
   ]
  },
  {
   "cell_type": "code",
   "execution_count": 3,
   "metadata": {
    "vscode": {
     "languageId": "r"
    }
   },
   "outputs": [
    {
     "name": "stderr",
     "output_type": "stream",
     "text": [
      "Installing package into '/usr/local/lib/R/site-library'\n",
      "(as 'lib' is unspecified)\n",
      "\n"
     ]
    }
   ],
   "source": [
    "# library for data analysis\n",
    "library(data.table)\n",
    "library(magrittr)\n",
    "library(ggplot2)\n",
    "library(knitr)\n",
    "# install stargazer\n",
    "install.packages(\"stargazer\")\n",
    "# install ISLR\n",
    "library(stargazer)\n",
    "library(MASS)\n",
    "library(ISLR)"
   ]
  },
  {
   "cell_type": "code",
   "execution_count": 4,
   "metadata": {
    "vscode": {
     "languageId": "r"
    }
   },
   "outputs": [],
   "source": [
    "# read data\n",
    "cis <- fread(\"https://raw.githubusercontent.com/oceanumeric/data-science-go-small/main/data/innovation_survey/extmidp21.csv\")"
   ]
  },
  {
   "cell_type": "code",
   "execution_count": 7,
   "metadata": {
    "vscode": {
     "languageId": "r"
    }
   },
   "outputs": [
    {
     "data": {
      "text/html": [
       "<style>\n",
       ".list-inline {list-style: none; margin:0; padding: 0}\n",
       ".list-inline>li {display: inline-block}\n",
       ".list-inline>li:not(:last-child)::after {content: \"\\00b7\"; padding: 0 .5ex}\n",
       "</style>\n",
       "<ol class=list-inline><li>5083</li><li>284</li></ol>\n"
      ],
      "text/latex": [
       "\\begin{enumerate*}\n",
       "\\item 5083\n",
       "\\item 284\n",
       "\\end{enumerate*}\n"
      ],
      "text/markdown": [
       "1. 5083\n",
       "2. 284\n",
       "\n",
       "\n"
      ],
      "text/plain": [
       "[1] 5083  284"
      ]
     },
     "metadata": {},
     "output_type": "display_data"
    }
   ],
   "source": [
    "# check dimension, which shows 5083 rows and 284 columns\n",
    "dim(cis)"
   ]
  },
  {
   "cell_type": "code",
   "execution_count": 8,
   "metadata": {
    "vscode": {
     "languageId": "r"
    }
   },
   "outputs": [
    {
     "data": {
      "text/html": [
       "<table class=\"dataframe\">\n",
       "<caption>A data.table: 6 x 284</caption>\n",
       "<thead>\n",
       "\t<tr><th scope=col>id</th><th scope=col>branche</th><th scope=col>bran_4</th><th scope=col>filter</th><th scope=col>ost</th><th scope=col>ustaat</th><th scope=col>gb</th><th scope=col>bges</th><th scope=col>gk3n</th><th scope=col>bges18</th><th scope=col>...</th><th scope=col>mkosts</th><th scope=col>mkosts19</th><th scope=col>wbp</th><th scope=col>wbp19</th><th scope=col>wbpx</th><th scope=col>wbp19x</th><th scope=col>invs</th><th scope=col>invs19</th><th scope=col>invsx</th><th scope=col>invs19x</th></tr>\n",
       "\t<tr><th scope=col>&lt;int&gt;</th><th scope=col>&lt;chr&gt;</th><th scope=col>&lt;chr&gt;</th><th scope=col>&lt;chr&gt;</th><th scope=col>&lt;chr&gt;</th><th scope=col>&lt;chr&gt;</th><th scope=col>&lt;chr&gt;</th><th scope=col>&lt;dbl&gt;</th><th scope=col>&lt;chr&gt;</th><th scope=col>&lt;dbl&gt;</th><th scope=col>...</th><th scope=col>&lt;chr&gt;</th><th scope=col>&lt;chr&gt;</th><th scope=col>&lt;dbl&gt;</th><th scope=col>&lt;dbl&gt;</th><th scope=col>&lt;chr&gt;</th><th scope=col>&lt;chr&gt;</th><th scope=col>&lt;dbl&gt;</th><th scope=col>&lt;dbl&gt;</th><th scope=col>&lt;chr&gt;</th><th scope=col>&lt;chr&gt;</th></tr>\n",
       "</thead>\n",
       "<tbody>\n",
       "\t<tr><td>300127</td><td>Elektroindustrie            </td><td>Forschungsintensive Industrie</td><td>nein</td><td>ost </td><td></td><td>Bereich</td><td> 38.401396</td><td>50-249Besch</td><td> 38.401398</td><td>...</td><td>        </td><td>        </td><td>         NA</td><td>        NA</td><td>              </td><td>              </td><td>         NA</td><td>        NA</td><td>              </td><td>              </td></tr>\n",
       "\t<tr><td>301003</td><td>Metallerzeugung/-bearbeitung</td><td><span style=white-space:pre-wrap>Sonstige Industrie           </span></td><td><span style=white-space:pre-wrap>ja  </span></td><td>ost </td><td></td><td>Bereich</td><td><span style=white-space:pre-wrap>  4.046923</span></td><td><span style=white-space:pre-wrap>&lt;50Besch   </span></td><td><span style=white-space:pre-wrap>  5.058653</span></td><td>...</td><td>.5&lt;=x&lt;.7</td><td>.5&lt;=x&lt;.7</td><td>0.000000000</td><td>0.00000000</td><td>keine Stutzung</td><td>keine Stutzung</td><td><span style=white-space:pre-wrap>         NA</span></td><td><span style=white-space:pre-wrap>        NA</span></td><td><span style=white-space:pre-wrap>              </span></td><td><span style=white-space:pre-wrap>              </span></td></tr>\n",
       "\t<tr><td>301078</td><td><span style=white-space:pre-wrap>Maschinenbau                </span></td><td>Forschungsintensive Industrie</td><td>nein</td><td>west</td><td></td><td>Bereich</td><td>497.850854</td><td>&gt;=250Besch </td><td><span style=white-space:pre-wrap>        NA</span></td><td>...</td><td>.4&lt;=x&lt;.5</td><td>.4&lt;=x&lt;.5</td><td>0.007223942</td><td>0.01153213</td><td>keine Stutzung</td><td>keine Stutzung</td><td>0.044347249</td><td>0.06277719</td><td>keine Stutzung</td><td>keine Stutzung</td></tr>\n",
       "\t<tr><td>301084</td><td><span style=white-space:pre-wrap>Energie/Bergbau/Mineraloel  </span></td><td><span style=white-space:pre-wrap>Sonstige Industrie           </span></td><td><span style=white-space:pre-wrap>ja  </span></td><td>west</td><td></td><td>Bereich</td><td>311.483458</td><td>50-249Besch</td><td>290.131770</td><td>...</td><td><span style=white-space:pre-wrap>x&gt;=.7   </span></td><td><span style=white-space:pre-wrap>x&gt;=.7   </span></td><td>0.031338606</td><td>0.03232491</td><td>keine Stutzung</td><td>keine Stutzung</td><td>0.002553067</td><td>0.00315247</td><td>keine Stutzung</td><td>keine Stutzung</td></tr>\n",
       "\t<tr><td>301189</td><td><span style=white-space:pre-wrap>Energie/Bergbau/Mineraloel  </span></td><td><span style=white-space:pre-wrap>Sonstige Industrie           </span></td><td>nein</td><td>west</td><td></td><td>Bereich</td><td>751.191355</td><td>&gt;=250Besch </td><td><span style=white-space:pre-wrap>        NA</span></td><td>...</td><td><span style=white-space:pre-wrap>x&gt;=.7   </span></td><td><span style=white-space:pre-wrap>x&gt;=.7   </span></td><td>0.008867039</td><td>0.01385574</td><td>keine Stutzung</td><td>keine Stutzung</td><td>0.153353320</td><td>0.09401360</td><td>keine Stutzung</td><td>keine Stutzung</td></tr>\n",
       "\t<tr><td>301282</td><td>Elektroindustrie            </td><td>Forschungsintensive Industrie</td><td>nein</td><td>west</td><td></td><td>Bereich</td><td>169.861436</td><td>50-249Besch</td><td>169.861430</td><td>...</td><td>        </td><td>        </td><td>         NA</td><td>        NA</td><td>              </td><td>              </td><td>         NA</td><td>        NA</td><td>              </td><td>              </td></tr>\n",
       "</tbody>\n",
       "</table>\n"
      ],
      "text/latex": [
       "A data.table: 6 x 284\n",
       "\\begin{tabular}{lllllllllllllllllllll}\n",
       " id & branche & bran\\_4 & filter & ost & ustaat & gb & bges & gk3n & bges18 & ... & mkosts & mkosts19 & wbp & wbp19 & wbpx & wbp19x & invs & invs19 & invsx & invs19x\\\\\n",
       " <int> & <chr> & <chr> & <chr> & <chr> & <chr> & <chr> & <dbl> & <chr> & <dbl> & ... & <chr> & <chr> & <dbl> & <dbl> & <chr> & <chr> & <dbl> & <dbl> & <chr> & <chr>\\\\\n",
       "\\hline\n",
       "\t 300127 & Elektroindustrie             & Forschungsintensive Industrie & nein & ost  &  & Bereich &  38.401396 & 50-249Besch &  38.401398 & ... &          &          &          NA &         NA &                &                &          NA &         NA &                &               \\\\\n",
       "\t 301003 & Metallerzeugung/-bearbeitung & Sonstige Industrie            & ja   & ost  &  & Bereich &   4.046923 & <50Besch    &   5.058653 & ... & .5<=x<.7 & .5<=x<.7 & 0.000000000 & 0.00000000 & keine Stutzung & keine Stutzung &          NA &         NA &                &               \\\\\n",
       "\t 301078 & Maschinenbau                 & Forschungsintensive Industrie & nein & west &  & Bereich & 497.850854 & >=250Besch  &         NA & ... & .4<=x<.5 & .4<=x<.5 & 0.007223942 & 0.01153213 & keine Stutzung & keine Stutzung & 0.044347249 & 0.06277719 & keine Stutzung & keine Stutzung\\\\\n",
       "\t 301084 & Energie/Bergbau/Mineraloel   & Sonstige Industrie            & ja   & west &  & Bereich & 311.483458 & 50-249Besch & 290.131770 & ... & x>=.7    & x>=.7    & 0.031338606 & 0.03232491 & keine Stutzung & keine Stutzung & 0.002553067 & 0.00315247 & keine Stutzung & keine Stutzung\\\\\n",
       "\t 301189 & Energie/Bergbau/Mineraloel   & Sonstige Industrie            & nein & west &  & Bereich & 751.191355 & >=250Besch  &         NA & ... & x>=.7    & x>=.7    & 0.008867039 & 0.01385574 & keine Stutzung & keine Stutzung & 0.153353320 & 0.09401360 & keine Stutzung & keine Stutzung\\\\\n",
       "\t 301282 & Elektroindustrie             & Forschungsintensive Industrie & nein & west &  & Bereich & 169.861436 & 50-249Besch & 169.861430 & ... &          &          &          NA &         NA &                &                &          NA &         NA &                &               \\\\\n",
       "\\end{tabular}\n"
      ],
      "text/markdown": [
       "\n",
       "A data.table: 6 x 284\n",
       "\n",
       "| id &lt;int&gt; | branche &lt;chr&gt; | bran_4 &lt;chr&gt; | filter &lt;chr&gt; | ost &lt;chr&gt; | ustaat &lt;chr&gt; | gb &lt;chr&gt; | bges &lt;dbl&gt; | gk3n &lt;chr&gt; | bges18 &lt;dbl&gt; | ... ... | mkosts &lt;chr&gt; | mkosts19 &lt;chr&gt; | wbp &lt;dbl&gt; | wbp19 &lt;dbl&gt; | wbpx &lt;chr&gt; | wbp19x &lt;chr&gt; | invs &lt;dbl&gt; | invs19 &lt;dbl&gt; | invsx &lt;chr&gt; | invs19x &lt;chr&gt; |\n",
       "|---|---|---|---|---|---|---|---|---|---|---|---|---|---|---|---|---|---|---|---|---|\n",
       "| 300127 | Elektroindustrie             | Forschungsintensive Industrie | nein | ost  | <!----> | Bereich |  38.401396 | 50-249Besch |  38.401398 | ... | <!----> | <!----> |          NA |         NA | <!----> | <!----> |          NA |         NA | <!----> | <!----> |\n",
       "| 301003 | Metallerzeugung/-bearbeitung | Sonstige Industrie            | ja   | ost  | <!----> | Bereich |   4.046923 | &lt;50Besch    |   5.058653 | ... | .5&lt;=x&lt;.7 | .5&lt;=x&lt;.7 | 0.000000000 | 0.00000000 | keine Stutzung | keine Stutzung |          NA |         NA | <!----> | <!----> |\n",
       "| 301078 | Maschinenbau                 | Forschungsintensive Industrie | nein | west | <!----> | Bereich | 497.850854 | &gt;=250Besch  |         NA | ... | .4&lt;=x&lt;.5 | .4&lt;=x&lt;.5 | 0.007223942 | 0.01153213 | keine Stutzung | keine Stutzung | 0.044347249 | 0.06277719 | keine Stutzung | keine Stutzung |\n",
       "| 301084 | Energie/Bergbau/Mineraloel   | Sonstige Industrie            | ja   | west | <!----> | Bereich | 311.483458 | 50-249Besch | 290.131770 | ... | x&gt;=.7    | x&gt;=.7    | 0.031338606 | 0.03232491 | keine Stutzung | keine Stutzung | 0.002553067 | 0.00315247 | keine Stutzung | keine Stutzung |\n",
       "| 301189 | Energie/Bergbau/Mineraloel   | Sonstige Industrie            | nein | west | <!----> | Bereich | 751.191355 | &gt;=250Besch  |         NA | ... | x&gt;=.7    | x&gt;=.7    | 0.008867039 | 0.01385574 | keine Stutzung | keine Stutzung | 0.153353320 | 0.09401360 | keine Stutzung | keine Stutzung |\n",
       "| 301282 | Elektroindustrie             | Forschungsintensive Industrie | nein | west | <!----> | Bereich | 169.861436 | 50-249Besch | 169.861430 | ... | <!----> | <!----> |          NA |         NA | <!----> | <!----> |          NA |         NA | <!----> | <!----> |\n",
       "\n"
      ],
      "text/plain": [
       "  id     branche                      bran_4                        filter ost \n",
       "1 300127 Elektroindustrie             Forschungsintensive Industrie nein   ost \n",
       "2 301003 Metallerzeugung/-bearbeitung Sonstige Industrie            ja     ost \n",
       "3 301078 Maschinenbau                 Forschungsintensive Industrie nein   west\n",
       "4 301084 Energie/Bergbau/Mineraloel   Sonstige Industrie            ja     west\n",
       "5 301189 Energie/Bergbau/Mineraloel   Sonstige Industrie            nein   west\n",
       "6 301282 Elektroindustrie             Forschungsintensive Industrie nein   west\n",
       "  ustaat gb      bges       gk3n        bges18     ... mkosts   mkosts19\n",
       "1        Bereich  38.401396 50-249Besch  38.401398 ...                  \n",
       "2        Bereich   4.046923 <50Besch      5.058653 ... .5<=x<.7 .5<=x<.7\n",
       "3        Bereich 497.850854 >=250Besch          NA ... .4<=x<.5 .4<=x<.5\n",
       "4        Bereich 311.483458 50-249Besch 290.131770 ... x>=.7    x>=.7   \n",
       "5        Bereich 751.191355 >=250Besch          NA ... x>=.7    x>=.7   \n",
       "6        Bereich 169.861436 50-249Besch 169.861430 ...                  \n",
       "  wbp         wbp19      wbpx           wbp19x         invs        invs19    \n",
       "1          NA         NA                                        NA         NA\n",
       "2 0.000000000 0.00000000 keine Stutzung keine Stutzung          NA         NA\n",
       "3 0.007223942 0.01153213 keine Stutzung keine Stutzung 0.044347249 0.06277719\n",
       "4 0.031338606 0.03232491 keine Stutzung keine Stutzung 0.002553067 0.00315247\n",
       "5 0.008867039 0.01385574 keine Stutzung keine Stutzung 0.153353320 0.09401360\n",
       "6          NA         NA                                        NA         NA\n",
       "  invsx          invs19x       \n",
       "1                              \n",
       "2                              \n",
       "3 keine Stutzung keine Stutzung\n",
       "4 keine Stutzung keine Stutzung\n",
       "5 keine Stutzung keine Stutzung\n",
       "6                              "
      ]
     },
     "metadata": {},
     "output_type": "display_data"
    }
   ],
   "source": [
    "# take a look at the first 5 rows\n",
    "head(cis)"
   ]
  },
  {
   "cell_type": "code",
   "execution_count": null,
   "metadata": {
    "vscode": {
     "languageId": "r"
    }
   },
   "outputs": [],
   "source": []
  }
 ],
 "metadata": {
  "kernelspec": {
   "display_name": "R",
   "language": "R",
   "name": "ir"
  },
  "language_info": {
   "codemirror_mode": "r",
   "file_extension": ".r",
   "mimetype": "text/x-r-source",
   "name": "R",
   "pygments_lexer": "r",
   "version": "4.1.2"
  },
  "orig_nbformat": 4
 },
 "nbformat": 4,
 "nbformat_minor": 2
}
